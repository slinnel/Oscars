{
 "cells": [
  {
   "cell_type": "code",
   "execution_count": 15,
   "metadata": {
    "collapsed": false,
    "deletable": true,
    "editable": true
   },
   "outputs": [
    {
     "name": "stdout",
     "output_type": "stream",
     "text": [
      "2016-2\n"
     ]
    }
   ],
   "source": [
    "from bs4 import BeautifulSoup\n",
    "import urllib\n",
    "import urllib2\n",
    "#awards1 = best film\n",
    "#awards4 = best actor\n",
    "#awards7 = best actress\n",
    "#awards11 = director\n",
    "#print(awards[1])\n",
    "globes=[]\n",
    "oscars=[]\n",
    "critics=[]\n",
    "spirits=[]\n",
    "baftas=[]\n",
    "\n",
    "all={}\n",
    "criticsAll={}\n",
    "\n",
    "#critics choice\n",
    "years=[\"2016-2\"]\n",
    "#years = [\"1996\",\"1997\",\"1998\",\"1999\",\"2000\",\"2001\",\"2002\",\"2003\",\"2004\",\"2005\",\"2006\",\"2007\",\"2008\",\"2009\",\"2010\",\"2011\",\"2012\",\"2013\",\"2014\",\"2015\",\"2016-1\"]\n",
    "#years=[\"1997\"]\n",
    "for i in years: \n",
    "    print(i)\n",
    "    url = 'http://www.imdb.com/event/ev0000133/'+ i\n",
    "    page = urllib2.urlopen(url)\n",
    "    soup = BeautifulSoup(page.read(), \"html5lib\")\n",
    "    \n",
    "    thisYear = []\n",
    "    actorsThisYear = []\n",
    "    \n",
    "    htmlActors = u\"\"\n",
    "    for tag in soup.find(\"h2\",text=\"Best Supporting Actor\").next_siblings:\n",
    "        if tag.name == \"h2\":\n",
    "            break\n",
    "        else:\n",
    "            htmlActors += unicode(tag)\n",
    "    #page = soup.findAll(\"div\",{\"class\":\"award\"})\n",
    "    #awards = page[0].findAll(\"blockquote\")\n",
    "    awardsActors= BeautifulSoup(htmlActors, \"html5lib\")\n",
    "    filmActors = awardsActors.findAll(\"a\")\n",
    "    \n",
    "    size=len(filmActors)\n",
    "    indexes=[]\n",
    "    index=1\n",
    "    iterator=range(size)\n",
    "    \n",
    "    add = 0\n",
    "    if(i==\"1996\"):\n",
    "        add=2\n",
    "    \n",
    "    if(i==\"1997\"):\n",
    "                indexes.append(index)\n",
    "                indexes.append(index+5)\n",
    "                indexes.append(index+10)\n",
    "    if(i==\"2001\"):\n",
    "                indexes.append(index+2)\n",
    "                indexes.append(index+5)\n",
    "\n",
    "            \n",
    "    if(i!=\"1997\" and i != \"2001\"):\n",
    "        for j in iterator:  \n",
    "            if(index<size):\n",
    "                indexes.append(index)\n",
    "            index=index+3+add\n",
    "        \n",
    "    for k in indexes: thisYear.append(filmActors[k].text + \" ~ \" + filmActors[k+1].text) \n",
    "    #thisYear.append(actorsThisYear)\n",
    "\n",
    "    if(i==\"2016-2\"):\n",
    "        criticsAll[2017]=thisYear\n",
    "    if(i!=\"2016-2\"):\n",
    "        criticsAll[int(i)]=thisYear\n",
    "\n",
    "all[\"critics\"]=criticsAll"
   ]
  },
  {
   "cell_type": "code",
   "execution_count": null,
   "metadata": {
    "collapsed": true,
    "deletable": true,
    "editable": true
   },
   "outputs": [],
   "source": []
  },
  {
   "cell_type": "code",
   "execution_count": 42,
   "metadata": {
    "collapsed": false,
    "deletable": true,
    "editable": true
   },
   "outputs": [
    {
     "name": "stdout",
     "output_type": "stream",
     "text": [
      "The Yards ~ Joaquin Phoenix\n",
      "Traffic ~ Benicio Del Toro\n"
     ]
    }
   ],
   "source": [
    "for i in  criticsAll[2001]:\n",
    "    print i"
   ]
  },
  {
   "cell_type": "code",
   "execution_count": 39,
   "metadata": {
    "collapsed": false,
    "deletable": true,
    "editable": true
   },
   "outputs": [],
   "source": [
    "thisYear=[u'Jackie ~ Natalie Portman', u'Elle ~ Isabelle Huppert', u'Loving ~ Ruth Negga',u'La La Land ~ Emma Stone',u'Arrival ~ Amy Adams',u'20th Century Women ~ Annette Bening']\n",
    "criticsAll[2017]=thisYear\n",
    "all[\"critics\"]=criticsAll"
   ]
  },
  {
   "cell_type": "code",
   "execution_count": null,
   "metadata": {
    "collapsed": false,
    "deletable": true,
    "editable": true
   },
   "outputs": [],
   "source": []
  },
  {
   "cell_type": "code",
   "execution_count": null,
   "metadata": {
    "collapsed": true,
    "deletable": true,
    "editable": true
   },
   "outputs": [],
   "source": []
  },
  {
   "cell_type": "code",
   "execution_count": null,
   "metadata": {
    "collapsed": false,
    "deletable": true,
    "editable": true
   },
   "outputs": [],
   "source": []
  },
  {
   "cell_type": "code",
   "execution_count": 17,
   "metadata": {
    "collapsed": false,
    "deletable": true,
    "editable": true
   },
   "outputs": [
    {
     "name": "stdout",
     "output_type": "stream",
     "text": [
      "2017\n"
     ]
    }
   ],
   "source": [
    "oscarsAll={}\n",
    "awardName=\"Best Performance by an Actor in a Supporting Role\"\n",
    "#oscars\n",
    "years = [\"1996\",\"1997\",\"1998\",\"1999\",\"2000\",\"2001\",\"2002\",\"2003\",\"2004\",\"2005\",\"2006\",\"2007\",\"2008\",\"2009\",\"2010\",\"2011\",\"2012\",\"2013\",\"2014\",\"2015\",\"2016\"]\n",
    "years=[\"2017\"]\n",
    "for i in years: \n",
    "    print(i)\n",
    "    url = 'http://www.imdb.com/event/ev000003/'+ i\n",
    "    page = urllib2.urlopen(url)\n",
    "    soup = BeautifulSoup(page.read(), \"html5lib\")\n",
    "    \n",
    "    thisYear = []\n",
    "    actorsThisYear = []\n",
    "    if(i==\"2005\"):\n",
    "        awardName=\"Best Performance by an Actor in a Supporting Role\"\n",
    "    htmlActors = u\"\"\n",
    "    for tag in soup.find(\"h2\",text=awardName).next_siblings:\n",
    "        if tag.name == \"h2\":\n",
    "            break\n",
    "        else:\n",
    "            htmlActors += unicode(tag)\n",
    "    #page = soup.findAll(\"div\",{\"class\":\"award\"})\n",
    "    #awards = page[0].findAll(\"blockquote\")\n",
    "    awardsActors= BeautifulSoup(htmlActors, \"html5lib\")\n",
    "    filmActors = awardsActors.findAll(\"a\")\n",
    "    \n",
    "    size=len(filmActors)\n",
    "    indexes=[]\n",
    "    index=1\n",
    "    iterator=range(size)\n",
    "    \n",
    "    for j in iterator:  \n",
    "        if(index<size):\n",
    "            indexes.append(index)\n",
    "        index=index+3\n",
    "        \n",
    "    if(i == \"2012\"):\n",
    "        index=1\n",
    "        indexes=[]\n",
    "        indexes.append(index)\n",
    "        indexes.append(index+4)\n",
    "        indexes.append(index+7)\n",
    "        indexes.append(index+10)\n",
    "        indexes.append(index+13)\n",
    "\n",
    "    \n",
    "        \n",
    "    for k in indexes: thisYear.append(filmActors[k].text + \" ~ \" + filmActors[k+1].text) \n",
    "    #thisYear.append(actorsThisYear)\n",
    "\n",
    "    if(i==\"2016-1\"):\n",
    "        oscarsAll[2016]=thisYear\n",
    "    if(i!=\"2016-1\"):\n",
    "        oscarsAll[int(i)]=thisYear\n",
    "\n",
    "all[\"oscars\"]=oscarsAll"
   ]
  },
  {
   "cell_type": "code",
   "execution_count": 13,
   "metadata": {
    "collapsed": false,
    "deletable": true,
    "editable": true
   },
   "outputs": [],
   "source": [
    "thisYear=[u'Elle ~ Isabelle Huppert', u'Loving ~ Ruth Negga',u'Jackie ~ Natalie Portman',u'La La Land ~ Emma Stone',u'Florence Foster Jenkins ~ Meryl Streep']\n",
    "oscarsAll[2017]=thisYear\n",
    "all[\"oscars\"]=oscarsAll\n"
   ]
  },
  {
   "cell_type": "code",
   "execution_count": 18,
   "metadata": {
    "collapsed": false,
    "deletable": true,
    "editable": true
   },
   "outputs": [
    {
     "name": "stdout",
     "output_type": "stream",
     "text": [
      "2017\n"
     ]
    }
   ],
   "source": [
    "globesAll={}\n",
    "\n",
    "#globes\n",
    "years=[\"2017\"]\n",
    "\n",
    "#years = [\"1996\",\"1997\",\"1998\",\"1999\",\"2000\",\"2001\",\"2002\",\"2003\",\"2004\",\"2005\",\"2006\",\"2007\",\"2008\",\"2009\",\"2010\",\"2011\",\"2012\",\"2013\",\"2014\",\"2015\",\"2016\"]\n",
    "for i in years: \n",
    "    print(i)\n",
    "    url = 'http://www.imdb.com/event/ev0000292/'+ i\n",
    "    page = urllib2.urlopen(url)\n",
    "    soup = BeautifulSoup(page.read(), \"html5lib\")\n",
    "    \n",
    "    thisYear = []\n",
    "    actorsThisYear = []\n",
    "    \n",
    "    htmlActors = u\"\"\n",
    "    for tag in soup.find(\"h2\",text=\"Best Performance by an Actor in a Supporting Role in a Motion Picture\").next_siblings:\n",
    "        if tag.name == \"h2\":\n",
    "            break\n",
    "        else:\n",
    "            htmlActors += unicode(tag)\n",
    "    #page = soup.findAll(\"div\",{\"class\":\"award\"})\n",
    "    #awards = page[0].findAll(\"blockquote\")\n",
    "    awardsActors= BeautifulSoup(htmlActors, \"html5lib\")\n",
    "    filmActors = awardsActors.findAll(\"a\")\n",
    "    \n",
    "    size=len(filmActors)\n",
    "    indexes=[]\n",
    "    index=1\n",
    "    iterator=range(size)\n",
    "    \n",
    "    for j in iterator:  \n",
    "        if(index<size):\n",
    "            indexes.append(index)\n",
    "        index=index+3\n",
    "        \n",
    "    for k in indexes: thisYear.append(filmActors[k].text + \" ~ \" + filmActors[k+1].text) \n",
    "    #thisYear.append(actorsThisYear)\n",
    "\n",
    "\n",
    "    globesAll[int(i)]=thisYear\n",
    "\n",
    "all[\"globes\"]=globesAll"
   ]
  },
  {
   "cell_type": "code",
   "execution_count": 19,
   "metadata": {
    "collapsed": false,
    "deletable": true,
    "editable": true
   },
   "outputs": [
    {
     "name": "stdout",
     "output_type": "stream",
     "text": [
      "2017\n"
     ]
    }
   ],
   "source": [
    "baftasAll={}\n",
    "\n",
    "awardName=\"Best Supporting Actor\"\n",
    "\n",
    "#baftas\n",
    "for i in years: \n",
    "    print(i)\n",
    "    url = 'http://www.imdb.com/event/ev0000123/'+ i\n",
    "    page = urllib2.urlopen(url)\n",
    "    soup = BeautifulSoup(page.read(), \"html5lib\")\n",
    "    \n",
    "    thisYear = []\n",
    "    actorsThisYear = []\n",
    "    htmlActors = u\"\"\n",
    "    \n",
    "    \n",
    "    if(i == \"2007\"):\n",
    "        awardName=\"Best Actress in a Supporting Role\"\n",
    "        \n",
    "    if(i==\"2008\"):\n",
    "        awardName =\"Best Supporting Actress\"\n",
    "        \n",
    "\n",
    "\n",
    "    for tag in soup.find(\"h2\",text=awardName).next_siblings:\n",
    "        if tag.name == \"h2\":\n",
    "            break\n",
    "        else:\n",
    "            htmlActors += unicode(tag)\n",
    "    #page = soup.findAll(\"div\",{\"class\":\"award\"})\n",
    "    #awards = page[0].findAll(\"blockquote\")\n",
    "    awardsActors= BeautifulSoup(htmlActors, \"html5lib\")\n",
    "    filmActors = awardsActors.findAll(\"a\")\n",
    "    \n",
    "    size=len(filmActors)\n",
    "    indexes=[]\n",
    "    index=1\n",
    "    iterator=range(size)\n",
    "    \n",
    "    for j in iterator:  \n",
    "        if(index<size):\n",
    "            indexes.append(index)\n",
    "        index=index+3\n",
    "        \n",
    "    for k in indexes: thisYear.append(filmActors[k].text + \" ~ \" + filmActors[k+1].text) \n",
    "    #thisYear.append(actorsThisYear)\n",
    "\n",
    "    baftasAll[int(i)]=thisYear\n",
    "\n",
    "all[\"baftas\"]=baftasAll"
   ]
  },
  {
   "cell_type": "code",
   "execution_count": 20,
   "metadata": {
    "collapsed": false,
    "deletable": true,
    "editable": true
   },
   "outputs": [
    {
     "name": "stdout",
     "output_type": "stream",
     "text": [
      "2017\n"
     ]
    }
   ],
   "source": [
    "spiritsAll={}\n",
    "\n",
    "#spirits\n",
    "for i in years: \n",
    "    print(i)\n",
    "    url = 'http://www.imdb.com/event/ev0000349/'+ i\n",
    "    page = urllib2.urlopen(url)\n",
    "    soup = BeautifulSoup(page.read(), \"html5lib\")\n",
    "    \n",
    "    thisYear = []\n",
    "    actorsThisYear = []\n",
    "    htmlActors = u\"\"\n",
    "    for tag in soup.find(\"h2\",text=\"Best Supporting Male\").next_siblings:\n",
    "        if tag.name == \"h2\":\n",
    "            break\n",
    "        else:\n",
    "            htmlActors += unicode(tag)\n",
    "    #page = soup.findAll(\"div\",{\"class\":\"award\"})\n",
    "    #awards = page[0].findAll(\"blockquote\")\n",
    "    awardsActors= BeautifulSoup(htmlActors, \"html5lib\")\n",
    "    filmActors = awardsActors.findAll(\"a\")\n",
    "    \n",
    "    size=len(filmActors)\n",
    "    indexes=[]\n",
    "    index=1\n",
    "    iterator=range(size)\n",
    "    \n",
    "    for j in iterator:  \n",
    "        if(index<size):\n",
    "            indexes.append(index)\n",
    "        index=index+3\n",
    "        \n",
    "    for k in indexes: thisYear.append(filmActors[k].text + \" ~ \" + filmActors[k+1].text) \n",
    "    #thisYear.append(actorsThisYear)\n",
    "\n",
    "    spiritsAll[int(i)]=thisYear\n",
    "\n",
    "all[\"spirits\"]=spiritsAll"
   ]
  },
  {
   "cell_type": "code",
   "execution_count": 21,
   "metadata": {
    "collapsed": false,
    "deletable": true,
    "editable": true
   },
   "outputs": [
    {
     "name": "stdout",
     "output_type": "stream",
     "text": [
      "2017\n"
     ]
    }
   ],
   "source": [
    "sagsAll={}\n",
    "#sags\n",
    "for i in years: \n",
    "    print(i)\n",
    "    url = 'http://www.imdb.com/event/ev0000598/'+ i\n",
    "    page = urllib2.urlopen(url)\n",
    "    soup = BeautifulSoup(page.read(), \"html5lib\")\n",
    "    \n",
    "    thisYear = []\n",
    "    actorsThisYear = []\n",
    "    \n",
    "    htmlActors = u\"\"\n",
    "    for tag in soup.find(\"h2\",text=\"Outstanding Performance by a Male Actor in a Supporting Role\").next_siblings:\n",
    "        if tag.name == \"h2\":\n",
    "            break\n",
    "        else:\n",
    "            htmlActors += unicode(tag)\n",
    "    #page = soup.findAll(\"div\",{\"class\":\"award\"})\n",
    "    #awards = page[0].findAll(\"blockquote\")\n",
    "    awardsActors= BeautifulSoup(htmlActors, \"html5lib\")\n",
    "    filmActors = awardsActors.findAll(\"a\")\n",
    "    \n",
    "    size=len(filmActors)\n",
    "    indexes=[]\n",
    "    index=1\n",
    "    iterator=range(size)\n",
    "    \n",
    "    for j in iterator:  \n",
    "        if(index<size):\n",
    "            indexes.append(index)\n",
    "        index=index+3\n",
    "        \n",
    "    if(i==\"2013\"):\n",
    "        indexes=[]\n",
    "        indexes.append(1)\n",
    "        indexes.append(5)\n",
    "        indexes.append(8)\n",
    "        indexes.append(11)\n",
    "        indexes.append(14)\n",
    "\n",
    "\n",
    "\n",
    "    for k in indexes: thisYear.append(filmActors[k].text + \" ~ \" + filmActors[k+1].text) \n",
    "    #thisYear.append(actorsThisYear)\n",
    "\n",
    "    sagsAll[int(i)]=thisYear\n",
    "\n",
    "all[\"sags\"]=sagsAll"
   ]
  },
  {
   "cell_type": "code",
   "execution_count": 57,
   "metadata": {
    "collapsed": false,
    "deletable": true,
    "editable": true
   },
   "outputs": [],
   "source": [
    "#no best actor until 2013, not useful data?\n",
    "\n",
    "\n",
    "#gothamsAll={}\n",
    "\n",
    "#gothams\n",
    "#for i in years: \n",
    "    #url = 'http://www.imdb.com/event/ev0000298/'+ i\n",
    "    #page = urllib2.urlopen(url)\n",
    "    #soup = BeautifulSoup(page.read(), \"html5lib\")\n",
    "    \n",
    "    #thisYear = []\n",
    "    #actorsThisYear = []\n",
    "    #print(i)\n",
    "    #htmlActors = u\"\"\n",
    "    #for tag in soup.find(\"h2\",text=\"Best Actor\").next_siblings:\n",
    "       # if tag.name == \"h2\":\n",
    "      #      break\n",
    "     #   else:\n",
    "    #        htmlActors += unicode(tag)\n",
    "\n",
    "   # awardsActors= BeautifulSoup(htmlActors, \"html5lib\")\n",
    "  #  filmActors = awardsActors.findAll(\"a\")\n",
    "    \n",
    " #   size=len(filmActors)\n",
    "#    indexes=[]\n",
    "    #index=1\n",
    "    #iterator=range(size)\n",
    "    \n",
    "    #for j in iterator:  \n",
    "     #   if(index<size):\n",
    "    #        indexes.append(index)\n",
    "   #     index=index+3\n",
    "        \n",
    "  #  for k in indexes: thisYear.append(filmActors[k].text + \" , \" + filmActors[k+1].text) \n",
    "\n",
    " #   gothamsAll[int(i)]=thisYear\n",
    "\n",
    "#all[\"gothams\"]=gothamsAll"
   ]
  },
  {
   "cell_type": "code",
   "execution_count": 13,
   "metadata": {
    "collapsed": false,
    "deletable": true,
    "editable": true
   },
   "outputs": [
    {
     "name": "stdout",
     "output_type": "stream",
     "text": [
      "('spirits', [u'Hell or High Water ~ Ben Foster', u'A Bigger Splash ~ Ralph Fiennes', u'Manchester by the Sea ~ Lucas Hedges', u'American Honey ~ Shia LaBeouf', u'Morris from America ~ Craig Robinson'])\n",
      "\n",
      "('baftas', [u'Lion ~ Dev Patel', u'Nocturnal Animals ~ Aaron Taylor-Johnson', u'Florence Foster Jenkins ~ Hugh Grant', u'Hell or High Water ~ Jeff Bridges', u'Moonlight ~ Mahershala Ali'])\n",
      "\n"
     ]
    },
    {
     "ename": "KeyError",
     "evalue": "2017",
     "output_type": "error",
     "traceback": [
      "\u001b[0;31m---------------------------------------------------------------------------\u001b[0m",
      "\u001b[0;31mKeyError\u001b[0m                                  Traceback (most recent call last)",
      "\u001b[0;32m<ipython-input-13-9814100cde88>\u001b[0m in \u001b[0;36m<module>\u001b[0;34m()\u001b[0m\n\u001b[1;32m      1\u001b[0m \u001b[0;32mfor\u001b[0m \u001b[0mi\u001b[0m \u001b[0;32min\u001b[0m \u001b[0mall\u001b[0m\u001b[0;34m:\u001b[0m\u001b[0;34m\u001b[0m\u001b[0m\n\u001b[0;32m----> 2\u001b[0;31m     \u001b[0;32mprint\u001b[0m\u001b[0;34m(\u001b[0m\u001b[0mi\u001b[0m\u001b[0;34m,\u001b[0m\u001b[0mall\u001b[0m\u001b[0;34m[\u001b[0m\u001b[0mi\u001b[0m\u001b[0;34m]\u001b[0m\u001b[0;34m[\u001b[0m\u001b[0;36m2017\u001b[0m\u001b[0;34m]\u001b[0m\u001b[0;34m)\u001b[0m\u001b[0;34m\u001b[0m\u001b[0m\n\u001b[0m\u001b[1;32m      3\u001b[0m     \u001b[0;32mprint\u001b[0m\u001b[0;34m(\u001b[0m\u001b[0;34m\"\"\u001b[0m\u001b[0;34m)\u001b[0m\u001b[0;34m\u001b[0m\u001b[0m\n",
      "\u001b[0;31mKeyError\u001b[0m: 2017"
     ]
    }
   ],
   "source": [
    "for i in all:\n",
    "    print(i,all[i][2017])\n",
    "    print(\"\")"
   ]
  },
  {
   "cell_type": "code",
   "execution_count": 23,
   "metadata": {
    "collapsed": false,
    "deletable": true,
    "editable": true
   },
   "outputs": [],
   "source": [
    "scores={}"
   ]
  },
  {
   "cell_type": "code",
   "execution_count": 24,
   "metadata": {
    "collapsed": false,
    "deletable": true,
    "editable": true
   },
   "outputs": [
    {
     "name": "stdout",
     "output_type": "stream",
     "text": [
      "Hell or High Water ~ Ben Foster\n",
      "adding to table\n",
      "won\n",
      "A Bigger Splash ~ Ralph Fiennes\n",
      "adding to table\n",
      "nom\n",
      "Manchester by the Sea ~ Lucas Hedges\n",
      "adding to table\n",
      "nom\n",
      "American Honey ~ Shia LaBeouf\n",
      "adding to table\n",
      "nom\n",
      "Morris from America ~ Craig Robinson\n",
      "adding to table\n",
      "nom\n",
      "Lion ~ Dev Patel\n",
      "adding to table\n",
      "won\n",
      "Nocturnal Animals ~ Aaron Taylor-Johnson\n",
      "adding to table\n",
      "nom\n",
      "Florence Foster Jenkins ~ Hugh Grant\n",
      "adding to table\n",
      "nom\n",
      "Hell or High Water ~ Jeff Bridges\n",
      "adding to table\n",
      "nom\n",
      "Moonlight ~ Mahershala Ali\n",
      "adding to table\n",
      "nom\n",
      "Moonlight ~ Mahershala Ali\n",
      "won\n",
      "Hell or High Water ~ Jeff Bridges\n",
      "nom\n",
      "Hell or High Water ~ Ben Foster\n",
      "nom\n",
      "Manchester by the Sea ~ Lucas Hedges\n",
      "nom\n",
      "Lion ~ Dev Patel\n",
      "nom\n",
      "Nocturnal Animals ~ Michael Shannon\n",
      "adding to table\n",
      "nom\n",
      "Nocturnal Animals ~ Aaron Taylor-Johnson\n",
      "won\n",
      "Moonlight ~ Mahershala Ali\n",
      "nom\n",
      "Hell or High Water ~ Jeff Bridges\n",
      "nom\n",
      "Florence Foster Jenkins ~ Simon Helberg\n",
      "adding to table\n",
      "nom\n",
      "Lion ~ Dev Patel\n",
      "nom\n",
      "Moonlight ~ Mahershala Ali\n",
      "won\n",
      "Hell or High Water ~ Jeff Bridges\n",
      "nom\n",
      "Florence Foster Jenkins ~ Hugh Grant\n",
      "nom\n",
      "Manchester by the Sea ~ Lucas Hedges\n",
      "nom\n",
      "Lion ~ Dev Patel\n",
      "nom\n"
     ]
    }
   ],
   "source": [
    "for award in all: #for each award (i)\n",
    "    \n",
    "    if(award != \"oscars\"):\n",
    "        \n",
    "        for year in all[award]: #for each year (j)\n",
    "            \n",
    "            if year == 2017:\n",
    "                if year not in scores:\n",
    "                    scores[year]={};\n",
    "                    \n",
    "                for movie in all[award][year]:\n",
    "                    print(movie)\n",
    "                    if movie not in scores[year]:\n",
    "                        scores[year][movie]={}\n",
    "                        scores[year][movie][\"won\"]=0\n",
    "                        scores[year][movie][\"nom\"]=0\n",
    "                        print(\"adding to table\")\n",
    "                    \n",
    "                    if(all[award][year][0]==movie):\n",
    "                        if movie in scores[year]:\n",
    "                            scores[year][movie][\"won\"]+=1\n",
    "                            scores[year][movie][\"nom\"]+=1\n",
    "                            print(\"won\")\n",
    "                    else:\n",
    "                        if movie in scores[year]:\n",
    "                            scores[year][movie][\"nom\"]+=1\n",
    "                            print(\"nom\")\n",
    "\n"
   ]
  },
  {
   "cell_type": "code",
   "execution_count": 25,
   "metadata": {
    "collapsed": true,
    "deletable": true,
    "editable": true
   },
   "outputs": [],
   "source": [
    "scores[2017]={}\n",
    "for award in all: #for each award (i)\n",
    "    \n",
    "    if(award != \"oscars\"):\n",
    "        \n",
    "        for year in all[award]: #for each year (j)\n",
    "            \n",
    "            if year == 2017:\n",
    "                \n",
    "                for movie in all[award][year]:\n",
    "                    \n",
    "                    if movie not in scores[year]:\n",
    "                        scores[year][movie]={}\n",
    "                        scores[year][movie][\"won\"]=0\n",
    "                        scores[year][movie][\"nom\"]=0\n",
    "                    \n",
    "                    if(all[award][year][0]==movie):\n",
    "                        if movie in scores[year]:\n",
    "                            scores[year][movie][\"won\"]+=1\n",
    "                            scores[year][movie][\"nom\"]+=1\n",
    "\n",
    "                        else:\n",
    "                            scores[year][movie]=5\n",
    "                    else:\n",
    "                        if movie in scores[year]:\n",
    "                            scores[year][movie][\"nom\"]+=1\n",
    "                        else:\n",
    "                            scores[year][movie]=2"
   ]
  },
  {
   "cell_type": "code",
   "execution_count": null,
   "metadata": {
    "collapsed": false,
    "deletable": true,
    "editable": true
   },
   "outputs": [],
   "source": []
  },
  {
   "cell_type": "code",
   "execution_count": null,
   "metadata": {
    "collapsed": false,
    "deletable": true,
    "editable": true
   },
   "outputs": [],
   "source": []
  },
  {
   "cell_type": "code",
   "execution_count": null,
   "metadata": {
    "collapsed": false,
    "deletable": true,
    "editable": true
   },
   "outputs": [],
   "source": []
  },
  {
   "cell_type": "code",
   "execution_count": 27,
   "metadata": {
    "collapsed": false,
    "deletable": true,
    "editable": true
   },
   "outputs": [
    {
     "name": "stdout",
     "output_type": "stream",
     "text": [
      "Manchester by the Sea ~ Lucas Hedges  | won:  0 | nom:  3 | %:  0.0\n",
      "Lion ~ Dev Patel  | won:  1 | nom:  4 | %:  25.0\n",
      "Nocturnal Animals ~ Michael Shannon  | won:  0 | nom:  1 | %:  0.0\n",
      "Hell or High Water ~ Jeff Bridges  | won:  0 | nom:  4 | %:  0.0\n",
      "Moonlight ~ Mahershala Ali  | won:  2 | nom:  4 | %:  50.0\n"
     ]
    }
   ],
   "source": [
    "#prints % data from specified year, filters for oscar nominees\n",
    "year=2017\n",
    "for movie in scores[year]:\n",
    "    if movie in oscarsAll[year]:\n",
    "        percent = float(scores[year][movie][\"won\"])/float(scores[year][movie][\"nom\"]) * float(100)\n",
    "        print movie ,\" | won: \", scores[year][movie][\"won\"], \"| nom: \", scores[year][movie][\"nom\"], \"| %: \", percent\n",
    "    #print scores[2016][i]"
   ]
  },
  {
   "cell_type": "code",
   "execution_count": 28,
   "metadata": {
    "collapsed": false,
    "deletable": true,
    "editable": true
   },
   "outputs": [
    {
     "name": "stdout",
     "output_type": "stream",
     "text": [
      "Moonlight ~ Mahershala Ali\n",
      "Moonlight  Mahershala Ali\n",
      "Hell or High Water ~ Jeff Bridges\n",
      "Hell or High Water  Jeff Bridges\n",
      "Manchester by the Sea ~ Lucas Hedges\n",
      "Manchester by the Sea  Lucas Hedges\n",
      "Lion ~ Dev Patel\n",
      "Lion  Dev Patel\n",
      "Nocturnal Animals ~ Michael Shannon\n",
      "Nocturnal Animals  Michael Shannon\n"
     ]
    }
   ],
   "source": [
    "#oscarsAllREVIEWS\n",
    "import csv\n",
    "with open('sadata2017.csv', 'wb') as csvfile:\n",
    "    spamwriter = csv.writer(csvfile, delimiter=',', quoting=csv.QUOTE_MINIMAL)\n",
    "    spamwriter.writerow([\"year\", \"movie\",\"actor\", \"wins\", \"noms\", \"%won\", \"oscarwin\", \"globewin\"])\n",
    "    #years = [\"1996\",\"1997\",\"1998\",\"1999\",\"2000\",\"2001\",\"2002\",\"2003\",\"2004\",\"2005\",\"2006\",\"2007\",\"2008\",\"2009\",\"2010\",\"2011\",\"2012\",\"2013\",\"2014\",\"2015\",\"2016\"]\n",
    "    years=[\"2017\"]\n",
    "    for year in years:\n",
    "        year=int(year)\n",
    "        counter = 0\n",
    "        \n",
    "        for movie in oscarsAll[year]:\n",
    "            \n",
    "            print(movie)\n",
    "            mList = movie.split(\"~\")\n",
    "            name = mList[0]\n",
    "            actor = mList[1]\n",
    "            if movie == all[\"globes\"][year][0]:\n",
    "                globewin = \"yes\"\n",
    "            else:\n",
    "                globewin = \"no\"\n",
    "            if movie in scores[year]:\n",
    "                wins = (scores[year][movie][\"won\"])\n",
    "                noms = (scores[year][movie][\"nom\"])\n",
    "                percent = float(scores[year][movie][\"won\"])/float(scores[year][movie][\"nom\"]) * float(100)\n",
    "            else: \n",
    "                wins = 0\n",
    "                noms = 0\n",
    "                percent = 0\n",
    "                \n",
    "            if movie == all[\"oscars\"][year][0]:\n",
    "                won = \"yes\"\n",
    "            else:\n",
    "                won = \"no\"\n",
    "                \n",
    "            if \"Les\" in movie:\n",
    "                spamwriter.writerow([year, \"Les Mis\",actor, wins, noms, percent, won, globewin])\n",
    "            elif \" Sevigny\" in actor:\n",
    "                spamwriter.writerow([year, name,\"Chloe Sevigny\", wins, noms, percent, won, globewin])\n",
    "            elif \"e Zellweger\" in actor:\n",
    "                spamwriter.writerow([year, name,\"Renee Zellweger\", wins, noms, percent, won, globewin])\n",
    "            elif \"lope Cruz\" in actor:\n",
    "                spamwriter.writerow([year, name,\"Penelope Cruz\", wins, noms, percent, won, globewin])\n",
    "            elif \"nice Bejo\" in actor:\n",
    "                spamwriter.writerow([year, name,\"Berenice Bejo\", wins, noms, percent, won, globewin])                \n",
    "            else:\n",
    "                print(name+actor)\n",
    "                spamwriter.writerow([year, name,actor, wins, noms, percent, won,globewin])\n",
    "            counter = counter + 1"
   ]
  },
  {
   "cell_type": "code",
   "execution_count": 29,
   "metadata": {
    "collapsed": false,
    "deletable": true,
    "editable": true
   },
   "outputs": [
    {
     "name": "stdout",
     "output_type": "stream",
     "text": [
      "spirits\n",
      "[u'Hell or High Water ~ Ben Foster', u'A Bigger Splash ~ Ralph Fiennes', u'Manchester by the Sea ~ Lucas Hedges', u'American Honey ~ Shia LaBeouf', u'Morris from America ~ Craig Robinson']\n",
      "baftas\n",
      "[u'Lion ~ Dev Patel', u'Nocturnal Animals ~ Aaron Taylor-Johnson', u'Florence Foster Jenkins ~ Hugh Grant', u'Hell or High Water ~ Jeff Bridges', u'Moonlight ~ Mahershala Ali']\n",
      "critics\n",
      "[u'Moonlight ~ Mahershala Ali', u'Hell or High Water ~ Jeff Bridges', u'Hell or High Water ~ Ben Foster', u'Manchester by the Sea ~ Lucas Hedges', u'Lion ~ Dev Patel', u'Nocturnal Animals ~ Michael Shannon']\n",
      "oscars\n",
      "[u'Moonlight ~ Mahershala Ali', u'Hell or High Water ~ Jeff Bridges', u'Manchester by the Sea ~ Lucas Hedges', u'Lion ~ Dev Patel', u'Nocturnal Animals ~ Michael Shannon']\n",
      "globes\n",
      "[u'Nocturnal Animals ~ Aaron Taylor-Johnson', u'Moonlight ~ Mahershala Ali', u'Hell or High Water ~ Jeff Bridges', u'Florence Foster Jenkins ~ Simon Helberg', u'Lion ~ Dev Patel']\n",
      "sags\n",
      "[u'Moonlight ~ Mahershala Ali', u'Hell or High Water ~ Jeff Bridges', u'Florence Foster Jenkins ~ Hugh Grant', u'Manchester by the Sea ~ Lucas Hedges', u'Lion ~ Dev Patel']\n"
     ]
    }
   ],
   "source": [
    "for i in all:\n",
    "    print i\n",
    "    print all[i][2017]"
   ]
  },
  {
   "cell_type": "code",
   "execution_count": 39,
   "metadata": {
    "collapsed": false
   },
   "outputs": [
    {
     "name": "stdout",
     "output_type": "stream",
     "text": [
      "Nocturnal Animals ~ Aaron Taylor-Johnson\n",
      "Nocturnal Animals ~ Michael Shannon\n"
     ]
    }
   ],
   "source": [
    "print all[\"globes\"][year][0]\n",
    "print oscarsAll[year][4]"
   ]
  },
  {
   "cell_type": "code",
   "execution_count": 38,
   "metadata": {
    "collapsed": false
   },
   "outputs": [
    {
     "data": {
      "text/plain": [
       "False"
      ]
     },
     "execution_count": 38,
     "metadata": {},
     "output_type": "execute_result"
    }
   ],
   "source": [
    "oscarsAll[year][4] == all[\"globes\"][year][0]"
   ]
  }
 ],
 "metadata": {
  "kernelspec": {
   "display_name": "Python 2",
   "language": "python",
   "name": "python2"
  },
  "language_info": {
   "codemirror_mode": {
    "name": "ipython",
    "version": 2
   },
   "file_extension": ".py",
   "mimetype": "text/x-python",
   "name": "python",
   "nbconvert_exporter": "python",
   "pygments_lexer": "ipython2",
   "version": "2.7.13"
  }
 },
 "nbformat": 4,
 "nbformat_minor": 2
}
