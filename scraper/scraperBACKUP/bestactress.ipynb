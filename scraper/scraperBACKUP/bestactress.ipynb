{
 "cells": [
  {
   "cell_type": "code",
   "execution_count": 35,
   "metadata": {
    "collapsed": false,
    "deletable": true,
    "editable": true
   },
   "outputs": [
    {
     "name": "stdout",
     "output_type": "stream",
     "text": [
      "2017\n"
     ]
    },
    {
     "ename": "AttributeError",
     "evalue": "'NoneType' object has no attribute 'next_siblings'",
     "output_type": "error",
     "traceback": [
      "\u001b[0;31m---------------------------------------------------------------------------\u001b[0m",
      "\u001b[0;31mAttributeError\u001b[0m                            Traceback (most recent call last)",
      "\u001b[0;32m<ipython-input-35-87f02e0a1597>\u001b[0m in \u001b[0;36m<module>\u001b[0;34m()\u001b[0m\n\u001b[1;32m     29\u001b[0m \u001b[0;34m\u001b[0m\u001b[0m\n\u001b[1;32m     30\u001b[0m     \u001b[0mhtmlActors\u001b[0m \u001b[0;34m=\u001b[0m \u001b[0;34mu\"\"\u001b[0m\u001b[0;34m\u001b[0m\u001b[0m\n\u001b[0;32m---> 31\u001b[0;31m     \u001b[0;32mfor\u001b[0m \u001b[0mtag\u001b[0m \u001b[0;32min\u001b[0m \u001b[0msoup\u001b[0m\u001b[0;34m.\u001b[0m\u001b[0mfind\u001b[0m\u001b[0;34m(\u001b[0m\u001b[0;34m\"h2\"\u001b[0m\u001b[0;34m,\u001b[0m\u001b[0mtext\u001b[0m\u001b[0;34m=\u001b[0m\u001b[0;34m\"Best Actress\"\u001b[0m\u001b[0;34m)\u001b[0m\u001b[0;34m.\u001b[0m\u001b[0mnext_siblings\u001b[0m\u001b[0;34m:\u001b[0m\u001b[0;34m\u001b[0m\u001b[0m\n\u001b[0m\u001b[1;32m     32\u001b[0m         \u001b[0;32mif\u001b[0m \u001b[0mtag\u001b[0m\u001b[0;34m.\u001b[0m\u001b[0mname\u001b[0m \u001b[0;34m==\u001b[0m \u001b[0;34m\"h2\"\u001b[0m\u001b[0;34m:\u001b[0m\u001b[0;34m\u001b[0m\u001b[0m\n\u001b[1;32m     33\u001b[0m             \u001b[0;32mbreak\u001b[0m\u001b[0;34m\u001b[0m\u001b[0m\n",
      "\u001b[0;31mAttributeError\u001b[0m: 'NoneType' object has no attribute 'next_siblings'"
     ]
    }
   ],
   "source": [
    "from bs4 import BeautifulSoup\n",
    "import urllib\n",
    "import urllib2\n",
    "#awards1 = best film\n",
    "#awards4 = best actor\n",
    "#awards7 = best actress\n",
    "#awards11 = director\n",
    "#print(awards[1])\n",
    "globes=[]\n",
    "oscars=[]\n",
    "critics=[]\n",
    "spirits=[]\n",
    "baftas=[]\n",
    "\n",
    "all={}\n",
    "criticsAll={}\n",
    "\n",
    "#critics choice\n",
    "years=[\"2017\"]\n",
    "years = [\"1996\",\"1997\",\"1998\",\"1999\",\"2000\",\"2001\",\"2002\",\"2003\",\"2004\",\"2005\",\"2006\",\"2007\",\"2008\",\"2009\",\"2010\",\"2011\",\"2012\",\"2013\",\"2014\",\"2015\",\"2016-1\"]\n",
    "for i in years: \n",
    "    print(i)\n",
    "    url = 'http://www.imdb.com/event/ev0000133/'+ i\n",
    "    page = urllib2.urlopen(url)\n",
    "    soup = BeautifulSoup(page.read(), \"html5lib\")\n",
    "    \n",
    "    thisYear = []\n",
    "    actorsThisYear = []\n",
    "    \n",
    "    htmlActors = u\"\"\n",
    "    for tag in soup.find(\"h2\",text=\"Best Actress\").next_siblings:\n",
    "        if tag.name == \"h2\":\n",
    "            break\n",
    "        else:\n",
    "            htmlActors += unicode(tag)\n",
    "    #page = soup.findAll(\"div\",{\"class\":\"award\"})\n",
    "    #awards = page[0].findAll(\"blockquote\")\n",
    "    awardsActors= BeautifulSoup(htmlActors, \"html5lib\")\n",
    "    filmActors = awardsActors.findAll(\"a\")\n",
    "    \n",
    "    size=len(filmActors)\n",
    "    indexes=[]\n",
    "    index=1\n",
    "    iterator=range(size)\n",
    "    \n",
    "    for j in iterator:  \n",
    "        if(index<size):\n",
    "            indexes.append(index)\n",
    "        index=index+3\n",
    "        \n",
    "    for k in indexes: thisYear.append(filmActors[k].text + \" ~ \" + filmActors[k+1].text) \n",
    "    #thisYear.append(actorsThisYear)\n",
    "\n",
    "    if(i==\"2016-1\"):\n",
    "        criticsAll[2016]=thisYear\n",
    "    if(i!=\"2016-1\"):\n",
    "        criticsAll[int(i)]=thisYear\n",
    "\n",
    "all[\"critics\"]=criticsAll"
   ]
  },
  {
   "cell_type": "code",
   "execution_count": 39,
   "metadata": {
    "collapsed": false,
    "deletable": true,
    "editable": true
   },
   "outputs": [],
   "source": [
    "thisYear=[u'Jackie ~ Natalie Portman', u'Elle ~ Isabelle Huppert', u'Loving ~ Ruth Negga',u'La La Land ~ Emma Stone',u'Arrival ~ Amy Adams',u'20th Century Women ~ Annette Bening']\n",
    "criticsAll[2017]=thisYear\n",
    "all[\"critics\"]=criticsAll"
   ]
  },
  {
   "cell_type": "code",
   "execution_count": 37,
   "metadata": {
    "collapsed": false,
    "deletable": true,
    "editable": true
   },
   "outputs": [
    {
     "name": "stdout",
     "output_type": "stream",
     "text": [
      "1\n"
     ]
    }
   ],
   "source": []
  },
  {
   "cell_type": "code",
   "execution_count": null,
   "metadata": {
    "collapsed": true,
    "deletable": true,
    "editable": true
   },
   "outputs": [],
   "source": []
  },
  {
   "cell_type": "code",
   "execution_count": null,
   "metadata": {
    "collapsed": false,
    "deletable": true,
    "editable": true
   },
   "outputs": [],
   "source": []
  },
  {
   "cell_type": "code",
   "execution_count": 6,
   "metadata": {
    "collapsed": false,
    "deletable": true,
    "editable": true
   },
   "outputs": [
    {
     "name": "stdout",
     "output_type": "stream",
     "text": [
      "1996\n",
      "1997\n",
      "1998\n",
      "1999\n",
      "2000\n",
      "2001\n",
      "2002\n",
      "2003\n",
      "2004\n",
      "2005\n",
      "2006\n",
      "2007\n",
      "2008\n",
      "2009\n",
      "2010\n",
      "2011\n",
      "2012\n",
      "2013\n",
      "2014\n",
      "2015\n",
      "2016\n"
     ]
    }
   ],
   "source": [
    "oscarsAll={}\n",
    "awardName=\"Best Actress in a Leading Role\"\n",
    "#oscars\n",
    "years = [\"1996\",\"1997\",\"1998\",\"1999\",\"2000\",\"2001\",\"2002\",\"2003\",\"2004\",\"2005\",\"2006\",\"2007\",\"2008\",\"2009\",\"2010\",\"2011\",\"2012\",\"2013\",\"2014\",\"2015\",\"2016\"]\n",
    "#years=[\"2017\"]\n",
    "for i in years: \n",
    "    print(i)\n",
    "    url = 'http://www.imdb.com/event/ev000003/'+ i\n",
    "    page = urllib2.urlopen(url)\n",
    "    soup = BeautifulSoup(page.read(), \"html5lib\")\n",
    "    \n",
    "    thisYear = []\n",
    "    actorsThisYear = []\n",
    "    if(i==\"2005\"):\n",
    "        awardName=\"Best Performance by an Actress in a Leading Role\"\n",
    "    htmlActors = u\"\"\n",
    "    for tag in soup.find(\"h2\",text=awardName).next_siblings:\n",
    "        if tag.name == \"h2\":\n",
    "            break\n",
    "        else:\n",
    "            htmlActors += unicode(tag)\n",
    "    #page = soup.findAll(\"div\",{\"class\":\"award\"})\n",
    "    #awards = page[0].findAll(\"blockquote\")\n",
    "    awardsActors= BeautifulSoup(htmlActors, \"html5lib\")\n",
    "    filmActors = awardsActors.findAll(\"a\")\n",
    "    \n",
    "    size=len(filmActors)\n",
    "    indexes=[]\n",
    "    index=1\n",
    "    iterator=range(size)\n",
    "    \n",
    "    for j in iterator:  \n",
    "        if(index<size):\n",
    "            indexes.append(index)\n",
    "        index=index+3\n",
    "    if(i == \"2013\"):\n",
    "        indexes=[1,4,7,11,15]\n",
    "        \n",
    "    for k in indexes: thisYear.append(filmActors[k].text + \" ~ \" + filmActors[k+1].text) \n",
    "    #thisYear.append(actorsThisYear)\n",
    "\n",
    "    if(i==\"2016-1\"):\n",
    "        oscarsAll[2016]=thisYear\n",
    "    if(i!=\"2016-1\"):\n",
    "        oscarsAll[int(i)]=thisYear\n",
    "\n",
    "all[\"oscars\"]=oscarsAll"
   ]
  },
  {
   "cell_type": "code",
   "execution_count": 38,
   "metadata": {
    "collapsed": false,
    "deletable": true,
    "editable": true
   },
   "outputs": [],
   "source": [
    "thisYear=[u'Elle ~ Isabelle Huppert', u'Loving ~ Ruth Negga',u'Jackie ~ Natalie Portman',u'La La Land ~ Emma Stone',u'Florence Foster Jenkins ~ Meryl Streep']\n",
    "oscarsAll[2017]=thisYear\n",
    "all[\"oscars\"]=oscarsAll\n"
   ]
  },
  {
   "cell_type": "code",
   "execution_count": 40,
   "metadata": {
    "collapsed": false,
    "deletable": true,
    "editable": true
   },
   "outputs": [
    {
     "name": "stdout",
     "output_type": "stream",
     "text": [
      "2017\n"
     ]
    }
   ],
   "source": [
    "globesAll={}\n",
    "\n",
    "#globes\n",
    "years=[\"2017\"]\n",
    "\n",
    "#years = [\"1996\",\"1997\",\"1998\",\"1999\",\"2000\",\"2001\",\"2002\",\"2003\",\"2004\",\"2005\",\"2006\",\"2007\",\"2008\",\"2009\",\"2010\",\"2011\",\"2012\",\"2013\",\"2014\",\"2015\",\"2016\"]\n",
    "for i in years: \n",
    "    print(i)\n",
    "    url = 'http://www.imdb.com/event/ev0000292/'+ i\n",
    "    page = urllib2.urlopen(url)\n",
    "    soup = BeautifulSoup(page.read(), \"html5lib\")\n",
    "    \n",
    "    thisYear = []\n",
    "    actorsThisYear = []\n",
    "    \n",
    "    htmlActors = u\"\"\n",
    "    for tag in soup.find(\"h2\",text=\"Best Performance by an Actress in a Motion Picture - Drama\").next_siblings:\n",
    "        if tag.name == \"h2\":\n",
    "            break\n",
    "        else:\n",
    "            htmlActors += unicode(tag)\n",
    "    #page = soup.findAll(\"div\",{\"class\":\"award\"})\n",
    "    #awards = page[0].findAll(\"blockquote\")\n",
    "    awardsActors= BeautifulSoup(htmlActors, \"html5lib\")\n",
    "    filmActors = awardsActors.findAll(\"a\")\n",
    "    \n",
    "    size=len(filmActors)\n",
    "    indexes=[]\n",
    "    index=1\n",
    "    iterator=range(size)\n",
    "    \n",
    "    for j in iterator:  \n",
    "        if(index<size):\n",
    "            indexes.append(index)\n",
    "        index=index+3\n",
    "        \n",
    "    for k in indexes: thisYear.append(filmActors[k].text + \" ~ \" + filmActors[k+1].text) \n",
    "    #thisYear.append(actorsThisYear)\n",
    "\n",
    "\n",
    "    globesAll[int(i)]=thisYear\n",
    "\n",
    "all[\"globes\"]=globesAll"
   ]
  },
  {
   "cell_type": "code",
   "execution_count": 41,
   "metadata": {
    "collapsed": false,
    "deletable": true,
    "editable": true
   },
   "outputs": [
    {
     "name": "stdout",
     "output_type": "stream",
     "text": [
      "2017\n"
     ]
    }
   ],
   "source": [
    "baftasAll={}\n",
    "\n",
    "awardName=\"Best Performance by an Actress in a Leading Role\"\n",
    "\n",
    "#baftas\n",
    "for i in years: \n",
    "    print(i)\n",
    "    url = 'http://www.imdb.com/event/ev0000123/'+ i\n",
    "    page = urllib2.urlopen(url)\n",
    "    soup = BeautifulSoup(page.read(), \"html5lib\")\n",
    "    \n",
    "    thisYear = []\n",
    "    actorsThisYear = []\n",
    "    htmlActors = u\"\"\n",
    "    \n",
    "    \n",
    "    if(i == \"2007\"):\n",
    "        awardName=\"Best Actress in a Leading Role\"\n",
    "        \n",
    "    if(i==\"2008\"):\n",
    "        awardName =\"Best Leading Actress\"\n",
    "        \n",
    "    if(i==\"2017\"):\n",
    "        awardName =\"Best Leading Actress\"\n",
    "\n",
    "    for tag in soup.find(\"h2\",text=awardName).next_siblings:\n",
    "        if tag.name == \"h2\":\n",
    "            break\n",
    "        else:\n",
    "            htmlActors += unicode(tag)\n",
    "    #page = soup.findAll(\"div\",{\"class\":\"award\"})\n",
    "    #awards = page[0].findAll(\"blockquote\")\n",
    "    awardsActors= BeautifulSoup(htmlActors, \"html5lib\")\n",
    "    filmActors = awardsActors.findAll(\"a\")\n",
    "    \n",
    "    size=len(filmActors)\n",
    "    indexes=[]\n",
    "    index=1\n",
    "    iterator=range(size)\n",
    "    \n",
    "    for j in iterator:  \n",
    "        if(index<size):\n",
    "            indexes.append(index)\n",
    "        index=index+3\n",
    "        \n",
    "    for k in indexes: thisYear.append(filmActors[k].text + \" ~ \" + filmActors[k+1].text) \n",
    "    #thisYear.append(actorsThisYear)\n",
    "\n",
    "    baftasAll[int(i)]=thisYear\n",
    "\n",
    "all[\"baftas\"]=baftasAll"
   ]
  },
  {
   "cell_type": "code",
   "execution_count": 45,
   "metadata": {
    "collapsed": false,
    "deletable": true,
    "editable": true
   },
   "outputs": [
    {
     "name": "stdout",
     "output_type": "stream",
     "text": [
      "2017\n"
     ]
    }
   ],
   "source": [
    "spiritsAll={}\n",
    "\n",
    "#spirits\n",
    "for i in years: \n",
    "    print(i)\n",
    "    url = 'http://www.imdb.com/event/ev0000349/'+ i\n",
    "    page = urllib2.urlopen(url)\n",
    "    soup = BeautifulSoup(page.read(), \"html5lib\")\n",
    "    \n",
    "    thisYear = []\n",
    "    actorsThisYear = []\n",
    "    htmlActors = u\"\"\n",
    "    for tag in soup.find(\"h2\",text=\"Best Female Lead\").next_siblings:\n",
    "        if tag.name == \"h2\":\n",
    "            break\n",
    "        else:\n",
    "            htmlActors += unicode(tag)\n",
    "    #page = soup.findAll(\"div\",{\"class\":\"award\"})\n",
    "    #awards = page[0].findAll(\"blockquote\")\n",
    "    awardsActors= BeautifulSoup(htmlActors, \"html5lib\")\n",
    "    filmActors = awardsActors.findAll(\"a\")\n",
    "    \n",
    "    size=len(filmActors)\n",
    "    indexes=[]\n",
    "    index=1\n",
    "    iterator=range(size)\n",
    "    \n",
    "    for j in iterator:  \n",
    "        if(index<size):\n",
    "            indexes.append(index)\n",
    "        index=index+3\n",
    "        \n",
    "    for k in indexes: thisYear.append(filmActors[k].text + \" ~ \" + filmActors[k+1].text) \n",
    "    #thisYear.append(actorsThisYear)\n",
    "\n",
    "    spiritsAll[int(i)]=thisYear\n",
    "\n",
    "all[\"spirits\"]=spiritsAll"
   ]
  },
  {
   "cell_type": "code",
   "execution_count": 47,
   "metadata": {
    "collapsed": false,
    "deletable": true,
    "editable": true
   },
   "outputs": [
    {
     "name": "stdout",
     "output_type": "stream",
     "text": [
      "2017\n"
     ]
    }
   ],
   "source": [
    "sagsAll={}\n",
    "\n",
    "#sags\n",
    "for i in years: \n",
    "    print(i)\n",
    "    url = 'http://www.imdb.com/event/ev0000598/'+ i\n",
    "    page = urllib2.urlopen(url)\n",
    "    soup = BeautifulSoup(page.read(), \"html5lib\")\n",
    "    \n",
    "    thisYear = []\n",
    "    actorsThisYear = []\n",
    "    \n",
    "    htmlActors = u\"\"\n",
    "    for tag in soup.find(\"h2\",text=\"Outstanding Performance by a Female Actor in a Leading Role\").next_siblings:\n",
    "        if tag.name == \"h2\":\n",
    "            break\n",
    "        else:\n",
    "            htmlActors += unicode(tag)\n",
    "    #page = soup.findAll(\"div\",{\"class\":\"award\"})\n",
    "    #awards = page[0].findAll(\"blockquote\")\n",
    "    awardsActors= BeautifulSoup(htmlActors, \"html5lib\")\n",
    "    filmActors = awardsActors.findAll(\"a\")\n",
    "    \n",
    "    size=len(filmActors)\n",
    "    indexes=[]\n",
    "    index=1\n",
    "    iterator=range(size)\n",
    "    \n",
    "    for j in iterator:  \n",
    "        if(index<size):\n",
    "            indexes.append(index)\n",
    "        index=index+3\n",
    "        \n",
    "    for k in indexes: thisYear.append(filmActors[k].text + \" ~ \" + filmActors[k+1].text) \n",
    "    #thisYear.append(actorsThisYear)\n",
    "\n",
    "    sagsAll[int(i)]=thisYear\n",
    "\n",
    "all[\"sags\"]=sagsAll"
   ]
  },
  {
   "cell_type": "code",
   "execution_count": 57,
   "metadata": {
    "collapsed": false,
    "deletable": true,
    "editable": true
   },
   "outputs": [],
   "source": [
    "#no best actor until 2013, not useful data?\n",
    "\n",
    "\n",
    "#gothamsAll={}\n",
    "\n",
    "#gothams\n",
    "#for i in years: \n",
    "    #url = 'http://www.imdb.com/event/ev0000298/'+ i\n",
    "    #page = urllib2.urlopen(url)\n",
    "    #soup = BeautifulSoup(page.read(), \"html5lib\")\n",
    "    \n",
    "    #thisYear = []\n",
    "    #actorsThisYear = []\n",
    "    #print(i)\n",
    "    #htmlActors = u\"\"\n",
    "    #for tag in soup.find(\"h2\",text=\"Best Actor\").next_siblings:\n",
    "       # if tag.name == \"h2\":\n",
    "      #      break\n",
    "     #   else:\n",
    "    #        htmlActors += unicode(tag)\n",
    "\n",
    "   # awardsActors= BeautifulSoup(htmlActors, \"html5lib\")\n",
    "  #  filmActors = awardsActors.findAll(\"a\")\n",
    "    \n",
    " #   size=len(filmActors)\n",
    "#    indexes=[]\n",
    "    #index=1\n",
    "    #iterator=range(size)\n",
    "    \n",
    "    #for j in iterator:  \n",
    "     #   if(index<size):\n",
    "    #        indexes.append(index)\n",
    "   #     index=index+3\n",
    "        \n",
    "  #  for k in indexes: thisYear.append(filmActors[k].text + \" , \" + filmActors[k+1].text) \n",
    "\n",
    " #   gothamsAll[int(i)]=thisYear\n",
    "\n",
    "#all[\"gothams\"]=gothamsAll"
   ]
  },
  {
   "cell_type": "code",
   "execution_count": 48,
   "metadata": {
    "collapsed": false,
    "deletable": true,
    "editable": true
   },
   "outputs": [
    {
     "name": "stdout",
     "output_type": "stream",
     "text": [
      "('spirits', [u'20th Century Women ~ Annette Bening', u'Elle ~ Isabelle Huppert', u'American Honey ~ Sasha Lane', u'Loving ~ Ruth Negga', u'Jackie ~ Natalie Portman'])\n",
      "\n",
      "('baftas', [u'La La Land ~ Emma Stone', u'Arrival ~ Amy Adams', u'The Girl on the Train ~ Emily Blunt', u'Florence Foster Jenkins ~ Meryl Streep', u'Jackie ~ Natalie Portman'])\n",
      "\n",
      "('critics', [u'Jackie ~ Natalie Portman', u'Elle ~ Isabelle Huppert', u'Loving ~ Ruth Negga', u'La La Land ~ Emma Stone', u'Arrival ~ Amy Adams', u'20th Century Women ~ Annette Bening'])\n",
      "\n",
      "('oscars', [u'Elle ~ Isabelle Huppert', u'Loving ~ Ruth Negga', u'Jackie ~ Natalie Portman', u'La La Land ~ Emma Stone', u'Florence Foster Jenkins ~ Meryl Streep'])\n",
      "\n",
      "('globes', [u'Elle ~ Isabelle Huppert', u'Arrival ~ Amy Adams', u'Miss Sloane ~ Jessica Chastain', u'Loving ~ Ruth Negga', u'Jackie ~ Natalie Portman'])\n",
      "\n",
      "('sags', [u'La La Land ~ Emma Stone', u'Arrival ~ Amy Adams', u'The Girl on the Train ~ Emily Blunt', u'Jackie ~ Natalie Portman', u'Florence Foster Jenkins ~ Meryl Streep'])\n",
      "\n"
     ]
    }
   ],
   "source": [
    "for i in all:\n",
    "    print(i,all[i][2017])\n",
    "    print(\"\")"
   ]
  },
  {
   "cell_type": "code",
   "execution_count": 51,
   "metadata": {
    "collapsed": false,
    "deletable": true,
    "editable": true
   },
   "outputs": [],
   "source": [
    "scores={}"
   ]
  },
  {
   "cell_type": "code",
   "execution_count": 52,
   "metadata": {
    "collapsed": false,
    "deletable": true,
    "editable": true
   },
   "outputs": [
    {
     "name": "stdout",
     "output_type": "stream",
     "text": [
      "20th Century Women ~ Annette Bening\n",
      "adding to table\n",
      "won\n",
      "Elle ~ Isabelle Huppert\n",
      "adding to table\n",
      "nom\n",
      "American Honey ~ Sasha Lane\n",
      "adding to table\n",
      "nom\n",
      "Loving ~ Ruth Negga\n",
      "adding to table\n",
      "nom\n",
      "Jackie ~ Natalie Portman\n",
      "adding to table\n",
      "nom\n",
      "La La Land ~ Emma Stone\n",
      "adding to table\n",
      "won\n",
      "Arrival ~ Amy Adams\n",
      "adding to table\n",
      "nom\n",
      "The Girl on the Train ~ Emily Blunt\n",
      "adding to table\n",
      "nom\n",
      "Florence Foster Jenkins ~ Meryl Streep\n",
      "adding to table\n",
      "nom\n",
      "Jackie ~ Natalie Portman\n",
      "nom\n",
      "Jackie ~ Natalie Portman\n",
      "won\n",
      "Elle ~ Isabelle Huppert\n",
      "nom\n",
      "Loving ~ Ruth Negga\n",
      "nom\n",
      "La La Land ~ Emma Stone\n",
      "nom\n",
      "Arrival ~ Amy Adams\n",
      "nom\n",
      "20th Century Women ~ Annette Bening\n",
      "nom\n",
      "Elle ~ Isabelle Huppert\n",
      "won\n",
      "Arrival ~ Amy Adams\n",
      "nom\n",
      "Miss Sloane ~ Jessica Chastain\n",
      "adding to table\n",
      "nom\n",
      "Loving ~ Ruth Negga\n",
      "nom\n",
      "Jackie ~ Natalie Portman\n",
      "nom\n",
      "La La Land ~ Emma Stone\n",
      "won\n",
      "Arrival ~ Amy Adams\n",
      "nom\n",
      "The Girl on the Train ~ Emily Blunt\n",
      "nom\n",
      "Jackie ~ Natalie Portman\n",
      "nom\n",
      "Florence Foster Jenkins ~ Meryl Streep\n",
      "nom\n"
     ]
    }
   ],
   "source": [
    "for award in all: #for each award (i)\n",
    "    \n",
    "    if(award != \"oscars\"):\n",
    "        \n",
    "        for year in all[award]: #for each year (j)\n",
    "            \n",
    "            if year == 2017:\n",
    "                if year not in scores:\n",
    "                    scores[year]={};\n",
    "                    \n",
    "                for movie in all[award][year]:\n",
    "                    print(movie)\n",
    "                    if movie not in scores[year]:\n",
    "                        scores[year][movie]={}\n",
    "                        scores[year][movie][\"won\"]=0\n",
    "                        scores[year][movie][\"nom\"]=0\n",
    "                        print(\"adding to table\")\n",
    "                    \n",
    "                    if(all[award][year][0]==movie):\n",
    "                        if movie in scores[year]:\n",
    "                            scores[year][movie][\"won\"]+=1\n",
    "                            scores[year][movie][\"nom\"]+=1\n",
    "                            print(\"won\")\n",
    "                    else:\n",
    "                        if movie in scores[year]:\n",
    "                            scores[year][movie][\"nom\"]+=1\n",
    "                            print(\"nom\")\n",
    "\n"
   ]
  },
  {
   "cell_type": "code",
   "execution_count": 53,
   "metadata": {
    "collapsed": true,
    "deletable": true,
    "editable": true
   },
   "outputs": [],
   "source": [
    "scores[2017]={}\n",
    "for award in all: #for each award (i)\n",
    "    \n",
    "    if(award != \"oscars\"):\n",
    "        \n",
    "        for year in all[award]: #for each year (j)\n",
    "            \n",
    "            if year == 2017:\n",
    "                \n",
    "                for movie in all[award][year]:\n",
    "                    \n",
    "                    if movie not in scores[year]:\n",
    "                        scores[year][movie]={}\n",
    "                        scores[year][movie][\"won\"]=0\n",
    "                        scores[year][movie][\"nom\"]=0\n",
    "                    \n",
    "                    if(all[award][year][0]==movie):\n",
    "                        if movie in scores[year]:\n",
    "                            scores[year][movie][\"won\"]+=1\n",
    "                            scores[year][movie][\"nom\"]+=1\n",
    "\n",
    "                        else:\n",
    "                            scores[year][movie]=5\n",
    "                    else:\n",
    "                        if movie in scores[year]:\n",
    "                            scores[year][movie][\"nom\"]+=1\n",
    "                        else:\n",
    "                            scores[year][movie]=2"
   ]
  },
  {
   "cell_type": "code",
   "execution_count": null,
   "metadata": {
    "collapsed": false,
    "deletable": true,
    "editable": true
   },
   "outputs": [],
   "source": []
  },
  {
   "cell_type": "code",
   "execution_count": null,
   "metadata": {
    "collapsed": false,
    "deletable": true,
    "editable": true
   },
   "outputs": [],
   "source": []
  },
  {
   "cell_type": "code",
   "execution_count": null,
   "metadata": {
    "collapsed": false,
    "deletable": true,
    "editable": true
   },
   "outputs": [],
   "source": []
  },
  {
   "cell_type": "code",
   "execution_count": 54,
   "metadata": {
    "collapsed": false,
    "deletable": true,
    "editable": true
   },
   "outputs": [
    {
     "name": "stdout",
     "output_type": "stream",
     "text": [
      "La La Land ~ Emma Stone  | won:  2 | nom:  3 | %:  66.6666666667\n",
      "Florence Foster Jenkins ~ Meryl Streep  | won:  0 | nom:  2 | %:  0.0\n",
      "Loving ~ Ruth Negga  | won:  0 | nom:  3 | %:  0.0\n",
      "Jackie ~ Natalie Portman  | won:  1 | nom:  5 | %:  20.0\n",
      "Elle ~ Isabelle Huppert  | won:  1 | nom:  3 | %:  33.3333333333\n"
     ]
    }
   ],
   "source": [
    "#prints % data from specified year, filters for oscar nominees\n",
    "year=2017\n",
    "for movie in scores[year]:\n",
    "    if movie in oscarsAll[year]:\n",
    "        percent = float(scores[year][movie][\"won\"])/float(scores[year][movie][\"nom\"]) * float(100)\n",
    "        print movie ,\" | won: \", scores[year][movie][\"won\"], \"| nom: \", scores[year][movie][\"nom\"], \"| %: \", percent\n",
    "    #print scores[2016][i]"
   ]
  },
  {
   "cell_type": "code",
   "execution_count": 56,
   "metadata": {
    "collapsed": false,
    "deletable": true,
    "editable": true
   },
   "outputs": [
    {
     "name": "stdout",
     "output_type": "stream",
     "text": [
      "Elle ~ Isabelle Huppert\n",
      "Elle  Isabelle Huppert\n",
      "Loving ~ Ruth Negga\n",
      "Loving  Ruth Negga\n",
      "Jackie ~ Natalie Portman\n",
      "Jackie  Natalie Portman\n",
      "La La Land ~ Emma Stone\n",
      "La La Land  Emma Stone\n",
      "Florence Foster Jenkins ~ Meryl Streep\n",
      "Florence Foster Jenkins  Meryl Streep\n"
     ]
    }
   ],
   "source": [
    "#oscarsAllREVIEWS\n",
    "import csv\n",
    "with open('bpdata.csv', 'wb') as csvfile:\n",
    "    spamwriter = csv.writer(csvfile, delimiter=',', quoting=csv.QUOTE_MINIMAL)\n",
    "    spamwriter.writerow([\"year\", \"movie\",\"actor\", \"wins\", \"noms\", \"%won\", \"oscarwin\", \"globewin\"])\n",
    "    years = [\"1996\",\"1997\",\"1998\",\"1999\",\"2000\",\"2001\",\"2002\",\"2003\",\"2004\",\"2005\",\"2006\",\"2007\",\"2008\",\"2009\",\"2010\",\"2011\",\"2012\",\"2013\",\"2014\",\"2015\",\"2016\"]\n",
    "    years=[\"2017\"]\n",
    "    for year in years:\n",
    "        year=int(year)\n",
    "        counter = 0\n",
    "        \n",
    "        for movie in oscarsAll[year]:\n",
    "            \n",
    "            print(movie)\n",
    "            mList = movie.split(\"~\")\n",
    "            name = mList[0]\n",
    "            actor = mList[1]\n",
    "            if movie == all[\"globes\"][year][0]:\n",
    "                globewin = \"yes\"\n",
    "            else:\n",
    "                globewin = \"no\"\n",
    "            if movie in scores[year]:\n",
    "                wins = (scores[year][movie][\"won\"])\n",
    "                noms = (scores[year][movie][\"nom\"])\n",
    "                percent = float(scores[year][movie][\"won\"])/float(scores[year][movie][\"nom\"]) * float(100)\n",
    "            else: \n",
    "                wins = 0\n",
    "                noms = 0\n",
    "                percent = 0\n",
    "                \n",
    "            if movie == all[\"oscars\"][year][0]:\n",
    "                won = \"yes\"\n",
    "            else:\n",
    "                won = \"no\"\n",
    "                \n",
    "            if \"Les\" in movie:\n",
    "                spamwriter.writerow([year, \"Les Mis\",actor, wins, noms, percent, won, globewin])\n",
    "            elif \"A Better Life\" in movie:\n",
    "                spamwriter.writerow([year, name,\"Demian Bichir\", wins, noms, percent, won, globewin])\n",
    "            elif \"e Zellweger\" in actor:\n",
    "                spamwriter.writerow([year, name,\"Renee Zellweger\", wins, noms, percent, won, globewin])\n",
    "            elif \"lope Cruz\" in actor:\n",
    "                spamwriter.writerow([year, name,\"Penelope Cruz\", wins, noms, percent, won, globewin])\n",
    "            elif \"Quvenzhan\" in actor:\n",
    "                spamwriter.writerow([year, name,\"Quvenzhane Wallis\", wins, noms, percent, won, globewin])                \n",
    "            else:\n",
    "                print(name+actor)\n",
    "                spamwriter.writerow([year, name,actor, wins, noms, percent, won,globewin])\n",
    "            counter = counter + 1"
   ]
  }
 ],
 "metadata": {
  "kernelspec": {
   "display_name": "Python 2",
   "language": "python",
   "name": "python2"
  },
  "language_info": {
   "codemirror_mode": {
    "name": "ipython",
    "version": 2
   },
   "file_extension": ".py",
   "mimetype": "text/x-python",
   "name": "python",
   "nbconvert_exporter": "python",
   "pygments_lexer": "ipython2",
   "version": "2.7.13"
  }
 },
 "nbformat": 4,
 "nbformat_minor": 2
}
