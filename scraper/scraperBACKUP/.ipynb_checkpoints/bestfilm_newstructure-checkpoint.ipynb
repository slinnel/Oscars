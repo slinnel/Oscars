{
 "cells": [
  {
   "cell_type": "code",
   "execution_count": 3,
   "metadata": {
    "collapsed": false,
    "deletable": true,
    "editable": true
   },
   "outputs": [],
   "source": [
    "from bs4 import BeautifulSoup\n",
    "import urllib\n",
    "import urllib2\n",
    "\n",
    "#to print individual movies in individual years\n",
    "#for i in criticsRated:\n",
    "#    for j in i:\n",
    "#        print(j)\n",
    "\n",
    "all={}\n",
    "criticsAll={}\n",
    "\n",
    "\n",
    "#arrays that hold string arrays\n",
    "globes=[]\n",
    "oscars=[]\n",
    "critics=[]\n",
    "spirits=[]\n",
    "baftas=[]\n",
    "links=[]\n",
    "criticsRated=[]\n",
    "\n",
    "\n",
    "\n",
    "#critics choice script , only one that gets reviews currently\n",
    "\n",
    "#2016 link is different than others on imdb\n",
    "years = [\"2006\",\"2007\",\"2008\",\"2009\",\"2010\",\"2011\",\"2012\",\"2013\",\"2014\",\"2015\",\"2016-1\"]\n",
    "#years = [\"2006\"] to shorten time, with reviews it takes a VERY long time\n",
    "\n",
    "#loops once for each year\n",
    "for i in years: \n",
    "    url = 'http://www.imdb.com/event/ev0000133/'+ i\n",
    "    page = urllib2.urlopen(url)\n",
    "    soup = BeautifulSoup(page.read(), \"html5lib\")\n",
    "    \n",
    "#page contains all award data from the webpage, array of size 1 i think\n",
    "    page = soup.findAll(\"div\",{\"class\":\"award\"})\n",
    "    \n",
    "#awards is an array, different indexes are different catagories, different for each type of award\n",
    "    awards = page[0].findAll(\"blockquote\")\n",
    "    \n",
    "#index 0 is trash, 1 is where data starts, usually best picture\n",
    "    film = awards[1].findAll(\"strong\")\n",
    "    \n",
    "#arrays to hold current years data, to be appended to array of arrays later\n",
    "    thisYear = []\n",
    "    namesWithReviews=[]\n",
    "\n",
    "#iterates through each nominee\n",
    "    for j in film: \n",
    "#gets movie url and scrapes the reviews\n",
    "        #movieUrl = \"http://www.imdb.com\"+ j.a['href']\n",
    "        #moviePage = urllib2.urlopen(movieUrl)\n",
    "        #soup2 = BeautifulSoup(moviePage.read(), \"html5lib\")\n",
    "        #imdbReview = soup2.find(\"span\",{\"itemprop\":\"ratingValue\"})\n",
    "        #tempPage = soup2.find(\"div\",{\"class\":\"metacriticScore\"})\n",
    "        ##metaReview = tempPage.find(\"span\")\n",
    "        #thisYear.append(j.a.text + \" , imdb: \" + imdbReview.text + \" , meta: \" + metaReview.text)\n",
    "        thisYear.append(j.a.text)\n",
    "\n",
    "     #   namesWithReviews.append(i.a.text + \" , imdb: \" + imdbReview.text + \" , meta: \" + metaReview.text)\n",
    "    if(i==\"2016-1\"):\n",
    "        criticsAll[2016]=thisYear\n",
    "    if(i!=\"2016-1\"):\n",
    "        criticsAll[int(i)]=thisYear\n",
    "    \n",
    "    #critics.append(thisYear)\n",
    "    #criticsRated.append(namesWithReviews)\n",
    "all[\"critics\"]=criticsAll"
   ]
  },
  {
   "cell_type": "code",
   "execution_count": 4,
   "metadata": {
    "collapsed": false,
    "deletable": true,
    "editable": true
   },
   "outputs": [],
   "source": [
    "thisYear=[u'La La Land',u'Moonlight',u'Hacksaw Ridge',u'Hell or High Water',u'Lion',u'Manchester by the Sea',u'Arrival',u'Sully',u'Fences',u'Loving']\n",
    "criticsAll[2017]=thisYear\n",
    "all[\"critics\"]=criticsAll\n"
   ]
  },
  {
   "cell_type": "code",
   "execution_count": 5,
   "metadata": {
    "collapsed": false,
    "deletable": true,
    "editable": true
   },
   "outputs": [],
   "source": [
    "#acadamy awards\n",
    "oscarsAll={}\n",
    "\n",
    "years = [\"2006\",\"2007\",\"2008\",\"2009\",\"2010\",\"2011\",\"2012\",\"2013\",\"2014\",\"2015\",\"2016\"]\n",
    "for i in years: \n",
    "    url = 'http://www.imdb.com/event/ev0000003/'+ i\n",
    "    page = urllib2.urlopen(url)\n",
    "    soup = BeautifulSoup(page.read(), \"html5lib\")\n",
    "    page = soup.findAll(\"div\",{\"class\":\"award\"})\n",
    "    awards = page[0].findAll(\"blockquote\")\n",
    "    film = awards[1].findAll(\"strong\")\n",
    "    thisYear = []\n",
    "    namesWithReviews=[]\n",
    "    for j in film:         \n",
    "        #movieUrl = \"http://www.imdb.com\"+ j.a['href']\n",
    "        #moviePage = urllib2.urlopen(movieUrl)\n",
    "        #soup2 = BeautifulSoup(moviePage.read(), \"html5lib\")\n",
    "        #imdbReview = soup2.find(\"span\",{\"itemprop\":\"ratingValue\"})\n",
    "        #tempPage = soup2.find(\"div\",{\"class\":\"metacriticScore\"})\n",
    "        ##metaReview = tempPage.find(\"span\")\n",
    "        #thisYear.append(j.a.text + \" , imdb: \" + imdbReview.text + \" , meta: \" + metaReview.text)\n",
    "        thisYear.append(j.a.text)\n",
    "\n",
    "    oscarsAll[int(i)]=thisYear\n",
    "    #oscars.append(thisYear)\n",
    "all[\"oscars\"]=oscarsAll"
   ]
  },
  {
   "cell_type": "code",
   "execution_count": 6,
   "metadata": {
    "collapsed": true,
    "deletable": true,
    "editable": true
   },
   "outputs": [],
   "source": [
    "thisYear=[u'La La Land',u'Moonlight',u'Hacksaw Ridge',u'Hell or High Water',u'Lion',u'Manchester by the Sea',u'Arrival',u'Fences',u'Hidden Figures']\n",
    "oscarsAll[2017]=thisYear\n",
    "all[\"oscars\"]=oscarsAll\n"
   ]
  },
  {
   "cell_type": "code",
   "execution_count": 7,
   "metadata": {
    "collapsed": true,
    "deletable": true,
    "editable": true
   },
   "outputs": [],
   "source": [
    "years = [\"2006\",\"2007\",\"2008\",\"2009\",\"2010\",\"2011\",\"2012\",\"2013\",\"2014\",\"2015\",\"2016\",\"2017\"]\n",
    "globesAll={}\n",
    "#golden globes\n",
    "for i in years: \n",
    "    url = 'http://www.imdb.com/event/ev0000292/'+ i\n",
    "    page = urllib2.urlopen(url)\n",
    "    soup = BeautifulSoup(page.read(), \"html5lib\")\n",
    "    page = soup.findAll(\"div\",{\"class\":\"award\"})\n",
    "    awards = page[0].findAll(\"blockquote\")\n",
    "    film = awards[1].findAll(\"strong\")\n",
    "    thisYear = []\n",
    "    namesWithReviews=[]\n",
    "    for j in film: \n",
    "        #movieUrl = \"http://www.imdb.com\"+ j.a['href']\n",
    "        #moviePage = urllib2.urlopen(movieUrl)\n",
    "        #soup2 = BeautifulSoup(moviePage.read(), \"html5lib\")\n",
    "        #imdbReview = soup2.find(\"span\",{\"itemprop\":\"ratingValue\"})\n",
    "        #tempPage = soup2.find(\"div\",{\"class\":\"metacriticScore\"})\n",
    "        ##metaReview = tempPage.find(\"span\")\n",
    "        #thisYear.append(j.a.text + \" , imdb: \" + imdbReview.text + \" , meta: \" + metaReview.text)\n",
    "        thisYear.append(j.a.text)\n",
    "\n",
    "    globesAll[int(i)]=thisYear\n",
    "    #globes.append(thisYear)\n",
    "all[\"globes\"]=globesAll"
   ]
  },
  {
   "cell_type": "code",
   "execution_count": 8,
   "metadata": {
    "collapsed": true,
    "deletable": true,
    "editable": true
   },
   "outputs": [],
   "source": [
    "#bafta\n",
    "baftaAll={}\n",
    "for i in years: \n",
    "    url = 'http://www.imdb.com/event/ev0000123/'+ i\n",
    "    page = urllib2.urlopen(url)\n",
    "    soup = BeautifulSoup(page.read(), \"html5lib\")\n",
    "    page = soup.findAll(\"div\",{\"class\":\"award\"})\n",
    "    awards = page[0].findAll(\"blockquote\")\n",
    "    film = awards[1].findAll(\"strong\")\n",
    "    thisYear = []\n",
    "    namesWithReviews=[]\n",
    "    for j in film:\n",
    "        #movieUrl = \"http://www.imdb.com\"+ j.a['href']\n",
    "        #moviePage = urllib2.urlopen(movieUrl)\n",
    "        #soup2 = BeautifulSoup(moviePage.read(), \"html5lib\")\n",
    "        #imdbReview = soup2.find(\"span\",{\"itemprop\":\"ratingValue\"})\n",
    "        #tempPage = soup2.find(\"div\",{\"class\":\"metacriticScore\"})\n",
    "        ##metaReview = tempPage.find(\"span\")\n",
    "        #thisYear.append(j.a.text + \" , imdb: \" + imdbReview.text + \" , meta: \" + metaReview.text)\n",
    "        thisYear.append(j.a.text)\n",
    "\n",
    "    baftaAll[int(i)]=thisYear\n",
    "    #baftas.append(thisYear)\n",
    "all[\"bafta\"]=baftaAll"
   ]
  },
  {
   "cell_type": "code",
   "execution_count": 9,
   "metadata": {
    "collapsed": true,
    "deletable": true,
    "editable": true
   },
   "outputs": [],
   "source": [
    "#spirits\n",
    "spiritsAll={}\n",
    "for i in years: \n",
    "    url = 'http://www.imdb.com/event/ev0000349/'+ i\n",
    "    page = urllib2.urlopen(url)\n",
    "    soup = BeautifulSoup(page.read(), \"html5lib\")\n",
    "    page = soup.findAll(\"div\",{\"class\":\"award\"})\n",
    "    awards = page[0].findAll(\"blockquote\")\n",
    "    film = awards[1].findAll(\"strong\")\n",
    "    thisYear = []\n",
    "    namesWithReviews=[]\n",
    "    for j in film: \n",
    "        #movieUrl = \"http://www.imdb.com\"+ j.a['href']\n",
    "        #moviePage = urllib2.urlopen(movieUrl)\n",
    "        #soup2 = BeautifulSoup(moviePage.read(), \"html5lib\")\n",
    "        #imdbReview = soup2.find(\"span\",{\"itemprop\":\"ratingValue\"})\n",
    "        #tempPage = soup2.find(\"div\",{\"class\":\"metacriticScore\"})\n",
    "        ##metaReview = tempPage.find(\"span\")\n",
    "        #thisYear.append(j.a.text + \" , imdb: \" + imdbReview.text + \" , meta: \" + metaReview.text)\n",
    "        thisYear.append(j.a.text)\n",
    "\n",
    "    spiritsAll[int(i)]=thisYear\n",
    "    #spirits.append(thisYear)\n",
    "all[\"spirits\"]=spiritsAll"
   ]
  },
  {
   "cell_type": "code",
   "execution_count": 10,
   "metadata": {
    "collapsed": false,
    "deletable": true,
    "editable": true
   },
   "outputs": [],
   "source": [
    "#SAGS\n",
    "sagsAll={}\n",
    "for i in years: \n",
    "    url = 'http://www.imdb.com/event/ev0000598/'+ i\n",
    "    page = urllib2.urlopen(url)\n",
    "    #pageSplit = page\n",
    "    soup = BeautifulSoup(page.read(), \"html5lib\")\n",
    "    html = u\"\"\n",
    "    for tag in soup.find(\"h2\",text=\"Outstanding Performance by a Cast in a Motion Picture\").next_siblings:\n",
    "        if tag.name == \"h2\":\n",
    "            break\n",
    "        else:\n",
    "            html += unicode(tag)\n",
    "    #page = soup.findAll(\"div\",{\"class\":\"award\"})\n",
    "    #awards = page[0].findAll(\"blockquote\")\n",
    "    awards= BeautifulSoup(html, \"html5lib\")\n",
    "    film = awards.findAll(\"strong\")\n",
    "    thisYear = []\n",
    "    for j in film: \n",
    "        thisYear.append(j.a.text)\n",
    "\n",
    "    sagsAll[int(i)]=thisYear\n",
    "all[\"sags\"]=sagsAll"
   ]
  },
  {
   "cell_type": "code",
   "execution_count": 11,
   "metadata": {
    "collapsed": false,
    "deletable": true,
    "editable": true
   },
   "outputs": [],
   "source": [
    "#gothams\n",
    "\n",
    "#happens the year before? so go back an extra year and add one when indexing\n",
    "years = [\"2005\",\"2006\",\"2007\",\"2008\",\"2009\",\"2010\",\"2011\",\"2012\",\"2013\",\"2014\",\"2015\",\"2016\"]\n",
    "\n",
    "gothamsAll={}\n",
    "for i in years: \n",
    "    url = 'http://www.imdb.com/event/ev0000298/'+ i\n",
    "    page = urllib2.urlopen(url)\n",
    "    #pageSplit = page\n",
    "    soup = BeautifulSoup(page.read(), \"html5lib\")\n",
    "    html = u\"\"\n",
    "    for tag in soup.find(\"h2\",text=\"Best Feature\").next_siblings:\n",
    "        if tag.name == \"h2\":\n",
    "            break\n",
    "        else:\n",
    "            html += unicode(tag)\n",
    "    #page = soup.findAll(\"div\",{\"class\":\"award\"})\n",
    "    #awards = page[0].findAll(\"blockquote\")\n",
    "    awards= BeautifulSoup(html, \"html5lib\")\n",
    "    film = awards.findAll(\"strong\")\n",
    "    thisYear = []\n",
    "    for j in film: \n",
    "        thisYear.append(j.a.text)\n",
    "\n",
    "    gothamsAll[int(i)+1]=thisYear\n",
    "all[\"gothams\"]=gothamsAll"
   ]
  },
  {
   "cell_type": "code",
   "execution_count": 12,
   "metadata": {
    "collapsed": false,
    "deletable": true,
    "editable": true
   },
   "outputs": [],
   "source": [
    "scores={}"
   ]
  },
  {
   "cell_type": "code",
   "execution_count": null,
   "metadata": {
    "collapsed": false,
    "deletable": true,
    "editable": true
   },
   "outputs": [],
   "source": []
  },
  {
   "cell_type": "code",
   "execution_count": 13,
   "metadata": {
    "collapsed": false,
    "deletable": true,
    "editable": true
   },
   "outputs": [],
   "source": [
    "for award in all: #for each award (i)\n",
    "    \n",
    "    if(award != \"oscars\"):\n",
    "        \n",
    "        for year in all[award]: #for each year (j)\n",
    "            \n",
    "            if year != 2017:\n",
    "                if year not in scores:\n",
    "                    scores[year]={};\n",
    "                    \n",
    "                for movie in all[award][year]:\n",
    "                    \n",
    "                    if movie not in scores[year]:\n",
    "                        scores[year][movie]={}\n",
    "                        scores[year][movie][\"won\"]=0\n",
    "                        scores[year][movie][\"nom\"]=0\n",
    "                    \n",
    "                    if(all[award][year][0]==movie):\n",
    "                        if movie in scores[year]:\n",
    "                            scores[year][movie][\"won\"]+=1\n",
    "                            scores[year][movie][\"nom\"]+=1\n",
    "\n",
    "                        else:\n",
    "                            scores[year][movie]=5\n",
    "                    else:\n",
    "                        if movie in scores[year]:\n",
    "                            scores[year][movie][\"nom\"]+=1\n",
    "                        else:\n",
    "                            scores[year][movie]=2\n"
   ]
  },
  {
   "cell_type": "code",
   "execution_count": 14,
   "metadata": {
    "collapsed": true,
    "deletable": true,
    "editable": true
   },
   "outputs": [],
   "source": [
    "scores[2017]={}\n",
    "for award in all: #for each award (i)\n",
    "    \n",
    "    if(award != \"oscars\"):\n",
    "        \n",
    "        for year in all[award]: #for each year (j)\n",
    "            \n",
    "            if year == 2017:\n",
    "                \n",
    "                for movie in all[award][year]:\n",
    "                    \n",
    "                    if movie not in scores[year]:\n",
    "                        scores[year][movie]={}\n",
    "                        scores[year][movie][\"won\"]=0\n",
    "                        scores[year][movie][\"nom\"]=0\n",
    "                    \n",
    "                    if(all[award][year][0]==movie):\n",
    "                        if movie in scores[year]:\n",
    "                            scores[year][movie][\"won\"]+=1\n",
    "                            scores[year][movie][\"nom\"]+=1\n",
    "\n",
    "                        else:\n",
    "                            scores[year][movie]=5\n",
    "                    else:\n",
    "                        if movie in scores[year]:\n",
    "                            scores[year][movie][\"nom\"]+=1\n",
    "                        else:\n",
    "                            scores[year][movie]=2"
   ]
  },
  {
   "cell_type": "code",
   "execution_count": 15,
   "metadata": {
    "collapsed": false,
    "deletable": true,
    "editable": true
   },
   "outputs": [
    {
     "name": "stdout",
     "output_type": "stream",
     "text": [
      "The Big Short  | won:  0 | nom:  3 | %:  0.0\n",
      "Mad Max: Fury Road  | won:  0 | nom:  2 | %:  0.0\n",
      "Bridge of Spies  | won:  0 | nom:  2 | %:  0.0\n",
      "The Revenant  | won:  2 | nom:  3 | %:  66.6666666667\n",
      "Brooklyn  | won:  0 | nom:  1 | %:  0.0\n",
      "The Martian  | won:  0 | nom:  1 | %:  0.0\n",
      "Spotlight  | won:  3 | nom:  5 | %:  60.0\n",
      "Room  | won:  0 | nom:  2 | %:  0.0\n"
     ]
    }
   ],
   "source": [
    "#prints % data from specified year, filters for oscar nominees\n",
    "year=2016\n",
    "for movie in scores[year]:\n",
    "    if movie in oscarsAll[year]:\n",
    "        percent = float(scores[year][movie][\"won\"])/float(scores[year][movie][\"nom\"]) * float(100)\n",
    "        print movie ,\" | won: \", scores[year][movie][\"won\"], \"| nom: \", scores[year][movie][\"nom\"], \"| %: \", percent\n",
    "    #print scores[2016][i]"
   ]
  },
  {
   "cell_type": "code",
   "execution_count": null,
   "metadata": {
    "collapsed": false,
    "deletable": true,
    "editable": true
   },
   "outputs": [],
   "source": []
  },
  {
   "cell_type": "code",
   "execution_count": 16,
   "metadata": {
    "collapsed": false,
    "deletable": true,
    "editable": true
   },
   "outputs": [
    {
     "name": "stdout",
     "output_type": "stream",
     "text": [
      "Spotlight 2016\n",
      "La La Land 2017\n",
      "Crash 2006\n",
      "The Departed 2007\n",
      "No Country for Old Men 2008\n",
      "Slumdog Millionaire 2009\n",
      "The Hurt Locker 2010\n",
      "The King's Speech 2011\n",
      "The Artist 2012\n",
      "Argo 2013\n",
      "12 Years a Slave 2014\n",
      "Birdman or (The Unexpected Virtue of Ignorance) 2015\n"
     ]
    }
   ],
   "source": [
    "#shows oscar winners \n",
    "for i in all[\"oscars\"]:\n",
    "    print all[\"oscars\"][i][0], i"
   ]
  },
  {
   "cell_type": "code",
   "execution_count": 17,
   "metadata": {
    "collapsed": false,
    "deletable": true,
    "editable": true
   },
   "outputs": [
    {
     "name": "stdout",
     "output_type": "stream",
     "text": [
      "The Hurt Locker\n",
      "A Serious Man\n",
      "An Education\n",
      "Avatar\n",
      "District 9\n",
      "Inglourious Basterds\n",
      "Precious\n",
      "The Blind Side\n",
      "Up\n",
      "Up in the Air\n"
     ]
    }
   ],
   "source": [
    "#shows oscar noms from specified year\n",
    "y=2010\n",
    "for i in all[\"oscars\"][y]:\n",
    "    print i"
   ]
  },
  {
   "cell_type": "code",
   "execution_count": 18,
   "metadata": {
    "collapsed": false,
    "deletable": true,
    "editable": true
   },
   "outputs": [
    {
     "name": "stdout",
     "output_type": "stream",
     "text": [
      "bafta\n",
      "[u'La La Land', u'Arrival', u'I, Daniel Blake', u'Manchester by the Sea', u'Moonlight']\n",
      "spirits\n",
      "[u'A Bigger Splash', u'Hell or High Water', u'Manchester by the Sea', u'American Honey', u'Morris from America']\n",
      "critics\n",
      "[u'La La Land', u'Moonlight', u'Hacksaw Ridge', u'Hell or High Water', u'Lion', u'Manchester by the Sea', u'Arrival', u'Sully', u'Fences', u'Loving']\n",
      "oscars\n",
      "[u'La La Land', u'Moonlight', u'Hacksaw Ridge', u'Hell or High Water', u'Lion', u'Manchester by the Sea', u'Arrival', u'Fences', u'Hidden Figures']\n",
      "globes\n",
      "[u'Moonlight', u'Hacksaw Ridge', u'Hell or High Water', u'Lion', u'Manchester by the Sea']\n",
      "gothams\n",
      "[u'Moonlight', u'Certain Women', u'Everybody Wants Some!!', u'Manchester by the Sea', u'Paterson']\n",
      "sags\n",
      "[u'Hidden Figures', u'Captain Fantastic', u'Fences', u'Manchester by the Sea', u'Moonlight']\n"
     ]
    }
   ],
   "source": [
    "for i in all:\n",
    "    print i\n",
    "    print(all[i][2017])"
   ]
  },
  {
   "cell_type": "code",
   "execution_count": 19,
   "metadata": {
    "collapsed": false,
    "deletable": true,
    "editable": true
   },
   "outputs": [
    {
     "data": {
      "text/plain": [
       "[u'Beasts of No Nation',\n",
       " u'Results',\n",
       " u'99 Homes',\n",
       " u'Love & Mercy',\n",
       " u'Bone Tomahawk']"
      ]
     },
     "execution_count": 19,
     "metadata": {},
     "output_type": "execute_result"
    }
   ],
   "source": [
    "all[\"spirits\"][2016]"
   ]
  },
  {
   "cell_type": "code",
   "execution_count": 33,
   "metadata": {
    "collapsed": false,
    "deletable": true,
    "editable": true
   },
   "outputs": [
    {
     "name": "stdout",
     "output_type": "stream",
     "text": [
      "Spotlight\n"
     ]
    }
   ],
   "source": [
    "print all[\"oscars\"][2016][0]"
   ]
  },
  {
   "cell_type": "code",
   "execution_count": 73,
   "metadata": {
    "collapsed": false,
    "deletable": true,
    "editable": true
   },
   "outputs": [],
   "source": [
    "import csv\n",
    "with open('bpdata.csv', 'wb') as csvfile:\n",
    "    spamwriter = csv.writer(csvfile, delimiter=',', quoting=csv.QUOTE_MINIMAL)\n",
    "    spamwriter.writerow([\"year\", \"movie\", \"wins\", \"noms\", \"%won\", \"oscarwin\"])\n",
    "    years = [2006,2007,2008,2009,2010,2011,2012,2013,2014,2015,2016]\n",
    "    for year in years:\n",
    "        for movie in oscarsAll[year]:\n",
    "            if movie in scores[year]:\n",
    "                wins = (scores[year][movie][\"won\"])\n",
    "                noms = (scores[year][movie][\"nom\"])\n",
    "                percent = float(scores[year][movie][\"won\"])/float(scores[year][movie][\"nom\"]) * float(100)\n",
    "            else: \n",
    "                wins = 0\n",
    "                noms = 0\n",
    "                percent = 0\n",
    "                \n",
    "            if movie == all[\"oscars\"][year][0]:\n",
    "                won = \"yes\"\n",
    "            else:\n",
    "                won = \"no\"\n",
    "                \n",
    "            if \"Les\" in movie:\n",
    "                spamwriter.writerow([year, \"Les Mis\", wins, noms, percent, won])\n",
    "            else:\n",
    "                spamwriter.writerow([year, movie, wins, noms, percent, won])\n",
    "            \n",
    "        "
   ]
  },
  {
   "cell_type": "code",
   "execution_count": 35,
   "metadata": {
    "collapsed": false,
    "deletable": true,
    "editable": true
   },
   "outputs": [],
   "source": []
  },
  {
   "cell_type": "code",
   "execution_count": null,
   "metadata": {
    "collapsed": false,
    "deletable": true,
    "editable": true,
    "scrolled": true
   },
   "outputs": [],
   "source": []
  },
  {
   "cell_type": "code",
   "execution_count": null,
   "metadata": {
    "collapsed": true,
    "deletable": true,
    "editable": true
   },
   "outputs": [],
   "source": []
  }
 ],
 "metadata": {
  "kernelspec": {
   "display_name": "Python 2",
   "language": "python",
   "name": "python2"
  },
  "language_info": {
   "codemirror_mode": {
    "name": "ipython",
    "version": 2
   },
   "file_extension": ".py",
   "mimetype": "text/x-python",
   "name": "python",
   "nbconvert_exporter": "python",
   "pygments_lexer": "ipython2",
   "version": "2.7.13"
  }
 },
 "nbformat": 4,
 "nbformat_minor": 2
}
