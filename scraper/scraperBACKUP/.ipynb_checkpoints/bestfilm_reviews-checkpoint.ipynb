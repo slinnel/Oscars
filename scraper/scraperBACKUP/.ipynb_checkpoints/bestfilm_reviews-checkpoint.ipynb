{
 "cells": [
  {
   "cell_type": "code",
   "execution_count": null,
   "metadata": {
    "collapsed": false,
    "deletable": true,
    "editable": true
   },
   "outputs": [],
   "source": [
    "from bs4 import BeautifulSoup\n",
    "import urllib\n",
    "import urllib2\n",
    "\n",
    "#to print individual movies in individual years\n",
    "#for i in criticsRated:\n",
    "#    for j in i:\n",
    "#        print(j)\n",
    "\n",
    "\n",
    "#arrays that hold string arrays\n",
    "globes=[]\n",
    "oscars=[]\n",
    "critics=[]\n",
    "spirits=[]\n",
    "baftas=[]\n",
    "links=[]\n",
    "criticsRated=[]\n",
    "\n",
    "#critics choice script , only one that gets reviews currently\n",
    "\n",
    "#2016 link is different than others on imdb\n",
    "years = [\"2006\",\"2007\",\"2008\",\"2009\",\"2010\",\"2011\",\"2012\",\"2013\",\"2014\",\"2015\",\"2016-1\"]\n",
    "#years = [\"2006\"] to shorten time, with reviews it takes a VERY long time\n",
    "\n",
    "#loops once for each year\n",
    "for i in years: \n",
    "    url = 'http://www.imdb.com/event/ev0000133/'+ i\n",
    "    page = urllib2.urlopen(url)\n",
    "    soup = BeautifulSoup(page.read(), \"html5lib\")\n",
    "    \n",
    "#page contains all award data from the webpage, array of size 1 i think\n",
    "    page = soup.findAll(\"div\",{\"class\":\"award\"})\n",
    "    \n",
    "#awards is an array, different indexes are different catagories, different for each type of award\n",
    "    awards = page[0].findAll(\"blockquote\")\n",
    "    \n",
    "#index 0 is trash, 1 is where data starts, usually best picture\n",
    "    film = awards[1].findAll(\"strong\")\n",
    "    \n",
    "#arrays to hold current years data, to be appended to array of arrays later\n",
    "    thisYear = []\n",
    "    namesWithReviews=[]\n",
    "\n",
    "#iterates through each nominee\n",
    "    for i in film: \n",
    "        thisYear.append(i.a.text)\n",
    "#gets movie url and scrapes the reviews\n",
    "        movieUrl = \"http://www.imdb.com\"+ i.a['href']\n",
    "        moviePage = urllib2.urlopen(movieUrl)\n",
    "        soup2 = BeautifulSoup(moviePage.read(), \"html5lib\")\n",
    "        imdbReview = soup2.find(\"span\",{\"itemprop\":\"ratingValue\"})\n",
    "        tempPage = soup2.find(\"div\",{\"class\":\"metacriticScore\"})\n",
    "        metaReview = tempPage.find(\"span\")\n",
    "        namesWithReviews.append(i.a.text + \" , imdb: \" + imdbReview.text + \" , meta: \" + metaReview.text)\n",
    "        \n",
    "    #for i in film: temp.append(i.a['href'])\n",
    "        \n",
    "    critics.append(thisYear)\n",
    "    #links.append(temp)\n",
    "    criticsRated.append(namesWithReviews)"
   ]
  },
  {
   "cell_type": "code",
   "execution_count": null,
   "metadata": {
    "collapsed": false,
    "deletable": true,
    "editable": true
   },
   "outputs": [],
   "source": [
    "#acadamy awards\n",
    "years = [\"2006\",\"2007\",\"2008\",\"2009\",\"2010\",\"2011\",\"2012\",\"2013\",\"2014\",\"2015\",\"2016\"]\n",
    "for i in years: \n",
    "    url = 'http://www.imdb.com/event/ev0000003/'+ i\n",
    "    page = urllib2.urlopen(url)\n",
    "    soup = BeautifulSoup(page.read(), \"html5lib\")\n",
    "    page = soup.findAll(\"div\",{\"class\":\"award\"})\n",
    "    awards = page[0].findAll(\"blockquote\")\n",
    "    film = awards[1].findAll(\"strong\")\n",
    "    thisYear = []\n",
    "    for i in film: thisYear.append(i.a.text)\n",
    "    oscars.append(thisYear)"
   ]
  },
  {
   "cell_type": "code",
   "execution_count": null,
   "metadata": {
    "collapsed": true,
    "deletable": true,
    "editable": true
   },
   "outputs": [],
   "source": [
    "years = [\"2006\",\"2007\",\"2008\",\"2009\",\"2010\",\"2011\",\"2012\",\"2013\",\"2014\",\"2015\",\"2016\",\"2017\"]\n",
    "\n",
    "#golden globes\n",
    "for i in years: \n",
    "    url = 'http://www.imdb.com/event/ev0000292/'+ i\n",
    "    page = urllib2.urlopen(url)\n",
    "    soup = BeautifulSoup(page.read(), \"html5lib\")\n",
    "    page = soup.findAll(\"div\",{\"class\":\"award\"})\n",
    "    awards = page[0].findAll(\"blockquote\")\n",
    "    film = awards[1].findAll(\"strong\")\n",
    "    thisYear = []\n",
    "    for i in film: thisYear.append(i.a.text)\n",
    "    globes.append(thisYear)"
   ]
  },
  {
   "cell_type": "code",
   "execution_count": null,
   "metadata": {
    "collapsed": true,
    "deletable": true,
    "editable": true
   },
   "outputs": [],
   "source": [
    "#bafta\n",
    "for i in years: \n",
    "    url = 'http://www.imdb.com/event/ev0000123/'+ i\n",
    "    page = urllib2.urlopen(url)\n",
    "    soup = BeautifulSoup(page.read(), \"html5lib\")\n",
    "    page = soup.findAll(\"div\",{\"class\":\"award\"})\n",
    "    awards = page[0].findAll(\"blockquote\")\n",
    "    film = awards[1].findAll(\"strong\")\n",
    "    thisYear = []\n",
    "    for i in film: thisYear.append(i.a.text)\n",
    "    baftas.append(thisYear)"
   ]
  },
  {
   "cell_type": "code",
   "execution_count": null,
   "metadata": {
    "collapsed": true,
    "deletable": true,
    "editable": true
   },
   "outputs": [],
   "source": [
    "#spirits\n",
    "for i in years: \n",
    "    url = 'http://www.imdb.com/event/ev0000349/'+ i\n",
    "    page = urllib2.urlopen(url)\n",
    "    soup = BeautifulSoup(page.read(), \"html5lib\")\n",
    "    page = soup.findAll(\"div\",{\"class\":\"award\"})\n",
    "    awards = page[0].findAll(\"blockquote\")\n",
    "    film = awards[1].findAll(\"strong\")\n",
    "    thisYear = []\n",
    "    for i in film: thisYear.append(i.a.text)\n",
    "    spirits.append(thisYear)"
   ]
  },
  {
   "cell_type": "code",
   "execution_count": null,
   "metadata": {
    "collapsed": false,
    "deletable": true,
    "editable": true
   },
   "outputs": [],
   "source": []
  },
  {
   "cell_type": "code",
   "execution_count": null,
   "metadata": {
    "collapsed": false,
    "deletable": true,
    "editable": true
   },
   "outputs": [],
   "source": [
    "for i in criticsRated:\n",
    "    for j in i:\n",
    "        print(j)"
   ]
  }
 ],
 "metadata": {
  "kernelspec": {
   "display_name": "Python 2",
   "language": "python",
   "name": "python2"
  },
  "language_info": {
   "codemirror_mode": {
    "name": "ipython",
    "version": 2
   },
   "file_extension": ".py",
   "mimetype": "text/x-python",
   "name": "python",
   "nbconvert_exporter": "python",
   "pygments_lexer": "ipython2",
   "version": "2.7.13"
  }
 },
 "nbformat": 4,
 "nbformat_minor": 2
}
