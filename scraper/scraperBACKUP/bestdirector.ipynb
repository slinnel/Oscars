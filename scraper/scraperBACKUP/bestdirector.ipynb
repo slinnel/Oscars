{
 "cells": [
  {
   "cell_type": "code",
   "execution_count": 1,
   "metadata": {
    "collapsed": false,
    "deletable": true,
    "editable": true
   },
   "outputs": [
    {
     "name": "stdout",
     "output_type": "stream",
     "text": [
      "1996\n",
      "1997\n",
      "1998\n",
      "1999\n",
      "2000\n",
      "2001\n",
      "2002\n",
      "2003\n",
      "2004\n",
      "2005\n",
      "2006\n",
      "2007\n",
      "2008\n",
      "2009\n",
      "2010\n",
      "2011\n",
      "2012\n",
      "2013\n",
      "2014\n",
      "2015\n",
      "2016-1\n"
     ]
    }
   ],
   "source": [
    "from bs4 import BeautifulSoup\n",
    "import urllib\n",
    "import urllib2\n",
    "#awards1 = best film\n",
    "#awards4 = best actor\n",
    "#awards7 = best actress\n",
    "#awards11 = director\n",
    "#print(awards[1])\n",
    "globes=[]\n",
    "oscars=[]\n",
    "critics=[]\n",
    "spirits=[]\n",
    "baftas=[]\n",
    "\n",
    "all={}\n",
    "criticsAll={}\n",
    "\n",
    "#critics choice\n",
    "years=[\"2017\"]\n",
    "years = [\"1996\",\"1997\",\"1998\",\"1999\",\"2000\",\"2001\",\"2002\",\"2003\",\"2004\",\"2005\",\"2006\",\"2007\",\"2008\",\"2009\",\"2010\",\"2011\",\"2012\",\"2013\",\"2014\",\"2015\",\"2016-1\"]\n",
    "for i in years: \n",
    "    print(i)\n",
    "    url = 'http://www.imdb.com/event/ev0000133/'+ i\n",
    "    page = urllib2.urlopen(url)\n",
    "    soup = BeautifulSoup(page.read(), \"html5lib\")\n",
    "    \n",
    "    thisYear = []\n",
    "    actorsThisYear = []\n",
    "    \n",
    "    htmlActors = u\"\"\n",
    "    for tag in soup.find(\"h2\",text=\"Best Director\").next_siblings:\n",
    "        if tag.name == \"h2\":\n",
    "            break\n",
    "        else:\n",
    "            htmlActors += unicode(tag)\n",
    "    #page = soup.findAll(\"div\",{\"class\":\"award\"})\n",
    "    #awards = page[0].findAll(\"blockquote\")\n",
    "    awardsActors= BeautifulSoup(htmlActors, \"html5lib\")\n",
    "    filmActors = awardsActors.findAll(\"a\")\n",
    "    \n",
    "    size=len(filmActors)\n",
    "    indexes=[]\n",
    "    index=1\n",
    "    iterator=range(size)\n",
    "    \n",
    "    for j in iterator:  \n",
    "        if(index<size):\n",
    "            indexes.append(index)\n",
    "        index=index+3\n",
    "        \n",
    "    for k in indexes: thisYear.append(filmActors[k].text + \" ~ \" + filmActors[k+1].text) \n",
    "    #thisYear.append(actorsThisYear)\n",
    "\n",
    "    if(i==\"2016-1\"):\n",
    "        criticsAll[2016]=thisYear\n",
    "    if(i!=\"2016-1\"):\n",
    "        criticsAll[int(i)]=thisYear\n",
    "\n",
    "all[\"critics\"]=criticsAll"
   ]
  },
  {
   "cell_type": "code",
   "execution_count": 48,
   "metadata": {
    "collapsed": false,
    "deletable": true,
    "editable": true
   },
   "outputs": [],
   "source": [
    "thisYear=[u'Arrival ~ Denis Villeneuve', u'Hacksaw Ridge ~ Mel Gibson', u'Fences ~ Denzel Washington',u'Manchester by the Sea ~ Kenneth Lonergan',u'Moonlight ~ Barry Jenkins',u'Hell or High Water ~ David Mackenzie']\n",
    "criticsAll[2017]=thisYear\n",
    "all[\"critics\"]=criticsAll"
   ]
  },
  {
   "cell_type": "code",
   "execution_count": 32,
   "metadata": {
    "collapsed": false,
    "deletable": true,
    "editable": true
   },
   "outputs": [],
   "source": []
  },
  {
   "cell_type": "code",
   "execution_count": null,
   "metadata": {
    "collapsed": true,
    "deletable": true,
    "editable": true
   },
   "outputs": [],
   "source": [
    "Arrival\n",
    "\n",
    "Hacksaw Ridge\n",
    "\n",
    "La La Land\n",
    "\n",
    "Manchester by the Sea\n",
    "\n",
    "Moonlight"
   ]
  },
  {
   "cell_type": "code",
   "execution_count": 47,
   "metadata": {
    "collapsed": false,
    "deletable": true,
    "editable": true
   },
   "outputs": [],
   "source": [
    "thisYear=[u'Arrival ~ Denis Villeneuve', u'Hacksaw Ridge ~ Mel Gibson', u'La La Land ~ Damien Chazelle',u'Manchester by the Sea ~ Kenneth Lonergan',u'Moonlight ~ Barry Jenkins']\n",
    "oscarsAll[2017]=thisYear\n",
    "all[\"oscars\"]=oscarsAll"
   ]
  },
  {
   "cell_type": "code",
   "execution_count": 6,
   "metadata": {
    "collapsed": false,
    "deletable": true,
    "editable": true
   },
   "outputs": [
    {
     "name": "stdout",
     "output_type": "stream",
     "text": [
      "1996\n",
      "1997\n",
      "1998\n",
      "1999\n",
      "2000\n",
      "2001\n",
      "2002\n",
      "2003\n",
      "2004\n",
      "2005\n",
      "2006\n",
      "2007\n",
      "2008\n",
      "2009\n",
      "2010\n",
      "2011\n",
      "2012\n",
      "2013\n",
      "2014\n",
      "2015\n",
      "2016\n"
     ]
    }
   ],
   "source": [
    "oscarsAll={}\n",
    "awardName=\"Best Director\"\n",
    "#oscars\n",
    "years = [\"1996\",\"1997\",\"1998\",\"1999\",\"2000\",\"2001\",\"2002\",\"2003\",\"2004\",\"2005\",\"2006\",\"2007\",\"2008\",\"2009\",\"2010\",\"2011\",\"2012\",\"2013\",\"2014\",\"2015\",\"2016\"]\n",
    "#years=[\"2017\"]\n",
    "for i in years: \n",
    "    print(i)\n",
    "    url = 'http://www.imdb.com/event/ev000003/'+ i\n",
    "    page = urllib2.urlopen(url)\n",
    "    soup = BeautifulSoup(page.read(), \"html5lib\")\n",
    "    \n",
    "    thisYear = []\n",
    "    actorsThisYear = []\n",
    "    if(i==\"2005\"):\n",
    "        awardName=\"Best Achievement in Directing\"\n",
    "    htmlActors = u\"\"\n",
    "    for tag in soup.find(\"h2\",text=awardName).next_siblings:\n",
    "        if tag.name == \"h2\":\n",
    "            break\n",
    "        else:\n",
    "            htmlActors += unicode(tag)\n",
    "    #page = soup.findAll(\"div\",{\"class\":\"award\"})\n",
    "    #awards = page[0].findAll(\"blockquote\")\n",
    "    awardsActors= BeautifulSoup(htmlActors, \"html5lib\")\n",
    "    filmActors = awardsActors.findAll(\"a\")\n",
    "    \n",
    "    size=len(filmActors)\n",
    "    indexes=[]\n",
    "    index=1\n",
    "    iterator=range(size)\n",
    "    \n",
    "    for j in iterator:  \n",
    "        if(index<size):\n",
    "            indexes.append(index)\n",
    "        index=index+3\n",
    "    if(i == \"2014\"):\n",
    "        indexes=[1,5,8,11,14]\n",
    "        \n",
    "    for k in indexes: thisYear.append(filmActors[k].text + \" ~ \" + filmActors[k+1].text) \n",
    "    #thisYear.append(actorsThisYear)\n",
    "\n",
    "    if(i==\"2016-1\"):\n",
    "        oscarsAll[2016]=thisYear\n",
    "    if(i!=\"2016-1\"):\n",
    "        oscarsAll[int(i)]=thisYear\n",
    "\n",
    "all[\"oscars\"]=oscarsAll"
   ]
  },
  {
   "cell_type": "code",
   "execution_count": 7,
   "metadata": {
    "collapsed": false,
    "deletable": true,
    "editable": true
   },
   "outputs": [
    {
     "name": "stdout",
     "output_type": "stream",
     "text": [
      "[u'Gravity ~ Alfonso Cuar\\xf3n', u'American Hustle ~ David O. Russell', u'Nebraska ~ Alexander Payne', u'12 Years a Slave ~ Steve McQueen', u'The Wolf of Wall Street ~ Martin Scorsese']\n"
     ]
    }
   ],
   "source": [
    "print(all[\"oscars\"][2014])"
   ]
  },
  {
   "cell_type": "code",
   "execution_count": 35,
   "metadata": {
    "collapsed": false,
    "deletable": true,
    "editable": true
   },
   "outputs": [
    {
     "name": "stdout",
     "output_type": "stream",
     "text": [
      "2017\n"
     ]
    }
   ],
   "source": [
    "globesAll={}\n",
    "\n",
    "#globes\n",
    "years=[\"2017\"]\n",
    "\n",
    "#years = [\"1996\",\"1997\",\"1998\",\"1999\",\"2000\",\"2001\",\"2002\",\"2003\",\"2004\",\"2005\",\"2006\",\"2007\",\"2008\",\"2009\",\"2010\",\"2011\",\"2012\",\"2013\",\"2014\",\"2015\",\"2016\"]\n",
    "for i in years: \n",
    "    print(i)\n",
    "    url = 'http://www.imdb.com/event/ev0000292/'+ i\n",
    "    page = urllib2.urlopen(url)\n",
    "    soup = BeautifulSoup(page.read(), \"html5lib\")\n",
    "    \n",
    "    thisYear = []\n",
    "    actorsThisYear = []\n",
    "    \n",
    "    htmlActors = u\"\"\n",
    "    for tag in soup.find(\"h2\",text=\"Best Director - Motion Picture\").next_siblings:\n",
    "        if tag.name == \"h2\":\n",
    "            break\n",
    "        else:\n",
    "            htmlActors += unicode(tag)\n",
    "    #page = soup.findAll(\"div\",{\"class\":\"award\"})\n",
    "    #awards = page[0].findAll(\"blockquote\")\n",
    "    awardsActors= BeautifulSoup(htmlActors, \"html5lib\")\n",
    "    filmActors = awardsActors.findAll(\"a\")\n",
    "    \n",
    "    size=len(filmActors)\n",
    "    indexes=[]\n",
    "    index=1\n",
    "    iterator=range(size)\n",
    "    \n",
    "    for j in iterator:  \n",
    "        if(index<size):\n",
    "            indexes.append(index)\n",
    "        index=index+3\n",
    "        \n",
    "    for k in indexes: thisYear.append(filmActors[k].text + \" ~ \" + filmActors[k+1].text) \n",
    "    #thisYear.append(actorsThisYear)\n",
    "\n",
    "\n",
    "    globesAll[int(i)]=thisYear\n",
    "\n",
    "all[\"globes\"]=globesAll"
   ]
  },
  {
   "cell_type": "code",
   "execution_count": 36,
   "metadata": {
    "collapsed": false,
    "deletable": true,
    "editable": true
   },
   "outputs": [
    {
     "name": "stdout",
     "output_type": "stream",
     "text": [
      "2017\n"
     ]
    }
   ],
   "source": [
    "baftasAll={}\n",
    "\n",
    "awardName=\"David Lean Award for Direction\"\n",
    "\n",
    "#baftas\n",
    "for i in years: \n",
    "    print(i)\n",
    "    url = 'http://www.imdb.com/event/ev0000123/'+ i\n",
    "    page = urllib2.urlopen(url)\n",
    "    soup = BeautifulSoup(page.read(), \"html5lib\")\n",
    "    \n",
    "    thisYear = []\n",
    "    actorsThisYear = []\n",
    "    htmlActors = u\"\"\n",
    "    \n",
    "\n",
    "    for tag in soup.find(\"h1\",text=awardName).next_siblings:\n",
    "        if tag.name == \"h1\":\n",
    "            break\n",
    "        else:\n",
    "            htmlActors += unicode(tag)\n",
    "    #page = soup.findAll(\"div\",{\"class\":\"award\"})\n",
    "    #awards = page[0].findAll(\"blockquote\")\n",
    "    awardsActors= BeautifulSoup(htmlActors, \"html5lib\")\n",
    "    filmActors = awardsActors.findAll(\"a\")\n",
    "    \n",
    "    size=len(filmActors)\n",
    "    indexes=[]\n",
    "    index=1\n",
    "    iterator=range(size)\n",
    "    \n",
    "    for j in iterator:  \n",
    "        if(index<size):\n",
    "            indexes.append(index)\n",
    "        index=index+3\n",
    "        \n",
    "    for k in indexes: thisYear.append(filmActors[k].text + \" ~ \" + filmActors[k+1].text) \n",
    "    #thisYear.append(actorsThisYear)\n",
    "\n",
    "    baftasAll[int(i)]=thisYear\n",
    "\n",
    "all[\"baftas\"]=baftasAll"
   ]
  },
  {
   "cell_type": "code",
   "execution_count": 37,
   "metadata": {
    "collapsed": false,
    "deletable": true,
    "editable": true
   },
   "outputs": [
    {
     "name": "stdout",
     "output_type": "stream",
     "text": [
      "2017\n"
     ]
    }
   ],
   "source": [
    "spiritsAll={}\n",
    "\n",
    "#spirits\n",
    "for i in years: \n",
    "    print(i)\n",
    "    url = 'http://www.imdb.com/event/ev0000349/'+ i\n",
    "    page = urllib2.urlopen(url)\n",
    "    soup = BeautifulSoup(page.read(), \"html5lib\")\n",
    "    \n",
    "    thisYear = []\n",
    "    actorsThisYear = []\n",
    "    htmlActors = u\"\"\n",
    "    for tag in soup.find(\"h2\",text=\"Best Director\").next_siblings:\n",
    "        if tag.name == \"h2\":\n",
    "            break\n",
    "        else:\n",
    "            htmlActors += unicode(tag)\n",
    "    #page = soup.findAll(\"div\",{\"class\":\"award\"})\n",
    "    #awards = page[0].findAll(\"blockquote\")\n",
    "    awardsActors= BeautifulSoup(htmlActors, \"html5lib\")\n",
    "    filmActors = awardsActors.findAll(\"a\")\n",
    "    \n",
    "    size=len(filmActors)\n",
    "    indexes=[]\n",
    "    index=1\n",
    "    iterator=range(size)\n",
    "    \n",
    "    for j in iterator:  \n",
    "        if(index<size):\n",
    "            indexes.append(index)\n",
    "        index=index+3\n",
    "        \n",
    "    for k in indexes: thisYear.append(filmActors[k].text + \" ~ \" + filmActors[k+1].text) \n",
    "    #thisYear.append(actorsThisYear)\n",
    "\n",
    "    spiritsAll[int(i)]=thisYear\n",
    "\n",
    "all[\"spirits\"]=spiritsAll"
   ]
  },
  {
   "cell_type": "code",
   "execution_count": 47,
   "metadata": {
    "collapsed": false,
    "deletable": true,
    "editable": true
   },
   "outputs": [
    {
     "name": "stdout",
     "output_type": "stream",
     "text": [
      "2017\n"
     ]
    }
   ],
   "source": [
    "#no sags"
   ]
  },
  {
   "cell_type": "code",
   "execution_count": 57,
   "metadata": {
    "collapsed": false,
    "deletable": true,
    "editable": true
   },
   "outputs": [],
   "source": [
    "#no best actor until 2013, not useful data?\n",
    "\n",
    "\n",
    "#gothamsAll={}\n",
    "\n",
    "#gothams\n",
    "#for i in years: \n",
    "    #url = 'http://www.imdb.com/event/ev0000298/'+ i\n",
    "    #page = urllib2.urlopen(url)\n",
    "    #soup = BeautifulSoup(page.read(), \"html5lib\")\n",
    "    \n",
    "    #thisYear = []\n",
    "    #actorsThisYear = []\n",
    "    #print(i)\n",
    "    #htmlActors = u\"\"\n",
    "    #for tag in soup.find(\"h2\",text=\"Best Actor\").next_siblings:\n",
    "       # if tag.name == \"h2\":\n",
    "      #      break\n",
    "     #   else:\n",
    "    #        htmlActors += unicode(tag)\n",
    "\n",
    "   # awardsActors= BeautifulSoup(htmlActors, \"html5lib\")\n",
    "  #  filmActors = awardsActors.findAll(\"a\")\n",
    "    \n",
    " #   size=len(filmActors)\n",
    "#    indexes=[]\n",
    "    #index=1\n",
    "    #iterator=range(size)\n",
    "    \n",
    "    #for j in iterator:  \n",
    "     #   if(index<size):\n",
    "    #        indexes.append(index)\n",
    "   #     index=index+3\n",
    "        \n",
    "  #  for k in indexes: thisYear.append(filmActors[k].text + \" , \" + filmActors[k+1].text) \n",
    "\n",
    " #   gothamsAll[int(i)]=thisYear\n",
    "\n",
    "#all[\"gothams\"]=gothamsAll"
   ]
  },
  {
   "cell_type": "code",
   "execution_count": 17,
   "metadata": {
    "collapsed": false,
    "deletable": true,
    "editable": true
   },
   "outputs": [
    {
     "name": "stdout",
     "output_type": "stream",
     "text": [
      "('critics', [u'Argo ~ Ben Affleck', u'Zero Dark Thirty ~ Kathryn Bigelow', u'Les Mis\\xe9rables ~ Tom Hooper', u'Life of Pi ~ Ang Lee', u'Silver Linings Playbook ~ David O. Russell', u'Lincoln ~ Steven Spielberg'])\n",
      "\n",
      "('oscars', [u'Life of Pi ~ Ang Lee', u'Amour ~ Michael Haneke', u'Silver Linings Playbook ~ David O. Russell', u'Lincoln ~ Steven Spielberg', u'Beasts of the Southern Wild ~ Benh Zeitlin'])\n",
      "\n",
      "('spirits', [u'Silver Linings Playbook ~ David O. Russell', u'Beasts of the Southern Wild ~ Benh Zeitlin', u'The Loneliest Planet ~ Julia Loktev', u'Keep the Lights On ~ Ira Sachs', u'Moonrise Kingdom ~ Wes Anderson'])\n",
      "\n",
      "('globes', [u'Argo ~ Ben Affleck', u'Zero Dark Thirty ~ Kathryn Bigelow', u'Life of Pi ~ Ang Lee', u'Lincoln ~ Steven Spielberg', u'Django Unchained ~ Quentin Tarantino'])\n",
      "\n",
      "('baftas', [u'Argo ~ Ben Affleck', u'Zero Dark Thirty ~ Kathryn Bigelow', u'Amour ~ Michael Haneke', u'Life of Pi ~ Ang Lee', u'Django Unchained ~ Quentin Tarantino'])\n",
      "\n"
     ]
    }
   ],
   "source": [
    "for i in all:\n",
    "    print(i,all[i][2013])\n",
    "    print(\"\")"
   ]
  },
  {
   "cell_type": "code",
   "execution_count": 38,
   "metadata": {
    "collapsed": false,
    "deletable": true,
    "editable": true
   },
   "outputs": [],
   "source": [
    "scores={}"
   ]
  },
  {
   "cell_type": "code",
   "execution_count": 39,
   "metadata": {
    "collapsed": false,
    "deletable": true,
    "editable": true
   },
   "outputs": [
    {
     "name": "stdout",
     "output_type": "stream",
     "text": [
      "Arrival - Denis Villeneuve\n",
      "adding to table\n",
      "won\n",
      "Hacksaw Ridge ~ Mel Gibson\n",
      "adding to table\n",
      "nom\n",
      "Fences ~ Denzel Washington\n",
      "adding to table\n",
      "nom\n",
      "Manchester by the Sea ~ Kenneth Lonergan\n",
      "adding to table\n",
      "nom\n",
      "Moonlight ~ Barry Jenkins\n",
      "adding to table\n",
      "nom\n",
      "Hell or High Water ~ David Mackenzie\n",
      "adding to table\n",
      "nom\n",
      "American Honey ~ Andrea Arnold\n",
      "adding to table\n",
      "won\n",
      "Moonlight ~ Barry Jenkins\n",
      "nom\n",
      "Jackie ~ Pablo Larraín\n",
      "adding to table\n",
      "nom\n",
      "Loving ~ Jeff Nichols\n",
      "adding to table\n",
      "nom\n",
      "Certain Women ~ Kelly Reichardt\n",
      "adding to table\n",
      "nom\n",
      "La La Land ~ Damien Chazelle\n",
      "adding to table\n",
      "won\n",
      "Nocturnal Animals ~ Tom Ford\n",
      "adding to table\n",
      "nom\n",
      "Hacksaw Ridge ~ Mel Gibson\n",
      "nom\n",
      "Moonlight ~ Barry Jenkins\n",
      "nom\n",
      "Manchester by the Sea ~ Kenneth Lonergan\n",
      "nom\n",
      "La La Land ~ Damien Chazelle\n",
      "won\n",
      "Arrival ~ Denis Villeneuve\n",
      "adding to table\n",
      "nom\n",
      "I, Daniel Blake ~ Ken Loach\n",
      "adding to table\n",
      "nom\n",
      "Manchester by the Sea ~ Kenneth Lonergan\n",
      "nom\n",
      "Nocturnal Animals ~ Tom Ford\n",
      "nom\n"
     ]
    }
   ],
   "source": [
    "for award in all: #for each award (i)\n",
    "    \n",
    "    if(award != \"oscars\"):\n",
    "        \n",
    "        for year in all[award]: #for each year (j)\n",
    "            \n",
    "            if year == 2017:\n",
    "                if year not in scores:\n",
    "                    scores[year]={};\n",
    "                    \n",
    "                for movie in all[award][year]:\n",
    "                    print(movie)\n",
    "                    if movie not in scores[year]:\n",
    "                        scores[year][movie]={}\n",
    "                        scores[year][movie][\"won\"]=0\n",
    "                        scores[year][movie][\"nom\"]=0\n",
    "                        print(\"adding to table\")\n",
    "                    \n",
    "                    if(all[award][year][0]==movie):\n",
    "                        if movie in scores[year]:\n",
    "                            scores[year][movie][\"won\"]+=1\n",
    "                            scores[year][movie][\"nom\"]+=1\n",
    "                            print(\"won\")\n",
    "                    else:\n",
    "                        if movie in scores[year]:\n",
    "                            scores[year][movie][\"nom\"]+=1\n",
    "                            print(\"nom\")\n",
    "\n"
   ]
  },
  {
   "cell_type": "code",
   "execution_count": 40,
   "metadata": {
    "collapsed": true,
    "deletable": true,
    "editable": true
   },
   "outputs": [],
   "source": [
    "scores[2017]={}\n",
    "for award in all: #for each award (i)\n",
    "    \n",
    "    if(award != \"oscars\"):\n",
    "        \n",
    "        for year in all[award]: #for each year (j)\n",
    "            \n",
    "            if year == 2017:\n",
    "                \n",
    "                for movie in all[award][year]:\n",
    "                    \n",
    "                    if movie not in scores[year]:\n",
    "                        scores[year][movie]={}\n",
    "                        scores[year][movie][\"won\"]=0\n",
    "                        scores[year][movie][\"nom\"]=0\n",
    "                    \n",
    "                    if(all[award][year][0]==movie):\n",
    "                        if movie in scores[year]:\n",
    "                            scores[year][movie][\"won\"]+=1\n",
    "                            scores[year][movie][\"nom\"]+=1\n",
    "\n",
    "                        else:\n",
    "                            scores[year][movie]=5\n",
    "                    else:\n",
    "                        if movie in scores[year]:\n",
    "                            scores[year][movie][\"nom\"]+=1\n",
    "                        else:\n",
    "                            scores[year][movie]=2"
   ]
  },
  {
   "cell_type": "code",
   "execution_count": null,
   "metadata": {
    "collapsed": false,
    "deletable": true,
    "editable": true
   },
   "outputs": [],
   "source": []
  },
  {
   "cell_type": "code",
   "execution_count": 46,
   "metadata": {
    "collapsed": false,
    "deletable": true,
    "editable": true
   },
   "outputs": [
    {
     "name": "stdout",
     "output_type": "stream",
     "text": [
      "{1996: [u'Braveheart ~ Mel Gibson', u'Apollo 13 ~ Ron Howard'], 1997: [u'The English Patient ~ Anthony Minghella', u'Fargo ~ Joel Coen'], 1998: [u'Titanic ~ James Cameron'], 1999: [u'Saving Private Ryan ~ Steven Spielberg'], 2000: [u'American Beauty ~ Sam Mendes'], 2001: [u'Traffic ~ Erin Brockovich', u' ~ Gladiator'], 2002: [u'A Beautiful Mind ~ Ron Howard', u'Moulin Rouge! ~ ', u'Baz Luhrmann ~ Ron Howard', u' ~ The Lord of the Rings: The Fellowship of the Ring'], 2003: [u'Catch Me If You Can ~ Minority Report', u' ~ The Pianist', u' ~ Gangs of New York'], 2004: [u'The Lord of the Rings: The Return of the King ~ Peter Jackson', u'Big Fish ~ Tim Burton', u'Lost in Translation ~ Sofia Coppola', u'Mystic River ~ Clint Eastwood', u'In America ~ Jim Sheridan'], 2005: [u'The Aviator ~ Martin Scorsese', u'Finding Neverland ~ Marc Forster', u'Million Dollar Baby ~ Clint Eastwood', u'Ray ~ Taylor Hackford', u'Sideways ~ Alexander Payne'], 2006: [u'Brokeback Mountain ~ Ang Lee', u'Cinderella Man ~ Ron Howard', u'Crash ~ Paul Haggis', u'Good Night, and Good Luck. ~ George Clooney', u'King Kong ~ Peter Jackson', u'Munich ~ Steven Spielberg'], 2007: [u'The Departed ~ Martin Scorsese', u'Dreamgirls ~ Bill Condon', u'Letters from Iwo Jima ~ Clint Eastwood', u'The Queen ~ Stephen Frears', u'United 93 ~ Paul Greengrass'], 2008: [u'No Country for Old Men ~ Ethan Coen', u' ~ Atonement', u\" ~ Before the Devil Knows You're Dead\", u' ~ Into the Wild', u' ~ The Diving Bell and the Butterfly', u' ~ Sweeney Todd: The Demon Barber of Fleet Street'], 2009: [u'Slumdog Millionaire ~ Danny Boyle', u'The Curious Case of Benjamin Button ~ David Fincher', u'The Dark Knight ~ Christopher Nolan', u'Frost/Nixon ~ Ron Howard', u'Milk ~ Gus Van Sant'], 2010: [u'The Hurt Locker ~ Kathryn Bigelow', u'Avatar ~ James Cameron', u'Inglourious Basterds ~ Quentin Tarantino', u'Invictus ~ Clint Eastwood', u'Precious ~ Lee Daniels', u'Up in the Air ~ Jason Reitman'], 2011: [u'The Social Network ~ David Fincher', u'127 Hours ~ Danny Boyle', u'True Grit ~ Joel Coen', u\" ~ The King's Speech\", u' ~ Inception', u' ~ Black Swan'], 2012: [u'The Artist ~ Michel Hazanavicius', u'Extremely Loud & Incredibly Close ~ Stephen Daldry', u'The Descendants ~ Alexander Payne', u'Drive ~ Nicolas Winding Refn', u'Hugo ~ Martin Scorsese', u'War Horse ~ Steven Spielberg'], 2013: [u'Argo ~ Ben Affleck', u'Zero Dark Thirty ~ Kathryn Bigelow', u'Les Mis\\xe9rables ~ Tom Hooper', u'Life of Pi ~ Ang Lee', u'Silver Linings Playbook ~ David O. Russell', u'Lincoln ~ Steven Spielberg'], 2014: [u'Gravity ~ Alfonso Cuar\\xf3n', u'Captain Phillips ~ Paul Greengrass', u'Her ~ Spike Jonze', u'12 Years a Slave ~ Steve McQueen', u'American Hustle ~ David O. Russell', u'The Wolf of Wall Street ~ Martin Scorsese'], 2015: [u'Boyhood ~ Richard Linklater', u'The Grand Budapest Hotel ~ Wes Anderson', u'Selma ~ Ava DuVernay', u'Gone Girl ~ David Fincher', u'Birdman or (The Unexpected Virtue of Ignorance) ~ Alejandro G. I\\xf1\\xe1rritu', u'Unbroken ~ Angelina Jolie'], 2016: [u'Mad Max: Fury Road ~ George Miller', u'Carol ~ Todd Haynes', u'The Revenant ~ Alejandro G. I\\xf1\\xe1rritu', u'Spotlight ~ Tom McCarthy', u'The Martian ~ Ridley Scott', u'Bridge of Spies ~ Steven Spielberg'], 2017: [u'Arrival - Denis Villeneuve', u'Hacksaw Ridge ~ Mel Gibson', u'Fences ~ Denzel Washington', u'Manchester by the Sea ~ Kenneth Lonergan', u'Moonlight ~ Barry Jenkins', u'Hell or High Water ~ David Mackenzie']}\n",
      " \n",
      "{2017: [u'Arrival - Denis Villeneuve', u'Hacksaw Ridge ~ Mel Gibson', u'La La Land ~ Damien Chazelle', u'Manchester by the Sea ~ Kenneth Lonergan', u'Moonlight ~ Barry Jenkins']}\n",
      " \n",
      "{2017: [u'American Honey ~ Andrea Arnold', u'Moonlight ~ Barry Jenkins', u'Jackie ~ Pablo Larra\\xedn', u'Loving ~ Jeff Nichols', u'Certain Women ~ Kelly Reichardt']}\n",
      " \n",
      "{2017: [u'La La Land ~ Damien Chazelle', u'Nocturnal Animals ~ Tom Ford', u'Hacksaw Ridge ~ Mel Gibson', u'Moonlight ~ Barry Jenkins', u'Manchester by the Sea ~ Kenneth Lonergan']}\n",
      " \n",
      "{2017: [u'La La Land ~ Damien Chazelle', u'Arrival ~ Denis Villeneuve', u'I, Daniel Blake ~ Ken Loach', u'Manchester by the Sea ~ Kenneth Lonergan', u'Nocturnal Animals ~ Tom Ford']}\n",
      " \n"
     ]
    }
   ],
   "source": [
    "for i in all:\n",
    "    print all[i]\n"
   ]
  },
  {
   "cell_type": "code",
   "execution_count": null,
   "metadata": {
    "collapsed": false,
    "deletable": true,
    "editable": true
   },
   "outputs": [],
   "source": []
  },
  {
   "cell_type": "code",
   "execution_count": 41,
   "metadata": {
    "collapsed": false,
    "deletable": true,
    "editable": true
   },
   "outputs": [
    {
     "name": "stdout",
     "output_type": "stream",
     "text": [
      "Arrival - Denis Villeneuve  | won:  1 | nom:  1 | %:  100.0\n",
      "La La Land ~ Damien Chazelle  | won:  2 | nom:  2 | %:  100.0\n",
      "Manchester by the Sea ~ Kenneth Lonergan  | won:  0 | nom:  3 | %:  0.0\n",
      "Moonlight ~ Barry Jenkins  | won:  0 | nom:  3 | %:  0.0\n",
      "Hacksaw Ridge ~ Mel Gibson  | won:  0 | nom:  2 | %:  0.0\n"
     ]
    }
   ],
   "source": [
    "#prints % data from specified year, filters for oscar nominees\n",
    "year=2017\n",
    "for movie in scores[year]:\n",
    "    if movie in oscarsAll[year]:\n",
    "        percent = float(scores[year][movie][\"won\"])/float(scores[year][movie][\"nom\"]) * float(100)\n",
    "        print movie ,\" | won: \", scores[year][movie][\"won\"], \"| nom: \", scores[year][movie][\"nom\"], \"| %: \", percent\n",
    "    #print scores[2016][i]"
   ]
  },
  {
   "cell_type": "code",
   "execution_count": 49,
   "metadata": {
    "collapsed": false,
    "deletable": true,
    "editable": true
   },
   "outputs": [
    {
     "name": "stdout",
     "output_type": "stream",
     "text": [
      "Arrival ~ Denis Villeneuve\n",
      "Arrival  Denis Villeneuve\n",
      "Hacksaw Ridge ~ Mel Gibson\n",
      "Hacksaw Ridge  Mel Gibson\n",
      "La La Land ~ Damien Chazelle\n",
      "La La Land  Damien Chazelle\n",
      "Manchester by the Sea ~ Kenneth Lonergan\n",
      "Manchester by the Sea  Kenneth Lonergan\n",
      "Moonlight ~ Barry Jenkins\n",
      "Moonlight  Barry Jenkins\n"
     ]
    }
   ],
   "source": [
    "#oscarsAllREVIEWS\n",
    "import csv\n",
    "with open('bddata2017.csv', 'wb') as csvfile:\n",
    "    spamwriter = csv.writer(csvfile, delimiter=',', quoting=csv.QUOTE_MINIMAL)\n",
    "    spamwriter.writerow([\"year\", \"movie\",\"director\", \"wins\", \"noms\", \"%won\", \"oscarwin\", \"globewin\"])\n",
    "    #years = [\"1996\",\"1997\",\"1998\",\"1999\",\"2000\",\"2001\",\"2002\",\"2003\",\"2004\",\"2005\",\"2006\",\"2007\",\"2008\",\"2009\",\"2010\",\"2011\",\"2012\",\"2013\",\"2014\",\"2015\",\"2016\"]\n",
    "    years=[\"2017\"]\n",
    "    for year in years:\n",
    "        year=int(year)\n",
    "        counter = 0\n",
    "        \n",
    "        for movie in oscarsAll[year]:\n",
    "            \n",
    "            print(movie)\n",
    "            mList = movie.split(\"~\")\n",
    "            name = mList[0]\n",
    "            director = mList[1]\n",
    "            if movie == all[\"globes\"][year][0]:\n",
    "                globewin = \"yes\"\n",
    "            else:\n",
    "                globewin = \"no\"\n",
    "            if movie in scores[year]:\n",
    "                wins = (scores[year][movie][\"won\"])\n",
    "                noms = (scores[year][movie][\"nom\"])\n",
    "                percent = float(scores[year][movie][\"won\"])/float(scores[year][movie][\"nom\"]) * float(100)\n",
    "            else: \n",
    "                wins = 0\n",
    "                noms = 0\n",
    "                percent = 0\n",
    "                \n",
    "            if movie == all[\"oscars\"][year][0]:\n",
    "                won = \"yes\"\n",
    "            else:\n",
    "                won = \"no\"\n",
    "                \n",
    "            if \"Les\" in movie:\n",
    "                spamwriter.writerow([year, \"Les Mis\",director, wins, noms, percent, won, globewin])\n",
    "            elif \"A Better Life\" in movie:\n",
    "                spamwriter.writerow([year, name,\"Demian Bichir\", wins, noms, percent, won, globewin])\n",
    "            elif \"e Zellweger\" in director:\n",
    "                spamwriter.writerow([year, name,\"Renee Zellweger\", wins, noms, percent, won, globewin])\n",
    "            elif \"lope Cruz\" in director:\n",
    "                spamwriter.writerow([year, name,\"Penelope Cruz\", wins, noms, percent, won, globewin])\n",
    "            elif \"Quvenzhan\" in director:\n",
    "                spamwriter.writerow([year, name,\"Quvenzhane Wallis\", wins, noms, percent, won, globewin])   \n",
    "            elif \"Lasse Hallstr\" in director:                \n",
    "                spamwriter.writerow([year, name,\"Lasse Hallstrom\", wins, noms, percent, won, globewin]) \n",
    "            elif \"Alejandro G. I\" in director:\n",
    "                spamwriter.writerow([year, name,\"Alejandro G. Inarritu\", wins, noms, percent, won, globewin]) \n",
    "            elif \"Alfonso Cuar\" in director:\n",
    "                spamwriter.writerow([year, name,\"Alfonso Cuaron\", wins, noms, percent, won, globewin]) \n",
    "            else:\n",
    "                print(name+director)\n",
    "                spamwriter.writerow([year, name,director, wins, noms, percent, won,globewin])\n",
    "            counter = counter + 1"
   ]
  }
 ],
 "metadata": {
  "kernelspec": {
   "display_name": "Python 2",
   "language": "python",
   "name": "python2"
  },
  "language_info": {
   "codemirror_mode": {
    "name": "ipython",
    "version": 2
   },
   "file_extension": ".py",
   "mimetype": "text/x-python",
   "name": "python",
   "nbconvert_exporter": "python",
   "pygments_lexer": "ipython2",
   "version": "2.7.13"
  }
 },
 "nbformat": 4,
 "nbformat_minor": 2
}
