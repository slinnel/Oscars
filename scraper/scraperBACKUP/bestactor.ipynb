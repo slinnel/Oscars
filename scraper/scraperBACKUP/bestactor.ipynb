{
 "cells": [
  {
   "cell_type": "code",
   "execution_count": 7,
   "metadata": {
    "collapsed": false,
    "deletable": true,
    "editable": true
   },
   "outputs": [
    {
     "name": "stdout",
     "output_type": "stream",
     "text": [
      "2017\n"
     ]
    },
    {
     "ename": "AttributeError",
     "evalue": "'NoneType' object has no attribute 'next_siblings'",
     "output_type": "error",
     "traceback": [
      "\u001b[0;31m---------------------------------------------------------------------------\u001b[0m",
      "\u001b[0;31mAttributeError\u001b[0m                            Traceback (most recent call last)",
      "\u001b[0;32m<ipython-input-7-6db4059d5fd9>\u001b[0m in \u001b[0;36m<module>\u001b[0;34m()\u001b[0m\n\u001b[1;32m     29\u001b[0m \u001b[0;34m\u001b[0m\u001b[0m\n\u001b[1;32m     30\u001b[0m     \u001b[0mhtmlActors\u001b[0m \u001b[0;34m=\u001b[0m \u001b[0;34mu\"\"\u001b[0m\u001b[0;34m\u001b[0m\u001b[0m\n\u001b[0;32m---> 31\u001b[0;31m     \u001b[0;32mfor\u001b[0m \u001b[0mtag\u001b[0m \u001b[0;32min\u001b[0m \u001b[0msoup\u001b[0m\u001b[0;34m.\u001b[0m\u001b[0mfind\u001b[0m\u001b[0;34m(\u001b[0m\u001b[0;34m\"h2\"\u001b[0m\u001b[0;34m,\u001b[0m\u001b[0mtext\u001b[0m\u001b[0;34m=\u001b[0m\u001b[0;34m\"Best Actor\"\u001b[0m\u001b[0;34m)\u001b[0m\u001b[0;34m.\u001b[0m\u001b[0mnext_siblings\u001b[0m\u001b[0;34m:\u001b[0m\u001b[0;34m\u001b[0m\u001b[0m\n\u001b[0m\u001b[1;32m     32\u001b[0m         \u001b[0;32mif\u001b[0m \u001b[0mtag\u001b[0m\u001b[0;34m.\u001b[0m\u001b[0mname\u001b[0m \u001b[0;34m==\u001b[0m \u001b[0;34m\"h2\"\u001b[0m\u001b[0;34m:\u001b[0m\u001b[0;34m\u001b[0m\u001b[0m\n\u001b[1;32m     33\u001b[0m             \u001b[0;32mbreak\u001b[0m\u001b[0;34m\u001b[0m\u001b[0m\n",
      "\u001b[0;31mAttributeError\u001b[0m: 'NoneType' object has no attribute 'next_siblings'"
     ]
    }
   ],
   "source": [
    "from bs4 import BeautifulSoup\n",
    "import urllib\n",
    "import urllib2\n",
    "#awards1 = best film\n",
    "#awards4 = best actor\n",
    "#awards7 = best actress\n",
    "#awards11 = director\n",
    "#print(awards[1])\n",
    "globes=[]\n",
    "oscars=[]\n",
    "critics=[]\n",
    "spirits=[]\n",
    "baftas=[]\n",
    "\n",
    "all={}\n",
    "criticsAll={}\n",
    "\n",
    "#critics choice\n",
    "years=[\"2017\"]\n",
    "#years = [\"1996\",\"1997\",\"1998\",\"1999\",\"2000\",\"2001\",\"2002\",\"2003\",\"2004\",\"2005\",\"2006\",\"2007\",\"2008\",\"2009\",\"2010\",\"2011\",\"2012\",\"2013\",\"2014\",\"2015\",\"2016-1\"]\n",
    "for i in years: \n",
    "    print(i)\n",
    "    url = 'http://www.imdb.com/event/ev0000133/'+ i\n",
    "    page = urllib2.urlopen(url)\n",
    "    soup = BeautifulSoup(page.read(), \"html5lib\")\n",
    "    \n",
    "    thisYear = []\n",
    "    actorsThisYear = []\n",
    "    \n",
    "    htmlActors = u\"\"\n",
    "    for tag in soup.find(\"h2\",text=\"Best Actor\").next_siblings:\n",
    "        if tag.name == \"h2\":\n",
    "            break\n",
    "        else:\n",
    "            htmlActors += unicode(tag)\n",
    "    #page = soup.findAll(\"div\",{\"class\":\"award\"})\n",
    "    #awards = page[0].findAll(\"blockquote\")\n",
    "    awardsActors= BeautifulSoup(htmlActors, \"html5lib\")\n",
    "    filmActors = awardsActors.findAll(\"a\")\n",
    "    \n",
    "    size=len(filmActors)\n",
    "    indexes=[]\n",
    "    index=1\n",
    "    iterator=range(size)\n",
    "    \n",
    "    for j in iterator:  \n",
    "        if(index<size):\n",
    "            indexes.append(index)\n",
    "        index=index+3\n",
    "        \n",
    "    for k in indexes: thisYear.append(filmActors[k].text + \" ~ \" + filmActors[k+1].text) \n",
    "    #thisYear.append(actorsThisYear)\n",
    "\n",
    "    if(i==\"2016-1\"):\n",
    "        criticsAll[2016]=thisYear\n",
    "    if(i!=\"2016-1\"):\n",
    "        criticsAll[int(i)]=thisYear\n",
    "\n",
    "all[\"critics\"]=criticsAll"
   ]
  },
  {
   "cell_type": "code",
   "execution_count": 25,
   "metadata": {
    "collapsed": false,
    "deletable": true,
    "editable": true
   },
   "outputs": [],
   "source": [
    "thisYear=[u'Manchester by the Sea ~ Casey Affleck',u'Loving ~ Joel Edgerton',u'Hacksaw Ridge ~ Andrew Garfield',u'La La Land ~ Ryan Gosling',u'Sully ~ Tom Hanks',u'Fences ~ Denzel Washington']\n",
    "criticsAll[2017]=thisYear\n",
    "all[\"critics\"]=criticsAll"
   ]
  },
  {
   "cell_type": "code",
   "execution_count": 12,
   "metadata": {
    "collapsed": false,
    "deletable": true,
    "editable": true
   },
   "outputs": [
    {
     "name": "stdout",
     "output_type": "stream",
     "text": [
      "[u'Casey Affleck , Manchester by the Sea', u'Joel Edgerton , Loving', u'Andrew Garfield , Hacksaw Ridge', u'Ryan Gosling , La La Land', u'Tom Hanks , Sully', u'Denzel Washington , Fences']\n"
     ]
    }
   ],
   "source": []
  },
  {
   "cell_type": "code",
   "execution_count": null,
   "metadata": {
    "collapsed": true,
    "deletable": true,
    "editable": true
   },
   "outputs": [],
   "source": []
  },
  {
   "cell_type": "code",
   "execution_count": null,
   "metadata": {
    "collapsed": false,
    "deletable": true,
    "editable": true
   },
   "outputs": [],
   "source": []
  },
  {
   "cell_type": "code",
   "execution_count": 9,
   "metadata": {
    "collapsed": false,
    "deletable": true,
    "editable": true
   },
   "outputs": [
    {
     "name": "stdout",
     "output_type": "stream",
     "text": [
      "2017\n"
     ]
    },
    {
     "ename": "AttributeError",
     "evalue": "'NoneType' object has no attribute 'next_siblings'",
     "output_type": "error",
     "traceback": [
      "\u001b[0;31m---------------------------------------------------------------------------\u001b[0m",
      "\u001b[0;31mAttributeError\u001b[0m                            Traceback (most recent call last)",
      "\u001b[0;32m<ipython-input-9-dc047e07610c>\u001b[0m in \u001b[0;36m<module>\u001b[0;34m()\u001b[0m\n\u001b[1;32m     15\u001b[0m         \u001b[0mawardName\u001b[0m\u001b[0;34m=\u001b[0m\u001b[0;34m\"Best Performance by an Actor in a Leading Role\"\u001b[0m\u001b[0;34m\u001b[0m\u001b[0m\n\u001b[1;32m     16\u001b[0m     \u001b[0mhtmlActors\u001b[0m \u001b[0;34m=\u001b[0m \u001b[0;34mu\"\"\u001b[0m\u001b[0;34m\u001b[0m\u001b[0m\n\u001b[0;32m---> 17\u001b[0;31m     \u001b[0;32mfor\u001b[0m \u001b[0mtag\u001b[0m \u001b[0;32min\u001b[0m \u001b[0msoup\u001b[0m\u001b[0;34m.\u001b[0m\u001b[0mfind\u001b[0m\u001b[0;34m(\u001b[0m\u001b[0;34m\"h2\"\u001b[0m\u001b[0;34m,\u001b[0m\u001b[0mtext\u001b[0m\u001b[0;34m=\u001b[0m\u001b[0mawardName\u001b[0m\u001b[0;34m)\u001b[0m\u001b[0;34m.\u001b[0m\u001b[0mnext_siblings\u001b[0m\u001b[0;34m:\u001b[0m\u001b[0;34m\u001b[0m\u001b[0m\n\u001b[0m\u001b[1;32m     18\u001b[0m         \u001b[0;32mif\u001b[0m \u001b[0mtag\u001b[0m\u001b[0;34m.\u001b[0m\u001b[0mname\u001b[0m \u001b[0;34m==\u001b[0m \u001b[0;34m\"h2\"\u001b[0m\u001b[0;34m:\u001b[0m\u001b[0;34m\u001b[0m\u001b[0m\n\u001b[1;32m     19\u001b[0m             \u001b[0;32mbreak\u001b[0m\u001b[0;34m\u001b[0m\u001b[0m\n",
      "\u001b[0;31mAttributeError\u001b[0m: 'NoneType' object has no attribute 'next_siblings'"
     ]
    }
   ],
   "source": [
    "oscarsAll={}\n",
    "awardName=\"Best Actor in a Leading Role\"\n",
    "#oscars\n",
    "years = [\"1996\",\"1997\",\"1998\",\"1999\",\"2000\",\"2001\",\"2002\",\"2003\",\"2004\",\"2005\",\"2006\",\"2007\",\"2008\",\"2009\",\"2010\",\"2011\",\"2012\",\"2013\",\"2014\",\"2015\",\"2016\"]\n",
    "years=[\"2017\"]\n",
    "for i in years: \n",
    "    print(i)\n",
    "    url = 'http://www.imdb.com/event/ev000003/'+ i\n",
    "    page = urllib2.urlopen(url)\n",
    "    soup = BeautifulSoup(page.read(), \"html5lib\")\n",
    "    \n",
    "    thisYear = []\n",
    "    actorsThisYear = []\n",
    "    if(i==\"2005\"):\n",
    "        awardName=\"Best Performance by an Actor in a Leading Role\"\n",
    "    htmlActors = u\"\"\n",
    "    for tag in soup.find(\"h2\",text=awardName).next_siblings:\n",
    "        if tag.name == \"h2\":\n",
    "            break\n",
    "        else:\n",
    "            htmlActors += unicode(tag)\n",
    "    #page = soup.findAll(\"div\",{\"class\":\"award\"})\n",
    "    #awards = page[0].findAll(\"blockquote\")\n",
    "    awardsActors= BeautifulSoup(htmlActors, \"html5lib\")\n",
    "    filmActors = awardsActors.findAll(\"a\")\n",
    "    \n",
    "    size=len(filmActors)\n",
    "    indexes=[]\n",
    "    index=1\n",
    "    iterator=range(size)\n",
    "    \n",
    "    for j in iterator:  \n",
    "        if(index<size):\n",
    "            indexes.append(index)\n",
    "        index=index+3\n",
    "        \n",
    "    for k in indexes: thisYear.append(filmActors[k].text + \" ~ \" + filmActors[k+1].text) \n",
    "    #thisYear.append(actorsThisYear)\n",
    "\n",
    "    if(i==\"2016-1\"):\n",
    "        oscarsAll[2016]=thisYear\n",
    "    if(i!=\"2016-1\"):\n",
    "        oscarsAll[int(i)]=thisYear\n",
    "\n",
    "all[\"oscars\"]=oscarsAll"
   ]
  },
  {
   "cell_type": "code",
   "execution_count": 26,
   "metadata": {
    "collapsed": false
   },
   "outputs": [],
   "source": [
    "thisYear=[u'Manchester by the Sea ~ Casey Affleck',u'Hacksaw Ridge ~ Andrew Garfield',u'La La Land ~ Ryan Gosling',u'Captain Fantastic ~ Viggo Mortensen' ,u'Fences ~ Denzel Washington']\n",
    "oscarsAll[2017]=thisYear\n",
    "all[\"oscars\"]=oscarsAll\n"
   ]
  },
  {
   "cell_type": "code",
   "execution_count": 45,
   "metadata": {
    "collapsed": false,
    "deletable": true,
    "editable": true
   },
   "outputs": [
    {
     "name": "stdout",
     "output_type": "stream",
     "text": [
      "2017\n"
     ]
    }
   ],
   "source": [
    "globesAll={}\n",
    "\n",
    "#globes\n",
    "years=[\"2017\"]\n",
    "\n",
    "#years = [\"1996\",\"1997\",\"1998\",\"1999\",\"2000\",\"2001\",\"2002\",\"2003\",\"2004\",\"2005\",\"2006\",\"2007\",\"2008\",\"2009\",\"2010\",\"2011\",\"2012\",\"2013\",\"2014\",\"2015\",\"2016\"]\n",
    "for i in years: \n",
    "    print(i)\n",
    "    url = 'http://www.imdb.com/event/ev0000292/'+ i\n",
    "    page = urllib2.urlopen(url)\n",
    "    soup = BeautifulSoup(page.read(), \"html5lib\")\n",
    "    \n",
    "    thisYear = []\n",
    "    actorsThisYear = []\n",
    "    \n",
    "    htmlActors = u\"\"\n",
    "    for tag in soup.find(\"h2\",text=\"Best Performance by an Actor in a Motion Picture - Drama\").next_siblings:\n",
    "        if tag.name == \"h2\":\n",
    "            break\n",
    "        else:\n",
    "            htmlActors += unicode(tag)\n",
    "    #page = soup.findAll(\"div\",{\"class\":\"award\"})\n",
    "    #awards = page[0].findAll(\"blockquote\")\n",
    "    awardsActors= BeautifulSoup(htmlActors, \"html5lib\")\n",
    "    filmActors = awardsActors.findAll(\"a\")\n",
    "    \n",
    "    size=len(filmActors)\n",
    "    indexes=[]\n",
    "    index=1\n",
    "    iterator=range(size)\n",
    "    \n",
    "    for j in iterator:  \n",
    "        if(index<size):\n",
    "            indexes.append(index)\n",
    "        index=index+3\n",
    "        \n",
    "    for k in indexes: thisYear.append(filmActors[k].text + \" ~ \" + filmActors[k+1].text) \n",
    "    #thisYear.append(actorsThisYear)\n",
    "\n",
    "\n",
    "    globesAll[int(i)]=thisYear\n",
    "\n",
    "all[\"globes\"]=globesAll"
   ]
  },
  {
   "cell_type": "code",
   "execution_count": 46,
   "metadata": {
    "collapsed": false,
    "deletable": true,
    "editable": true
   },
   "outputs": [
    {
     "name": "stdout",
     "output_type": "stream",
     "text": [
      "2017\n"
     ]
    }
   ],
   "source": [
    "baftasAll={}\n",
    "\n",
    "awardName=\"Best Performance by an Actor in a Leading Role\"\n",
    "\n",
    "#baftas\n",
    "for i in years: \n",
    "    print(i)\n",
    "    url = 'http://www.imdb.com/event/ev0000123/'+ i\n",
    "    page = urllib2.urlopen(url)\n",
    "    soup = BeautifulSoup(page.read(), \"html5lib\")\n",
    "    \n",
    "    thisYear = []\n",
    "    actorsThisYear = []\n",
    "    htmlActors = u\"\"\n",
    "    \n",
    "    \n",
    "    if(i == \"2007\"):\n",
    "        awardName=\"Best Actor in a Leading Role\"\n",
    "        \n",
    "    if(i==\"2008\"):\n",
    "        awardName =\"Best Leading Actor\"\n",
    "        \n",
    "    if(i==\"2017\"):\n",
    "        awardName =\"Best Leading Actor\"\n",
    "\n",
    "    for tag in soup.find(\"h2\",text=awardName).next_siblings:\n",
    "        if tag.name == \"h2\":\n",
    "            break\n",
    "        else:\n",
    "            htmlActors += unicode(tag)\n",
    "    #page = soup.findAll(\"div\",{\"class\":\"award\"})\n",
    "    #awards = page[0].findAll(\"blockquote\")\n",
    "    awardsActors= BeautifulSoup(htmlActors, \"html5lib\")\n",
    "    filmActors = awardsActors.findAll(\"a\")\n",
    "    \n",
    "    size=len(filmActors)\n",
    "    indexes=[]\n",
    "    index=1\n",
    "    iterator=range(size)\n",
    "    \n",
    "    for j in iterator:  \n",
    "        if(index<size):\n",
    "            indexes.append(index)\n",
    "        index=index+3\n",
    "        \n",
    "    for k in indexes: thisYear.append(filmActors[k].text + \" ~ \" + filmActors[k+1].text) \n",
    "    #thisYear.append(actorsThisYear)\n",
    "\n",
    "    baftasAll[int(i)]=thisYear\n",
    "\n",
    "all[\"baftas\"]=baftasAll"
   ]
  },
  {
   "cell_type": "code",
   "execution_count": 47,
   "metadata": {
    "collapsed": false,
    "deletable": true,
    "editable": true
   },
   "outputs": [
    {
     "name": "stdout",
     "output_type": "stream",
     "text": [
      "2017\n"
     ]
    }
   ],
   "source": [
    "spiritsAll={}\n",
    "\n",
    "#spirits\n",
    "for i in years: \n",
    "    print(i)\n",
    "    url = 'http://www.imdb.com/event/ev0000349/'+ i\n",
    "    page = urllib2.urlopen(url)\n",
    "    soup = BeautifulSoup(page.read(), \"html5lib\")\n",
    "    \n",
    "    thisYear = []\n",
    "    actorsThisYear = []\n",
    "    htmlActors = u\"\"\n",
    "    for tag in soup.find(\"h2\",text=\"Best Male Lead\").next_siblings:\n",
    "        if tag.name == \"h2\":\n",
    "            break\n",
    "        else:\n",
    "            htmlActors += unicode(tag)\n",
    "    #page = soup.findAll(\"div\",{\"class\":\"award\"})\n",
    "    #awards = page[0].findAll(\"blockquote\")\n",
    "    awardsActors= BeautifulSoup(htmlActors, \"html5lib\")\n",
    "    filmActors = awardsActors.findAll(\"a\")\n",
    "    \n",
    "    size=len(filmActors)\n",
    "    indexes=[]\n",
    "    index=1\n",
    "    iterator=range(size)\n",
    "    \n",
    "    for j in iterator:  \n",
    "        if(index<size):\n",
    "            indexes.append(index)\n",
    "        index=index+3\n",
    "        \n",
    "    for k in indexes: thisYear.append(filmActors[k].text + \" ~ \" + filmActors[k+1].text) \n",
    "    #thisYear.append(actorsThisYear)\n",
    "\n",
    "    spiritsAll[int(i)]=thisYear\n",
    "\n",
    "all[\"spirits\"]=spiritsAll"
   ]
  },
  {
   "cell_type": "code",
   "execution_count": 48,
   "metadata": {
    "collapsed": false,
    "deletable": true,
    "editable": true
   },
   "outputs": [
    {
     "name": "stdout",
     "output_type": "stream",
     "text": [
      "2017\n"
     ]
    }
   ],
   "source": [
    "sagsAll={}\n",
    "\n",
    "#sags\n",
    "for i in years: \n",
    "    print(i)\n",
    "    url = 'http://www.imdb.com/event/ev0000598/'+ i\n",
    "    page = urllib2.urlopen(url)\n",
    "    soup = BeautifulSoup(page.read(), \"html5lib\")\n",
    "    \n",
    "    thisYear = []\n",
    "    actorsThisYear = []\n",
    "    \n",
    "    htmlActors = u\"\"\n",
    "    for tag in soup.find(\"h2\",text=\"Outstanding Performance by a Male Actor in a Leading Role\").next_siblings:\n",
    "        if tag.name == \"h2\":\n",
    "            break\n",
    "        else:\n",
    "            htmlActors += unicode(tag)\n",
    "    #page = soup.findAll(\"div\",{\"class\":\"award\"})\n",
    "    #awards = page[0].findAll(\"blockquote\")\n",
    "    awardsActors= BeautifulSoup(htmlActors, \"html5lib\")\n",
    "    filmActors = awardsActors.findAll(\"a\")\n",
    "    \n",
    "    size=len(filmActors)\n",
    "    indexes=[]\n",
    "    index=1\n",
    "    iterator=range(size)\n",
    "    \n",
    "    for j in iterator:  \n",
    "        if(index<size):\n",
    "            indexes.append(index)\n",
    "        index=index+3\n",
    "        \n",
    "    for k in indexes: thisYear.append(filmActors[k].text + \" ~ \" + filmActors[k+1].text) \n",
    "    #thisYear.append(actorsThisYear)\n",
    "\n",
    "    sagsAll[int(i)]=thisYear\n",
    "\n",
    "all[\"sags\"]=sagsAll"
   ]
  },
  {
   "cell_type": "code",
   "execution_count": 57,
   "metadata": {
    "collapsed": false,
    "deletable": true,
    "editable": true
   },
   "outputs": [],
   "source": [
    "#no best actor until 2013, not useful data?\n",
    "\n",
    "\n",
    "#gothamsAll={}\n",
    "\n",
    "#gothams\n",
    "#for i in years: \n",
    "    #url = 'http://www.imdb.com/event/ev0000298/'+ i\n",
    "    #page = urllib2.urlopen(url)\n",
    "    #soup = BeautifulSoup(page.read(), \"html5lib\")\n",
    "    \n",
    "    #thisYear = []\n",
    "    #actorsThisYear = []\n",
    "    #print(i)\n",
    "    #htmlActors = u\"\"\n",
    "    #for tag in soup.find(\"h2\",text=\"Best Actor\").next_siblings:\n",
    "       # if tag.name == \"h2\":\n",
    "      #      break\n",
    "     #   else:\n",
    "    #        htmlActors += unicode(tag)\n",
    "\n",
    "   # awardsActors= BeautifulSoup(htmlActors, \"html5lib\")\n",
    "  #  filmActors = awardsActors.findAll(\"a\")\n",
    "    \n",
    " #   size=len(filmActors)\n",
    "#    indexes=[]\n",
    "    #index=1\n",
    "    #iterator=range(size)\n",
    "    \n",
    "    #for j in iterator:  \n",
    "     #   if(index<size):\n",
    "    #        indexes.append(index)\n",
    "   #     index=index+3\n",
    "        \n",
    "  #  for k in indexes: thisYear.append(filmActors[k].text + \" , \" + filmActors[k+1].text) \n",
    "\n",
    " #   gothamsAll[int(i)]=thisYear\n",
    "\n",
    "#all[\"gothams\"]=gothamsAll"
   ]
  },
  {
   "cell_type": "code",
   "execution_count": 53,
   "metadata": {
    "collapsed": false,
    "deletable": true,
    "editable": true
   },
   "outputs": [
    {
     "name": "stdout",
     "output_type": "stream",
     "text": [
      "('spirits', [u'The Wrestler ~ Mickey Rourke', u'The Hurt Locker ~ Jeremy Renner', u'Milk ~ Sean Penn', u'Vicky Cristina Barcelona ~ Javier Bardem', u'The Visitor ~ Richard Jenkins'])\n",
      "\n",
      "('baftas', [u'The Wrestler ~ Mickey Rourke', u'The Curious Case of Benjamin Button ~ Brad Pitt', u'Frost/Nixon ~ Frank Langella', u'Milk ~ Sean Penn', u'Slumdog Millionaire ~ Dev Patel'])\n",
      "\n",
      "('critics', [u'Milk ~ Sean Penn', u'The Curious Case of Benjamin Button ~ Brad Pitt', u'Frost/Nixon ~ Frank Langella', u'Gran Torino ~ Clint Eastwood', u'The Visitor ~ Richard Jenkins', u'The Wrestler ~ Mickey Rourke'])\n",
      "\n",
      "('oscars', [u'Milk ~ Sean Penn', u'The Curious Case of Benjamin Button ~ Brad Pitt', u'Frost/Nixon ~ Frank Langella', u'The Visitor ~ Richard Jenkins', u'The Wrestler ~ Mickey Rourke'])\n",
      "\n",
      "('globes', [u'The Wrestler ~ Mickey Rourke', u'The Curious Case of Benjamin Button ~ Brad Pitt', u'Frost/Nixon ~ Frank Langella', u'Milk ~ Sean Penn', u'Revolutionary Road ~ Leonardo DiCaprio'])\n",
      "\n",
      "('sags', [u'Milk ~ Sean Penn', u'The Curious Case of Benjamin Button ~ Brad Pitt', u'Frost/Nixon ~ Frank Langella', u'The Visitor ~ Richard Jenkins', u'The Wrestler ~ Mickey Rourke'])\n",
      "\n"
     ]
    }
   ],
   "source": [
    "for i in all:\n",
    "    print(i,all[i][2009])\n",
    "    print(\"\")"
   ]
  },
  {
   "cell_type": "code",
   "execution_count": 50,
   "metadata": {
    "collapsed": false,
    "deletable": true,
    "editable": true
   },
   "outputs": [],
   "source": [
    "scores={}"
   ]
  },
  {
   "cell_type": "code",
   "execution_count": 51,
   "metadata": {
    "collapsed": false,
    "deletable": true,
    "editable": true
   },
   "outputs": [
    {
     "name": "stdout",
     "output_type": "stream",
     "text": [
      "Manchester by the Sea ~ Casey Affleck\n",
      "adding to table\n",
      "won\n",
      "Free in Deed ~ David Harewood\n",
      "adding to table\n",
      "nom\n",
      "Captain Fantastic ~ Viggo Mortensen\n",
      "adding to table\n",
      "nom\n",
      "Other People ~ Jesse Plemons\n",
      "adding to table\n",
      "nom\n",
      "Chronic ~ Tim Roth\n",
      "adding to table\n",
      "nom\n",
      "Manchester by the Sea ~ Casey Affleck\n",
      "won\n",
      "Hacksaw Ridge ~ Andrew Garfield\n",
      "adding to table\n",
      "nom\n",
      "Nocturnal Animals ~ Jake Gyllenhaal\n",
      "adding to table\n",
      "nom\n",
      "La La Land ~ Ryan Gosling\n",
      "adding to table\n",
      "nom\n",
      "Captain Fantastic ~ Viggo Mortensen\n",
      "nom\n",
      "Manchester by the Sea ~ Casey Affleck\n",
      "won\n",
      "Loving ~ Joel Edgerton\n",
      "adding to table\n",
      "nom\n",
      "Hacksaw Ridge ~ Andrew Garfield\n",
      "nom\n",
      "La La Land ~ Ryan Gosling\n",
      "nom\n",
      "Sully ~ Tom Hanks\n",
      "adding to table\n",
      "nom\n",
      "Fences ~ Denzel Washington\n",
      "adding to table\n",
      "nom\n",
      "Manchester by the Sea ~ Casey Affleck\n",
      "won\n",
      "Loving ~ Joel Edgerton\n",
      "nom\n",
      "Hacksaw Ridge ~ Andrew Garfield\n",
      "nom\n",
      "Captain Fantastic ~ Viggo Mortensen\n",
      "nom\n",
      "Fences ~ Denzel Washington\n",
      "nom\n",
      "Fences ~ Denzel Washington\n",
      "won\n",
      "Manchester by the Sea ~ Casey Affleck\n",
      "nom\n",
      "Hacksaw Ridge ~ Andrew Garfield\n",
      "nom\n",
      "La La Land ~ Ryan Gosling\n",
      "nom\n",
      "Captain Fantastic ~ Viggo Mortensen\n",
      "nom\n"
     ]
    }
   ],
   "source": [
    "for award in all: #for each award (i)\n",
    "    \n",
    "    if(award != \"oscars\"):\n",
    "        \n",
    "        for year in all[award]: #for each year (j)\n",
    "            \n",
    "            if year == 2017:\n",
    "                if year not in scores:\n",
    "                    scores[year]={};\n",
    "                    \n",
    "                for movie in all[award][year]:\n",
    "                    print(movie)\n",
    "                    if movie not in scores[year]:\n",
    "                        scores[year][movie]={}\n",
    "                        scores[year][movie][\"won\"]=0\n",
    "                        scores[year][movie][\"nom\"]=0\n",
    "                        print(\"adding to table\")\n",
    "                    \n",
    "                    if(all[award][year][0]==movie):\n",
    "                        if movie in scores[year]:\n",
    "                            scores[year][movie][\"won\"]+=1\n",
    "                            scores[year][movie][\"nom\"]+=1\n",
    "                            print(\"won\")\n",
    "                    else:\n",
    "                        if movie in scores[year]:\n",
    "                            scores[year][movie][\"nom\"]+=1\n",
    "                            print(\"nom\")\n",
    "\n"
   ]
  },
  {
   "cell_type": "code",
   "execution_count": 52,
   "metadata": {
    "collapsed": true,
    "deletable": true,
    "editable": true
   },
   "outputs": [],
   "source": [
    "scores[2017]={}\n",
    "for award in all: #for each award (i)\n",
    "    \n",
    "    if(award != \"oscars\"):\n",
    "        \n",
    "        for year in all[award]: #for each year (j)\n",
    "            \n",
    "            if year == 2017:\n",
    "                \n",
    "                for movie in all[award][year]:\n",
    "                    \n",
    "                    if movie not in scores[year]:\n",
    "                        scores[year][movie]={}\n",
    "                        scores[year][movie][\"won\"]=0\n",
    "                        scores[year][movie][\"nom\"]=0\n",
    "                    \n",
    "                    if(all[award][year][0]==movie):\n",
    "                        if movie in scores[year]:\n",
    "                            scores[year][movie][\"won\"]+=1\n",
    "                            scores[year][movie][\"nom\"]+=1\n",
    "\n",
    "                        else:\n",
    "                            scores[year][movie]=5\n",
    "                    else:\n",
    "                        if movie in scores[year]:\n",
    "                            scores[year][movie][\"nom\"]+=1\n",
    "                        else:\n",
    "                            scores[year][movie]=2"
   ]
  },
  {
   "cell_type": "code",
   "execution_count": null,
   "metadata": {
    "collapsed": false
   },
   "outputs": [],
   "source": []
  },
  {
   "cell_type": "code",
   "execution_count": null,
   "metadata": {
    "collapsed": false
   },
   "outputs": [],
   "source": []
  },
  {
   "cell_type": "code",
   "execution_count": null,
   "metadata": {
    "collapsed": false
   },
   "outputs": [],
   "source": []
  },
  {
   "cell_type": "code",
   "execution_count": 53,
   "metadata": {
    "collapsed": false,
    "deletable": true,
    "editable": true
   },
   "outputs": [
    {
     "name": "stdout",
     "output_type": "stream",
     "text": [
      "Hacksaw Ridge ~ Andrew Garfield  | won:  0 | nom:  4 | %:  0.0\n",
      "Fences ~ Denzel Washington  | won:  1 | nom:  3 | %:  33.3333333333\n",
      "Captain Fantastic ~ Viggo Mortensen  | won:  0 | nom:  4 | %:  0.0\n",
      "Manchester by the Sea ~ Casey Affleck  | won:  4 | nom:  5 | %:  80.0\n",
      "La La Land ~ Ryan Gosling  | won:  0 | nom:  3 | %:  0.0\n"
     ]
    }
   ],
   "source": [
    "#prints % data from specified year, filters for oscar nominees\n",
    "year=2017\n",
    "for movie in scores[year]:\n",
    "    if movie in oscarsAll[year]:\n",
    "        percent = float(scores[year][movie][\"won\"])/float(scores[year][movie][\"nom\"]) * float(100)\n",
    "        print movie ,\" | won: \", scores[year][movie][\"won\"], \"| nom: \", scores[year][movie][\"nom\"], \"| %: \", percent\n",
    "    #print scores[2016][i]"
   ]
  },
  {
   "cell_type": "code",
   "execution_count": 54,
   "metadata": {
    "collapsed": false,
    "deletable": true,
    "editable": true
   },
   "outputs": [
    {
     "name": "stdout",
     "output_type": "stream",
     "text": [
      "Manchester by the Sea ~ Casey Affleck\n",
      "Manchester by the Sea  Casey Affleck\n",
      "Hacksaw Ridge ~ Andrew Garfield\n",
      "Hacksaw Ridge  Andrew Garfield\n",
      "La La Land ~ Ryan Gosling\n",
      "La La Land  Ryan Gosling\n",
      "Captain Fantastic ~ Viggo Mortensen\n",
      "Captain Fantastic  Viggo Mortensen\n",
      "Fences ~ Denzel Washington\n",
      "Fences  Denzel Washington\n"
     ]
    }
   ],
   "source": [
    "#oscarsAllREVIEWS\n",
    "import csv\n",
    "with open('bpdata.csv', 'wb') as csvfile:\n",
    "    spamwriter = csv.writer(csvfile, delimiter=',', quoting=csv.QUOTE_MINIMAL)\n",
    "    spamwriter.writerow([\"year\", \"movie\",\"actor\", \"wins\", \"noms\", \"%won\", \"oscarwin\", \"globewin\"])\n",
    "    years = [\"1996\",\"1997\",\"1998\",\"1999\",\"2000\",\"2001\",\"2002\",\"2003\",\"2004\",\"2005\",\"2006\",\"2007\",\"2008\",\"2009\",\"2010\",\"2011\",\"2012\",\"2013\",\"2014\",\"2015\",\"2016\"]\n",
    "    years=[\"2017\"]\n",
    "    for year in years:\n",
    "        year=int(year)\n",
    "        counter = 0\n",
    "        \n",
    "        for movie in oscarsAll[year]:\n",
    "            \n",
    "            print(movie)\n",
    "            mList = movie.split(\"~\")\n",
    "            name = mList[0]\n",
    "            actor = mList[1]\n",
    "            if movie == all[\"globes\"][year][0]:\n",
    "                globewin = \"yes\"\n",
    "            else:\n",
    "                globewin = \"no\"\n",
    "            if movie in scores[year]:\n",
    "                wins = (scores[year][movie][\"won\"])\n",
    "                noms = (scores[year][movie][\"nom\"])\n",
    "                percent = float(scores[year][movie][\"won\"])/float(scores[year][movie][\"nom\"]) * float(100)\n",
    "            else: \n",
    "                wins = 0\n",
    "                noms = 0\n",
    "                percent = 0\n",
    "                \n",
    "            if movie == all[\"oscars\"][year][0]:\n",
    "                won = \"yes\"\n",
    "            else:\n",
    "                won = \"no\"\n",
    "                \n",
    "            if \"Les\" in movie:\n",
    "                spamwriter.writerow([year, \"Les Mis\",actor, wins, noms, percent, won, globewin])\n",
    "            elif \"A Better Life\" in movie:\n",
    "                spamwriter.writerow([year, name,\"Demian Bichir\", wins, noms, percent, won, globewin])\n",
    "            else:\n",
    "                print(name+actor)\n",
    "                spamwriter.writerow([year, name,actor, wins, noms, percent, won,globewin])\n",
    "            counter = counter + 1"
   ]
  }
 ],
 "metadata": {
  "kernelspec": {
   "display_name": "Python 2",
   "language": "python",
   "name": "python2"
  },
  "language_info": {
   "codemirror_mode": {
    "name": "ipython",
    "version": 2
   },
   "file_extension": ".py",
   "mimetype": "text/x-python",
   "name": "python",
   "nbconvert_exporter": "python",
   "pygments_lexer": "ipython2",
   "version": "2.7.13"
  }
 },
 "nbformat": 4,
 "nbformat_minor": 2
}
