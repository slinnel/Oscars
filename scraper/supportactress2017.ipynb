{
 "cells": [
  {
   "cell_type": "code",
   "execution_count": 19,
   "metadata": {
    "collapsed": false,
    "deletable": true,
    "editable": true
   },
   "outputs": [
    {
     "name": "stdout",
     "output_type": "stream",
     "text": [
      "2016-2\n"
     ]
    }
   ],
   "source": [
    "from bs4 import BeautifulSoup\n",
    "import urllib\n",
    "import urllib2\n",
    "#awards1 = best film\n",
    "#awards4 = best actor\n",
    "#awards7 = best actress\n",
    "#awards11 = director\n",
    "#print(awards[1])\n",
    "globes=[]\n",
    "oscars=[]\n",
    "critics=[]\n",
    "spirits=[]\n",
    "baftas=[]\n",
    "\n",
    "all={}\n",
    "criticsAll={}\n",
    "\n",
    "#critics choice\n",
    "years=[\"2016-2\"]\n",
    "#years = [\"1996\",\"1997\",\"1998\",\"1999\",\"2000\",\"2001\",\"2002\",\"2003\",\"2004\",\"2005\",\"2006\",\"2007\",\"2008\",\"2009\",\"2010\",\"2011\",\"2012\",\"2013\",\"2014\",\"2015\",\"2016-1\"]\n",
    "for i in years: \n",
    "    print(i)\n",
    "    url = 'http://www.imdb.com/event/ev0000133/'+ i\n",
    "    page = urllib2.urlopen(url)\n",
    "    soup = BeautifulSoup(page.read(), \"html5lib\")\n",
    "    \n",
    "    thisYear = []\n",
    "    actorsThisYear = []\n",
    "    \n",
    "    htmlActors = u\"\"\n",
    "    for tag in soup.find(\"h2\",text=\"Best Supporting Actress\").next_siblings:\n",
    "        if tag.name == \"h2\":\n",
    "            break\n",
    "        else:\n",
    "            htmlActors += unicode(tag)\n",
    "    #page = soup.findAll(\"div\",{\"class\":\"award\"})\n",
    "    #awards = page[0].findAll(\"blockquote\")\n",
    "    awardsActors= BeautifulSoup(htmlActors, \"html5lib\")\n",
    "    filmActors = awardsActors.findAll(\"a\")\n",
    "    \n",
    "    size=len(filmActors)\n",
    "    indexes=[]\n",
    "    index=1\n",
    "    iterator=range(size)\n",
    "    \n",
    "    for j in iterator:  \n",
    "        if(index<size):\n",
    "            indexes.append(index)\n",
    "        index=index+3\n",
    "        \n",
    "    for k in indexes: thisYear.append(filmActors[k].text + \" ~ \" + filmActors[k+1].text) \n",
    "    #thisYear.append(actorsThisYear)\n",
    "\n",
    "    if(i==\"2016-2\"):\n",
    "        criticsAll[2017]=thisYear\n",
    "    if(i!=\"2016-2\"):\n",
    "        criticsAll[int(i)]=thisYear\n",
    "\n",
    "all[\"critics\"]=criticsAll"
   ]
  },
  {
   "cell_type": "code",
   "execution_count": null,
   "metadata": {
    "collapsed": false,
    "deletable": true,
    "editable": true
   },
   "outputs": [],
   "source": []
  },
  {
   "cell_type": "code",
   "execution_count": 39,
   "metadata": {
    "collapsed": false,
    "deletable": true,
    "editable": true
   },
   "outputs": [],
   "source": [
    "thisYear=[u'Jackie ~ Natalie Portman', u'Elle ~ Isabelle Huppert', u'Loving ~ Ruth Negga',u'La La Land ~ Emma Stone',u'Arrival ~ Amy Adams',u'20th Century Women ~ Annette Bening']\n",
    "criticsAll[2017]=thisYear\n",
    "all[\"critics\"]=criticsAll"
   ]
  },
  {
   "cell_type": "code",
   "execution_count": 37,
   "metadata": {
    "collapsed": false,
    "deletable": true,
    "editable": true
   },
   "outputs": [
    {
     "name": "stdout",
     "output_type": "stream",
     "text": [
      "1\n"
     ]
    }
   ],
   "source": []
  },
  {
   "cell_type": "code",
   "execution_count": null,
   "metadata": {
    "collapsed": true,
    "deletable": true,
    "editable": true
   },
   "outputs": [],
   "source": []
  },
  {
   "cell_type": "code",
   "execution_count": null,
   "metadata": {
    "collapsed": false,
    "deletable": true,
    "editable": true
   },
   "outputs": [],
   "source": []
  },
  {
   "cell_type": "code",
   "execution_count": 6,
   "metadata": {
    "collapsed": false,
    "deletable": true,
    "editable": true
   },
   "outputs": [
    {
     "name": "stdout",
     "output_type": "stream",
     "text": [
      "2017\n"
     ]
    }
   ],
   "source": [
    "oscarsAll={}\n",
    "awardName=\"Best Actress in a Supporting Role\"\n",
    "awardName=\"Best Performance by an Actress in a Supporting Role\"\n",
    "\n",
    "#oscars\n",
    "#years = [\"1996\",\"1997\",\"1998\",\"1999\",\"2000\",\"2001\",\"2002\",\"2003\",\"2004\",\"2005\",\"2006\",\"2007\",\"2008\",\"2009\",\"2010\",\"2011\",\"2012\",\"2013\",\"2014\",\"2015\",\"2016\"]\n",
    "years=[\"2017\"]\n",
    "for i in years: \n",
    "    print(i)\n",
    "    url = 'http://www.imdb.com/event/ev000003/'+ i\n",
    "    page = urllib2.urlopen(url)\n",
    "    soup = BeautifulSoup(page.read(), \"html5lib\")\n",
    "    \n",
    "    thisYear = []\n",
    "    actorsThisYear = []\n",
    "    if(i==\"2005\"):\n",
    "        awardName=\"Best Performance by an Actress in a Supporting Role\"\n",
    "    htmlActors = u\"\"\n",
    "    for tag in soup.find(\"h2\",text=awardName).next_siblings:\n",
    "        if tag.name == \"h2\":\n",
    "            break\n",
    "        else:\n",
    "            htmlActors += unicode(tag)\n",
    "    #page = soup.findAll(\"div\",{\"class\":\"award\"})\n",
    "    #awards = page[0].findAll(\"blockquote\")\n",
    "    awardsActors= BeautifulSoup(htmlActors, \"html5lib\")\n",
    "    filmActors = awardsActors.findAll(\"a\")\n",
    "    \n",
    "    size=len(filmActors)\n",
    "    indexes=[]\n",
    "    index=1\n",
    "    iterator=range(size)\n",
    "    \n",
    "    for j in iterator:  \n",
    "        if(index<size):\n",
    "            indexes.append(index)\n",
    "        index=index+3\n",
    "    \n",
    "        \n",
    "    for k in indexes: thisYear.append(filmActors[k].text + \" ~ \" + filmActors[k+1].text) \n",
    "    #thisYear.append(actorsThisYear)\n",
    "\n",
    "    if(i==\"2016-1\"):\n",
    "        oscarsAll[2016]=thisYear\n",
    "    if(i!=\"2016-1\"):\n",
    "        oscarsAll[int(i)]=thisYear\n",
    "\n",
    "all[\"oscars\"]=oscarsAll"
   ]
  },
  {
   "cell_type": "code",
   "execution_count": 13,
   "metadata": {
    "collapsed": false,
    "deletable": true,
    "editable": true
   },
   "outputs": [],
   "source": [
    "thisYear=[u'Elle ~ Isabelle Huppert', u'Loving ~ Ruth Negga',u'Jackie ~ Natalie Portman',u'La La Land ~ Emma Stone',u'Florence Foster Jenkins ~ Meryl Streep']\n",
    "oscarsAll[2017]=thisYear\n",
    "all[\"oscars\"]=oscarsAll\n"
   ]
  },
  {
   "cell_type": "code",
   "execution_count": 7,
   "metadata": {
    "collapsed": false,
    "deletable": true,
    "editable": true
   },
   "outputs": [
    {
     "name": "stdout",
     "output_type": "stream",
     "text": [
      "2017\n"
     ]
    }
   ],
   "source": [
    "globesAll={}\n",
    "\n",
    "#globes\n",
    "years=[\"2017\"]\n",
    "\n",
    "#years = [\"1996\",\"1997\",\"1998\",\"1999\",\"2000\",\"2001\",\"2002\",\"2003\",\"2004\",\"2005\",\"2006\",\"2007\",\"2008\",\"2009\",\"2010\",\"2011\",\"2012\",\"2013\",\"2014\",\"2015\",\"2016\"]\n",
    "for i in years: \n",
    "    print(i)\n",
    "    url = 'http://www.imdb.com/event/ev0000292/'+ i\n",
    "    page = urllib2.urlopen(url)\n",
    "    soup = BeautifulSoup(page.read(), \"html5lib\")\n",
    "    \n",
    "    thisYear = []\n",
    "    actorsThisYear = []\n",
    "    \n",
    "    htmlActors = u\"\"\n",
    "    for tag in soup.find(\"h2\",text=\"Best Performance by an Actress in a Supporting Role in a Motion Picture\").next_siblings:\n",
    "        if tag.name == \"h2\":\n",
    "            break\n",
    "        else:\n",
    "            htmlActors += unicode(tag)\n",
    "    #page = soup.findAll(\"div\",{\"class\":\"award\"})\n",
    "    #awards = page[0].findAll(\"blockquote\")\n",
    "    awardsActors= BeautifulSoup(htmlActors, \"html5lib\")\n",
    "    filmActors = awardsActors.findAll(\"a\")\n",
    "    \n",
    "    size=len(filmActors)\n",
    "    indexes=[]\n",
    "    index=1\n",
    "    iterator=range(size)\n",
    "    \n",
    "    for j in iterator:  \n",
    "        if(index<size):\n",
    "            indexes.append(index)\n",
    "        index=index+3\n",
    "        \n",
    "    for k in indexes: thisYear.append(filmActors[k].text + \" ~ \" + filmActors[k+1].text) \n",
    "    #thisYear.append(actorsThisYear)\n",
    "\n",
    "\n",
    "    globesAll[int(i)]=thisYear\n",
    "\n",
    "all[\"globes\"]=globesAll"
   ]
  },
  {
   "cell_type": "code",
   "execution_count": 8,
   "metadata": {
    "collapsed": false,
    "deletable": true,
    "editable": true
   },
   "outputs": [
    {
     "name": "stdout",
     "output_type": "stream",
     "text": [
      "2017\n"
     ]
    }
   ],
   "source": [
    "baftasAll={}\n",
    "\n",
    "awardName=\"Best Performance by an Actress in a Supporting Role\"\n",
    "awardName =\"Best Supporting Actress\"\n",
    "\n",
    "#baftas\n",
    "for i in years: \n",
    "    print(i)\n",
    "    url = 'http://www.imdb.com/event/ev0000123/'+ i\n",
    "    page = urllib2.urlopen(url)\n",
    "    soup = BeautifulSoup(page.read(), \"html5lib\")\n",
    "    \n",
    "    thisYear = []\n",
    "    actorsThisYear = []\n",
    "    htmlActors = u\"\"\n",
    "    \n",
    "    \n",
    "    if(i == \"2007\"):\n",
    "        awardName=\"Best Actress in a Supporting Role\"\n",
    "        \n",
    "    if(i==\"2008\"):\n",
    "        awardName =\"Best Supporting Actress\"\n",
    "        \n",
    "\n",
    "\n",
    "    for tag in soup.find(\"h2\",text=awardName).next_siblings:\n",
    "        if tag.name == \"h2\":\n",
    "            break\n",
    "        else:\n",
    "            htmlActors += unicode(tag)\n",
    "    #page = soup.findAll(\"div\",{\"class\":\"award\"})\n",
    "    #awards = page[0].findAll(\"blockquote\")\n",
    "    awardsActors= BeautifulSoup(htmlActors, \"html5lib\")\n",
    "    filmActors = awardsActors.findAll(\"a\")\n",
    "    \n",
    "    size=len(filmActors)\n",
    "    indexes=[]\n",
    "    index=1\n",
    "    iterator=range(size)\n",
    "    \n",
    "    for j in iterator:  \n",
    "        if(index<size):\n",
    "            indexes.append(index)\n",
    "        index=index+3\n",
    "        \n",
    "    for k in indexes: thisYear.append(filmActors[k].text + \" ~ \" + filmActors[k+1].text) \n",
    "    #thisYear.append(actorsThisYear)\n",
    "\n",
    "    baftasAll[int(i)]=thisYear\n",
    "\n",
    "all[\"baftas\"]=baftasAll"
   ]
  },
  {
   "cell_type": "code",
   "execution_count": 9,
   "metadata": {
    "collapsed": false,
    "deletable": true,
    "editable": true
   },
   "outputs": [
    {
     "name": "stdout",
     "output_type": "stream",
     "text": [
      "2017\n"
     ]
    }
   ],
   "source": [
    "spiritsAll={}\n",
    "\n",
    "#spirits\n",
    "for i in years: \n",
    "    print(i)\n",
    "    url = 'http://www.imdb.com/event/ev0000349/'+ i\n",
    "    page = urllib2.urlopen(url)\n",
    "    soup = BeautifulSoup(page.read(), \"html5lib\")\n",
    "    \n",
    "    thisYear = []\n",
    "    actorsThisYear = []\n",
    "    htmlActors = u\"\"\n",
    "    for tag in soup.find(\"h2\",text=\"Best Supporting Female\").next_siblings:\n",
    "        if tag.name == \"h2\":\n",
    "            break\n",
    "        else:\n",
    "            htmlActors += unicode(tag)\n",
    "    #page = soup.findAll(\"div\",{\"class\":\"award\"})\n",
    "    #awards = page[0].findAll(\"blockquote\")\n",
    "    awardsActors= BeautifulSoup(htmlActors, \"html5lib\")\n",
    "    filmActors = awardsActors.findAll(\"a\")\n",
    "    \n",
    "    size=len(filmActors)\n",
    "    indexes=[]\n",
    "    index=1\n",
    "    iterator=range(size)\n",
    "    \n",
    "    for j in iterator:  \n",
    "        if(index<size):\n",
    "            indexes.append(index)\n",
    "        index=index+3\n",
    "        \n",
    "    for k in indexes: thisYear.append(filmActors[k].text + \" ~ \" + filmActors[k+1].text) \n",
    "    #thisYear.append(actorsThisYear)\n",
    "\n",
    "    spiritsAll[int(i)]=thisYear\n",
    "\n",
    "all[\"spirits\"]=spiritsAll"
   ]
  },
  {
   "cell_type": "code",
   "execution_count": 10,
   "metadata": {
    "collapsed": false,
    "deletable": true,
    "editable": true
   },
   "outputs": [
    {
     "name": "stdout",
     "output_type": "stream",
     "text": [
      "2017\n"
     ]
    }
   ],
   "source": [
    "sagsAll={}\n",
    "\n",
    "#sags\n",
    "for i in years: \n",
    "    print(i)\n",
    "    url = 'http://www.imdb.com/event/ev0000598/'+ i\n",
    "    page = urllib2.urlopen(url)\n",
    "    soup = BeautifulSoup(page.read(), \"html5lib\")\n",
    "    \n",
    "    thisYear = []\n",
    "    actorsThisYear = []\n",
    "    \n",
    "    htmlActors = u\"\"\n",
    "    for tag in soup.find(\"h2\",text=\"Outstanding Performance by a Female Actor in a Supporting Role\").next_siblings:\n",
    "        if tag.name == \"h2\":\n",
    "            break\n",
    "        else:\n",
    "            htmlActors += unicode(tag)\n",
    "    #page = soup.findAll(\"div\",{\"class\":\"award\"})\n",
    "    #awards = page[0].findAll(\"blockquote\")\n",
    "    awardsActors= BeautifulSoup(htmlActors, \"html5lib\")\n",
    "    filmActors = awardsActors.findAll(\"a\")\n",
    "    \n",
    "    size=len(filmActors)\n",
    "    indexes=[]\n",
    "    index=1\n",
    "    iterator=range(size)\n",
    "    \n",
    "    for j in iterator:  \n",
    "        if(index<size):\n",
    "            indexes.append(index)\n",
    "        index=index+3\n",
    "        \n",
    "    for k in indexes: thisYear.append(filmActors[k].text + \" ~ \" + filmActors[k+1].text) \n",
    "    #thisYear.append(actorsThisYear)\n",
    "\n",
    "    sagsAll[int(i)]=thisYear\n",
    "\n",
    "all[\"sags\"]=sagsAll"
   ]
  },
  {
   "cell_type": "code",
   "execution_count": 57,
   "metadata": {
    "collapsed": false,
    "deletable": true,
    "editable": true
   },
   "outputs": [],
   "source": [
    "#no best actor until 2013, not useful data?\n",
    "\n",
    "\n",
    "#gothamsAll={}\n",
    "\n",
    "#gothams\n",
    "#for i in years: \n",
    "    #url = 'http://www.imdb.com/event/ev0000298/'+ i\n",
    "    #page = urllib2.urlopen(url)\n",
    "    #soup = BeautifulSoup(page.read(), \"html5lib\")\n",
    "    \n",
    "    #thisYear = []\n",
    "    #actorsThisYear = []\n",
    "    #print(i)\n",
    "    #htmlActors = u\"\"\n",
    "    #for tag in soup.find(\"h2\",text=\"Best Actor\").next_siblings:\n",
    "       # if tag.name == \"h2\":\n",
    "      #      break\n",
    "     #   else:\n",
    "    #        htmlActors += unicode(tag)\n",
    "\n",
    "   # awardsActors= BeautifulSoup(htmlActors, \"html5lib\")\n",
    "  #  filmActors = awardsActors.findAll(\"a\")\n",
    "    \n",
    " #   size=len(filmActors)\n",
    "#    indexes=[]\n",
    "    #index=1\n",
    "    #iterator=range(size)\n",
    "    \n",
    "    #for j in iterator:  \n",
    "     #   if(index<size):\n",
    "    #        indexes.append(index)\n",
    "   #     index=index+3\n",
    "        \n",
    "  #  for k in indexes: thisYear.append(filmActors[k].text + \" , \" + filmActors[k+1].text) \n",
    "\n",
    " #   gothamsAll[int(i)]=thisYear\n",
    "\n",
    "#all[\"gothams\"]=gothamsAll"
   ]
  },
  {
   "cell_type": "code",
   "execution_count": 12,
   "metadata": {
    "collapsed": false,
    "deletable": true,
    "editable": true
   },
   "outputs": [
    {
     "name": "stdout",
     "output_type": "stream",
     "text": [
      "('spirits', [u'Other People ~ Molly Shannon', u'Free in Deed ~ Edwina Findley Dickerson', u'Little Men ~ Paulina Garc\\xeda', u'Certain Women ~ Lily Gladstone', u'American Honey ~ Riley Keough'])\n",
      "\n",
      "('baftas', [u'Fences ~ Viola Davis', u'I, Daniel Blake ~ Hayley Squires', u'Manchester by the Sea ~ Michelle Williams', u'Moonlight ~ Naomie Harris', u'Lion ~ Nicole Kidman'])\n",
      "\n",
      "('critics', [u'Fences ~ Viola Davis', u'20th Century Women ~ Greta Gerwig', u'Moonlight ~ Naomie Harris', u'Lion ~ Nicole Kidman', u'Hidden Figures ~ Janelle Mon\\xe1e', u'Manchester by the Sea ~ Michelle Williams'])\n",
      "\n",
      "('oscars', [u'Fences ~ Viola Davis', u'Moonlight ~ Naomie Harris', u'Lion ~ Nicole Kidman', u'Hidden Figures ~ Octavia Spencer', u'Manchester by the Sea ~ Michelle Williams'])\n",
      "\n",
      "('globes', [u'Fences ~ Viola Davis', u'Moonlight ~ Naomie Harris', u'Lion ~ Nicole Kidman', u'Hidden Figures ~ Octavia Spencer', u'Manchester by the Sea ~ Michelle Williams'])\n",
      "\n",
      "('sags', [u'Fences ~ Viola Davis', u'Moonlight ~ Naomie Harris', u'Lion ~ Nicole Kidman', u'Hidden Figures ~ Octavia Spencer', u'Manchester by the Sea ~ Michelle Williams'])\n",
      "\n"
     ]
    }
   ],
   "source": [
    "for i in all:\n",
    "    print(i,all[i][2017])\n",
    "    print(\"\")"
   ]
  },
  {
   "cell_type": "code",
   "execution_count": 14,
   "metadata": {
    "collapsed": false,
    "deletable": true,
    "editable": true
   },
   "outputs": [],
   "source": [
    "scores={}"
   ]
  },
  {
   "cell_type": "code",
   "execution_count": 15,
   "metadata": {
    "collapsed": false,
    "deletable": true,
    "editable": true
   },
   "outputs": [
    {
     "name": "stdout",
     "output_type": "stream",
     "text": [
      "Other People ~ Molly Shannon\n",
      "adding to table\n",
      "won\n",
      "Free in Deed ~ Edwina Findley Dickerson\n",
      "adding to table\n",
      "nom\n",
      "Little Men ~ Paulina García\n",
      "adding to table\n",
      "nom\n",
      "Certain Women ~ Lily Gladstone\n",
      "adding to table\n",
      "nom\n",
      "American Honey ~ Riley Keough\n",
      "adding to table\n",
      "nom\n",
      "Fences ~ Viola Davis\n",
      "adding to table\n",
      "won\n",
      "I, Daniel Blake ~ Hayley Squires\n",
      "adding to table\n",
      "nom\n",
      "Manchester by the Sea ~ Michelle Williams\n",
      "adding to table\n",
      "nom\n",
      "Moonlight ~ Naomie Harris\n",
      "adding to table\n",
      "nom\n",
      "Lion ~ Nicole Kidman\n",
      "adding to table\n",
      "nom\n",
      "Fences ~ Viola Davis\n",
      "won\n",
      "20th Century Women ~ Greta Gerwig\n",
      "adding to table\n",
      "nom\n",
      "Moonlight ~ Naomie Harris\n",
      "nom\n",
      "Lion ~ Nicole Kidman\n",
      "nom\n",
      "Hidden Figures ~ Janelle Monáe\n",
      "adding to table\n",
      "nom\n",
      "Manchester by the Sea ~ Michelle Williams\n",
      "nom\n",
      "Fences ~ Viola Davis\n",
      "won\n",
      "Moonlight ~ Naomie Harris\n",
      "nom\n",
      "Lion ~ Nicole Kidman\n",
      "nom\n",
      "Hidden Figures ~ Octavia Spencer\n",
      "adding to table\n",
      "nom\n",
      "Manchester by the Sea ~ Michelle Williams\n",
      "nom\n",
      "Fences ~ Viola Davis\n",
      "won\n",
      "Moonlight ~ Naomie Harris\n",
      "nom\n",
      "Lion ~ Nicole Kidman\n",
      "nom\n",
      "Hidden Figures ~ Octavia Spencer\n",
      "nom\n",
      "Manchester by the Sea ~ Michelle Williams\n",
      "nom\n"
     ]
    }
   ],
   "source": [
    "for award in all: #for each award (i)\n",
    "    \n",
    "    if(award != \"oscars\"):\n",
    "        \n",
    "        for year in all[award]: #for each year (j)\n",
    "            \n",
    "            if year == 2017:\n",
    "                if year not in scores:\n",
    "                    scores[year]={};\n",
    "                    \n",
    "                for movie in all[award][year]:\n",
    "                    print(movie)\n",
    "                    if movie not in scores[year]:\n",
    "                        scores[year][movie]={}\n",
    "                        scores[year][movie][\"won\"]=0\n",
    "                        scores[year][movie][\"nom\"]=0\n",
    "                        print(\"adding to table\")\n",
    "                    \n",
    "                    if(all[award][year][0]==movie):\n",
    "                        if movie in scores[year]:\n",
    "                            scores[year][movie][\"won\"]+=1\n",
    "                            scores[year][movie][\"nom\"]+=1\n",
    "                            print(\"won\")\n",
    "                    else:\n",
    "                        if movie in scores[year]:\n",
    "                            scores[year][movie][\"nom\"]+=1\n",
    "                            print(\"nom\")\n",
    "\n"
   ]
  },
  {
   "cell_type": "code",
   "execution_count": 16,
   "metadata": {
    "collapsed": true,
    "deletable": true,
    "editable": true
   },
   "outputs": [],
   "source": [
    "scores[2017]={}\n",
    "for award in all: #for each award (i)\n",
    "    \n",
    "    if(award != \"oscars\"):\n",
    "        \n",
    "        for year in all[award]: #for each year (j)\n",
    "            \n",
    "            if year == 2017:\n",
    "                \n",
    "                for movie in all[award][year]:\n",
    "                    \n",
    "                    if movie not in scores[year]:\n",
    "                        scores[year][movie]={}\n",
    "                        scores[year][movie][\"won\"]=0\n",
    "                        scores[year][movie][\"nom\"]=0\n",
    "                    \n",
    "                    if(all[award][year][0]==movie):\n",
    "                        if movie in scores[year]:\n",
    "                            scores[year][movie][\"won\"]+=1\n",
    "                            scores[year][movie][\"nom\"]+=1\n",
    "\n",
    "                        else:\n",
    "                            scores[year][movie]=5\n",
    "                    else:\n",
    "                        if movie in scores[year]:\n",
    "                            scores[year][movie][\"nom\"]+=1\n",
    "                        else:\n",
    "                            scores[year][movie]=2"
   ]
  },
  {
   "cell_type": "code",
   "execution_count": null,
   "metadata": {
    "collapsed": false,
    "deletable": true,
    "editable": true
   },
   "outputs": [],
   "source": []
  },
  {
   "cell_type": "code",
   "execution_count": null,
   "metadata": {
    "collapsed": false,
    "deletable": true,
    "editable": true
   },
   "outputs": [],
   "source": []
  },
  {
   "cell_type": "code",
   "execution_count": null,
   "metadata": {
    "collapsed": false,
    "deletable": true,
    "editable": true
   },
   "outputs": [],
   "source": []
  },
  {
   "cell_type": "code",
   "execution_count": 17,
   "metadata": {
    "collapsed": false,
    "deletable": true,
    "editable": true
   },
   "outputs": [
    {
     "name": "stdout",
     "output_type": "stream",
     "text": [
      "Hidden Figures ~ Octavia Spencer  | won:  0 | nom:  2 | %:  0.0\n",
      "Lion ~ Nicole Kidman  | won:  0 | nom:  4 | %:  0.0\n",
      "Fences ~ Viola Davis  | won:  4 | nom:  4 | %:  100.0\n",
      "Moonlight ~ Naomie Harris  | won:  0 | nom:  4 | %:  0.0\n",
      "Manchester by the Sea ~ Michelle Williams  | won:  0 | nom:  4 | %:  0.0\n"
     ]
    }
   ],
   "source": [
    "#prints % data from specified year, filters for oscar nominees\n",
    "year=2017\n",
    "for movie in scores[year]:\n",
    "    if movie in oscarsAll[year]:\n",
    "        percent = float(scores[year][movie][\"won\"])/float(scores[year][movie][\"nom\"]) * float(100)\n",
    "        print movie ,\" | won: \", scores[year][movie][\"won\"], \"| nom: \", scores[year][movie][\"nom\"], \"| %: \", percent\n",
    "    #print scores[2016][i]"
   ]
  },
  {
   "cell_type": "code",
   "execution_count": 18,
   "metadata": {
    "collapsed": false,
    "deletable": true,
    "editable": true
   },
   "outputs": [
    {
     "name": "stdout",
     "output_type": "stream",
     "text": [
      "Fences ~ Viola Davis\n",
      "Fences  Viola Davis\n",
      "Moonlight ~ Naomie Harris\n",
      "Moonlight  Naomie Harris\n",
      "Lion ~ Nicole Kidman\n",
      "Lion  Nicole Kidman\n",
      "Hidden Figures ~ Octavia Spencer\n",
      "Hidden Figures  Octavia Spencer\n",
      "Manchester by the Sea ~ Michelle Williams\n",
      "Manchester by the Sea  Michelle Williams\n"
     ]
    }
   ],
   "source": [
    "#oscarsAllREVIEWS\n",
    "import csv\n",
    "with open('sfadata2017.csv', 'wb') as csvfile:\n",
    "    spamwriter = csv.writer(csvfile, delimiter=',', quoting=csv.QUOTE_MINIMAL)\n",
    "    spamwriter.writerow([\"year\", \"movie\",\"actor\", \"wins\", \"noms\", \"%won\", \"oscarwin\", \"globewin\"])\n",
    "    years = [\"1996\",\"1997\",\"1998\",\"1999\",\"2000\",\"2001\",\"2002\",\"2003\",\"2004\",\"2005\",\"2006\",\"2007\",\"2008\",\"2009\",\"2010\",\"2011\",\"2012\",\"2013\",\"2014\",\"2015\",\"2016\"]\n",
    "    years=[\"2017\"]\n",
    "    for year in years:\n",
    "        year=int(year)\n",
    "        counter = 0\n",
    "        \n",
    "        for movie in oscarsAll[year]:\n",
    "            \n",
    "            print(movie)\n",
    "            mList = movie.split(\"~\")\n",
    "            name = mList[0]\n",
    "            actor = mList[1]\n",
    "            if movie == all[\"globes\"][year][0]:\n",
    "                globewin = \"yes\"\n",
    "            else:\n",
    "                globewin = \"no\"\n",
    "            if movie in scores[year]:\n",
    "                wins = (scores[year][movie][\"won\"])\n",
    "                noms = (scores[year][movie][\"nom\"])\n",
    "                percent = float(scores[year][movie][\"won\"])/float(scores[year][movie][\"nom\"]) * float(100)\n",
    "            else: \n",
    "                wins = 0\n",
    "                noms = 0\n",
    "                percent = 0\n",
    "                \n",
    "            if movie == all[\"oscars\"][year][0]:\n",
    "                won = \"yes\"\n",
    "            else:\n",
    "                won = \"no\"\n",
    "                \n",
    "            if \"Les\" in movie:\n",
    "                spamwriter.writerow([year, \"Les Mis\",actor, wins, noms, percent, won, globewin])\n",
    "            elif \" Sevigny\" in actor:\n",
    "                spamwriter.writerow([year, name,\"Chloe Sevigny\", wins, noms, percent, won, globewin])\n",
    "            elif \"e Zellweger\" in actor:\n",
    "                spamwriter.writerow([year, name,\"Renee Zellweger\", wins, noms, percent, won, globewin])\n",
    "            elif \"lope Cruz\" in actor:\n",
    "                spamwriter.writerow([year, name,\"Penelope Cruz\", wins, noms, percent, won, globewin])\n",
    "            elif \"nice Bejo\" in actor:\n",
    "                spamwriter.writerow([year, name,\"Berenice Bejo\", wins, noms, percent, won, globewin])                \n",
    "            else:\n",
    "                print(name+actor)\n",
    "                spamwriter.writerow([year, name,actor, wins, noms, percent, won,globewin])\n",
    "            counter = counter + 1"
   ]
  },
  {
   "cell_type": "code",
   "execution_count": 17,
   "metadata": {
    "collapsed": false,
    "deletable": true,
    "editable": true
   },
   "outputs": [
    {
     "name": "stdout",
     "output_type": "stream",
     "text": [
      "2016\n",
      "1996\n",
      "1997\n",
      "1998\n",
      "1999\n",
      "2000\n",
      "2001\n",
      "2002\n",
      "2003\n",
      "2004\n",
      "2005\n",
      "2006\n",
      "2007\n",
      "2008\n",
      "2009\n",
      "2010\n",
      "2011\n",
      "2012\n",
      "2013\n",
      "2014\n",
      "2015\n",
      "2016\n",
      "1996\n",
      "1997\n",
      "1998\n",
      "1999\n",
      "2000\n",
      "2001\n",
      "2002\n",
      "2003\n",
      "2004\n",
      "2005\n",
      "2006\n",
      "2007\n",
      "2008\n",
      "2009\n",
      "2010\n",
      "2011\n",
      "2012\n",
      "2013\n",
      "2014\n",
      "2015\n",
      "2016\n",
      "1996\n",
      "1997\n",
      "1998\n",
      "1999\n",
      "2000\n",
      "2001\n",
      "2002\n",
      "2003\n",
      "2004\n",
      "2005\n",
      "2006\n",
      "2007\n",
      "2008\n",
      "2009\n",
      "2010\n",
      "2011\n",
      "2012\n",
      "2013\n",
      "2014\n",
      "2015\n",
      "2016\n",
      "1996\n",
      "1997\n",
      "1998\n",
      "1999\n",
      "2000\n",
      "2001\n",
      "2002\n",
      "2003\n",
      "2004\n",
      "2005\n",
      "2006\n",
      "2007\n",
      "2008\n",
      "2009\n",
      "2010\n",
      "2011\n",
      "2012\n",
      "2013\n",
      "2014\n",
      "2015\n",
      "2016\n",
      "1996\n",
      "1997\n",
      "1998\n",
      "1999\n",
      "2000\n",
      "2001\n",
      "2002\n",
      "2003\n",
      "2004\n",
      "2005\n",
      "2006\n",
      "2007\n",
      "2008\n",
      "2009\n",
      "2010\n",
      "2011\n",
      "2012\n",
      "2013\n",
      "2014\n",
      "2015\n",
      "2016\n",
      "1996\n",
      "1997\n",
      "1998\n",
      "1999\n",
      "2000\n",
      "2001\n",
      "2002\n",
      "2003\n",
      "2004\n",
      "2005\n",
      "2006\n",
      "2007\n",
      "2008\n",
      "2009\n",
      "2010\n",
      "2011\n",
      "2012\n",
      "2013\n",
      "2014\n",
      "2015\n"
     ]
    }
   ],
   "source": [
    "for i in all:\n",
    "    for x in all[i]:\n",
    "        print x"
   ]
  }
 ],
 "metadata": {
  "kernelspec": {
   "display_name": "Python 2",
   "language": "python",
   "name": "python2"
  },
  "language_info": {
   "codemirror_mode": {
    "name": "ipython",
    "version": 2
   },
   "file_extension": ".py",
   "mimetype": "text/x-python",
   "name": "python",
   "nbconvert_exporter": "python",
   "pygments_lexer": "ipython2",
   "version": "2.7.13"
  }
 },
 "nbformat": 4,
 "nbformat_minor": 2
}
